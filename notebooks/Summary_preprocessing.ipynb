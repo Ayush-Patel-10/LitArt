{
 "cells": [
  {
   "cell_type": "code",
   "execution_count": 73,
   "id": "5768f9ab-ac6a-4100-a583-684e9021a9fe",
   "metadata": {
    "pycharm": {
     "name": "#%%\n"
    }
   },
   "outputs": [
    {
     "name": "stdout",
     "output_type": "stream",
     "text": [
      "Defaulting to user installation because normal site-packages is not writeable\n",
      "Requirement already satisfied: datasets in ./.local/lib/python3.8/site-packages (2.17.0)\n",
      "Requirement already satisfied: aiohttp in ./.local/lib/python3.8/site-packages (from datasets) (3.9.3)\n",
      "Requirement already satisfied: pandas in /shared/centos7/anaconda3/2021.05/lib/python3.8/site-packages (from datasets) (1.2.4)\n",
      "Requirement already satisfied: dill<0.3.9,>=0.3.0 in ./.local/lib/python3.8/site-packages (from datasets) (0.3.8)\n",
      "Requirement already satisfied: filelock in /shared/centos7/anaconda3/2021.05/lib/python3.8/site-packages (from datasets) (3.0.12)\n",
      "Requirement already satisfied: tqdm>=4.62.1 in ./.local/lib/python3.8/site-packages (from datasets) (4.66.2)\n",
      "Requirement already satisfied: fsspec[http]<=2023.10.0,>=2023.1.0 in ./.local/lib/python3.8/site-packages (from datasets) (2023.10.0)\n",
      "Requirement already satisfied: huggingface-hub>=0.19.4 in ./.local/lib/python3.8/site-packages (from datasets) (0.20.3)\n",
      "Requirement already satisfied: packaging in /shared/centos7/anaconda3/2021.05/lib/python3.8/site-packages (from datasets) (20.9)\n",
      "Requirement already satisfied: multiprocess in ./.local/lib/python3.8/site-packages (from datasets) (0.70.16)\n",
      "Requirement already satisfied: pyyaml>=5.1 in /shared/centos7/anaconda3/2021.05/lib/python3.8/site-packages (from datasets) (5.4.1)\n",
      "Requirement already satisfied: numpy>=1.17 in /shared/centos7/anaconda3/2021.05/lib/python3.8/site-packages (from datasets) (1.20.1)\n",
      "Requirement already satisfied: pyarrow-hotfix in ./.local/lib/python3.8/site-packages (from datasets) (0.6)\n",
      "Requirement already satisfied: pyarrow>=12.0.0 in ./.local/lib/python3.8/site-packages (from datasets) (15.0.0)\n",
      "Requirement already satisfied: xxhash in ./.local/lib/python3.8/site-packages (from datasets) (3.4.1)\n",
      "Requirement already satisfied: requests>=2.19.0 in /shared/centos7/anaconda3/2021.05/lib/python3.8/site-packages (from datasets) (2.25.1)\n",
      "Requirement already satisfied: multidict<7.0,>=4.5 in ./.local/lib/python3.8/site-packages (from aiohttp->datasets) (6.0.5)\n",
      "Requirement already satisfied: async-timeout<5.0,>=4.0 in ./.local/lib/python3.8/site-packages (from aiohttp->datasets) (4.0.3)\n",
      "Requirement already satisfied: yarl<2.0,>=1.0 in ./.local/lib/python3.8/site-packages (from aiohttp->datasets) (1.9.4)\n",
      "Requirement already satisfied: aiosignal>=1.1.2 in ./.local/lib/python3.8/site-packages (from aiohttp->datasets) (1.3.1)\n",
      "Requirement already satisfied: frozenlist>=1.1.1 in ./.local/lib/python3.8/site-packages (from aiohttp->datasets) (1.4.1)\n",
      "Requirement already satisfied: attrs>=17.3.0 in /shared/centos7/anaconda3/2021.05/lib/python3.8/site-packages (from aiohttp->datasets) (20.3.0)\n",
      "Requirement already satisfied: typing-extensions>=3.7.4.3 in ./.local/lib/python3.8/site-packages (from huggingface-hub>=0.19.4->datasets) (4.9.0)\n",
      "Requirement already satisfied: pyparsing>=2.0.2 in /shared/centos7/anaconda3/2021.05/lib/python3.8/site-packages (from packaging->datasets) (2.4.7)\n",
      "Requirement already satisfied: chardet<5,>=3.0.2 in /shared/centos7/anaconda3/2021.05/lib/python3.8/site-packages (from requests>=2.19.0->datasets) (4.0.0)\n",
      "Requirement already satisfied: idna<3,>=2.5 in /shared/centos7/anaconda3/2021.05/lib/python3.8/site-packages (from requests>=2.19.0->datasets) (2.10)\n",
      "Requirement already satisfied: urllib3<1.27,>=1.21.1 in /shared/centos7/anaconda3/2021.05/lib/python3.8/site-packages (from requests>=2.19.0->datasets) (1.26.4)\n",
      "Requirement already satisfied: certifi>=2017.4.17 in /shared/centos7/anaconda3/2021.05/lib/python3.8/site-packages (from requests>=2.19.0->datasets) (2020.12.5)\n",
      "Requirement already satisfied: python-dateutil>=2.7.3 in /shared/centos7/anaconda3/2021.05/lib/python3.8/site-packages (from pandas->datasets) (2.8.1)\n",
      "Requirement already satisfied: pytz>=2017.3 in /shared/centos7/anaconda3/2021.05/lib/python3.8/site-packages (from pandas->datasets) (2021.1)\n",
      "Requirement already satisfied: six>=1.5 in /shared/centos7/anaconda3/2021.05/lib/python3.8/site-packages (from python-dateutil>=2.7.3->pandas->datasets) (1.15.0)\n"
     ]
    }
   ],
   "source": [
    "!pip install datasets"
   ]
  },
  {
   "cell_type": "code",
   "execution_count": 49,
   "id": "21089cd7-9046-430f-a9de-0e206e535b50",
   "metadata": {
    "pycharm": {
     "name": "#%%\n"
    }
   },
   "outputs": [],
   "source": [
    "import pandas as pd\n",
    "import numpy as np\n",
    "import re"
   ]
  },
  {
   "cell_type": "code",
   "execution_count": 50,
   "id": "7d254bb8-0311-4137-85a1-5ef8c0f0497d",
   "metadata": {
    "pycharm": {
     "name": "#%%\n"
    }
   },
   "outputs": [],
   "source": [
    "from datasets import load_dataset\n",
    "data = load_dataset(\"kmfoda/booksum\")"
   ]
  },
  {
   "cell_type": "code",
   "execution_count": 101,
   "id": "fa9c12f2-72c6-4e6c-8209-f34a10dbb02e",
   "metadata": {
    "pycharm": {
     "name": "#%%\n"
    }
   },
   "outputs": [],
   "source": [
    "train_df = data['train'].to_pandas()\n",
    "validation_df = data['validation'].to_pandas()\n",
    "test_df = data['test'].to_pandas()\n",
    "combined_df = pd.concat([train_df, validation_df, test_df], ignore_index=True)\n"
   ]
  },
  {
   "cell_type": "code",
   "execution_count": 104,
   "id": "5fd0fd66-cd83-4f9b-a11f-7299c404c4a8",
   "metadata": {
    "pycharm": {
     "name": "#%%\n"
    }
   },
   "outputs": [],
   "source": [
    "def pre_processing(sentence):\n",
    "    #lower text\n",
    "    sentence = sentence.lower()\n",
    "\n",
    "    pattern = r\"\\s*\\([a-zA-Z]\\s_\\)\"\n",
    "    sentence = re.sub(pattern, \"\", sentence)\n",
    "        \n",
    "    sentence = sentence.replace(\"\\n\",\" \")\n",
    "    \n",
    "    # replacing everything with space  \n",
    "    sentence = re.sub(r\"[=.!,¿?.!+,;¿/:|%()<>।॰{}#_'\\\"@$^&*']\", \" \", sentence)\n",
    "    sentence = re.sub(r\"…\", \" \", sentence)\n",
    "    \n",
    "    #remove double quotes\n",
    "    sentence = re.sub(r'\"', \" \", sentence)\n",
    "    \n",
    "    #remove numbers\n",
    "    sentence = re.sub(r'[0-9]', \"\", sentence)\n",
    "    #sentence = re.sub(r'#([^s]+)', r'1', sentence)\n",
    "    \n",
    "    #remove website links\n",
    "    sentence = re.sub('((www.[^s]+)|(https?://[^s]+))','',sentence)\n",
    "    \n",
    "    #remove @anythin here\n",
    "    #sentence = re.sub('@[^s]+','',sentence)\n",
    "    \n",
    "    #remove multiple spaces\n",
    "    sentence = re.sub(r'[\" \"]+', \" \", sentence)\n",
    "    \n",
    "    # remove extra space\n",
    "    sentence = sentence.strip()\n",
    "    \n",
    "    return sentence\n",
    "\n"
   ]
  },
  {
   "cell_type": "code",
   "execution_count": 105,
   "id": "0be4d856-f147-433e-97dd-19bfd393f9fa",
   "metadata": {
    "pycharm": {
     "name": "#%%\n"
    }
   },
   "outputs": [
    {
     "data": {
      "text/html": [
       "<div>\n",
       "<style scoped>\n",
       "    .dataframe tbody tr th:only-of-type {\n",
       "        vertical-align: middle;\n",
       "    }\n",
       "\n",
       "    .dataframe tbody tr th {\n",
       "        vertical-align: top;\n",
       "    }\n",
       "\n",
       "    .dataframe thead th {\n",
       "        text-align: right;\n",
       "    }\n",
       "</style>\n",
       "<table border=\"1\" class=\"dataframe\">\n",
       "  <thead>\n",
       "    <tr style=\"text-align: right;\">\n",
       "      <th></th>\n",
       "      <th>bid</th>\n",
       "      <th>chapter_path</th>\n",
       "      <th>summary_path</th>\n",
       "      <th>book_id</th>\n",
       "      <th>summary_id</th>\n",
       "      <th>chapter</th>\n",
       "      <th>summary_text</th>\n",
       "      <th>chapter_length</th>\n",
       "      <th>summary_name</th>\n",
       "      <th>summary_length</th>\n",
       "    </tr>\n",
       "  </thead>\n",
       "  <tbody>\n",
       "    <tr>\n",
       "      <th>0</th>\n",
       "      <td>27681</td>\n",
       "      <td>all_chapterized_books/27681-chapters/chapters_...</td>\n",
       "      <td>finished_summaries/cliffnotes/The Last of the ...</td>\n",
       "      <td>The Last of the Mohicans.chapters 1-2</td>\n",
       "      <td>chapters 1-2</td>\n",
       "      <td>\\n  \"Mine ear is open, and my heart prepared:\\...</td>\n",
       "      <td>Before any characters appear, the time and geo...</td>\n",
       "      <td>6471.0</td>\n",
       "      <td>Chapters 1-2</td>\n",
       "      <td>388.0</td>\n",
       "    </tr>\n",
       "    <tr>\n",
       "      <th>1</th>\n",
       "      <td>27681</td>\n",
       "      <td>all_chapterized_books/27681-chapters/03.txt</td>\n",
       "      <td>finished_summaries/cliffnotes/The Last of the ...</td>\n",
       "      <td>The Last of the Mohicans.chapter 3</td>\n",
       "      <td>chapter 3</td>\n",
       "      <td>\\n  \"Before these fields were shorn and tilled...</td>\n",
       "      <td>In another part of the forest by the river a f...</td>\n",
       "      <td>3132.0</td>\n",
       "      <td>Chapter 3</td>\n",
       "      <td>198.0</td>\n",
       "    </tr>\n",
       "    <tr>\n",
       "      <th>2</th>\n",
       "      <td>27681</td>\n",
       "      <td>all_chapterized_books/27681-chapters/04.txt</td>\n",
       "      <td>finished_summaries/cliffnotes/The Last of the ...</td>\n",
       "      <td>The Last of the Mohicans.chapter 4</td>\n",
       "      <td>chapter 4</td>\n",
       "      <td>\\n  \"Well, go thy way: thou shalt not from thi...</td>\n",
       "      <td>When the mounted party from Fort Howard approa...</td>\n",
       "      <td>3075.0</td>\n",
       "      <td>Chapter 4</td>\n",
       "      <td>319.0</td>\n",
       "    </tr>\n",
       "    <tr>\n",
       "      <th>3</th>\n",
       "      <td>27681</td>\n",
       "      <td>all_chapterized_books/27681-chapters/05.txt</td>\n",
       "      <td>finished_summaries/cliffnotes/The Last of the ...</td>\n",
       "      <td>The Last of the Mohicans.chapter 5</td>\n",
       "      <td>chapter 5</td>\n",
       "      <td>\\n                      \"In such a night\\n  Di...</td>\n",
       "      <td>The pursuit of Magua is unsuccessful, but Hawk...</td>\n",
       "      <td>3268.0</td>\n",
       "      <td>Chapter 5</td>\n",
       "      <td>329.0</td>\n",
       "    </tr>\n",
       "    <tr>\n",
       "      <th>4</th>\n",
       "      <td>27681</td>\n",
       "      <td>all_chapterized_books/27681-chapters/06.txt</td>\n",
       "      <td>finished_summaries/cliffnotes/The Last of the ...</td>\n",
       "      <td>The Last of the Mohicans.chapter 6</td>\n",
       "      <td>chapter 6</td>\n",
       "      <td>\\n  \"Those strains that once did sweet in Zion...</td>\n",
       "      <td>Heyward and the girls are uneasy and Gamut is ...</td>\n",
       "      <td>3873.0</td>\n",
       "      <td>Chapter 6</td>\n",
       "      <td>321.0</td>\n",
       "    </tr>\n",
       "  </tbody>\n",
       "</table>\n",
       "</div>"
      ],
      "text/plain": [
       "     bid                                       chapter_path  \\\n",
       "0  27681  all_chapterized_books/27681-chapters/chapters_...   \n",
       "1  27681        all_chapterized_books/27681-chapters/03.txt   \n",
       "2  27681        all_chapterized_books/27681-chapters/04.txt   \n",
       "3  27681        all_chapterized_books/27681-chapters/05.txt   \n",
       "4  27681        all_chapterized_books/27681-chapters/06.txt   \n",
       "\n",
       "                                        summary_path  \\\n",
       "0  finished_summaries/cliffnotes/The Last of the ...   \n",
       "1  finished_summaries/cliffnotes/The Last of the ...   \n",
       "2  finished_summaries/cliffnotes/The Last of the ...   \n",
       "3  finished_summaries/cliffnotes/The Last of the ...   \n",
       "4  finished_summaries/cliffnotes/The Last of the ...   \n",
       "\n",
       "                                 book_id    summary_id  \\\n",
       "0  The Last of the Mohicans.chapters 1-2  chapters 1-2   \n",
       "1     The Last of the Mohicans.chapter 3     chapter 3   \n",
       "2     The Last of the Mohicans.chapter 4     chapter 4   \n",
       "3     The Last of the Mohicans.chapter 5     chapter 5   \n",
       "4     The Last of the Mohicans.chapter 6     chapter 6   \n",
       "\n",
       "                                             chapter  \\\n",
       "0  \\n  \"Mine ear is open, and my heart prepared:\\...   \n",
       "1  \\n  \"Before these fields were shorn and tilled...   \n",
       "2  \\n  \"Well, go thy way: thou shalt not from thi...   \n",
       "3  \\n                      \"In such a night\\n  Di...   \n",
       "4  \\n  \"Those strains that once did sweet in Zion...   \n",
       "\n",
       "                                        summary_text  chapter_length  \\\n",
       "0  Before any characters appear, the time and geo...          6471.0   \n",
       "1  In another part of the forest by the river a f...          3132.0   \n",
       "2  When the mounted party from Fort Howard approa...          3075.0   \n",
       "3  The pursuit of Magua is unsuccessful, but Hawk...          3268.0   \n",
       "4  Heyward and the girls are uneasy and Gamut is ...          3873.0   \n",
       "\n",
       "   summary_name  summary_length  \n",
       "0  Chapters 1-2           388.0  \n",
       "1     Chapter 3           198.0  \n",
       "2     Chapter 4           319.0  \n",
       "3     Chapter 5           329.0  \n",
       "4     Chapter 6           321.0  "
      ]
     },
     "execution_count": 105,
     "metadata": {},
     "output_type": "execute_result"
    }
   ],
   "source": [
    "required_columns = ['bid', 'chapter_path', 'summary_path', 'book_id', 'summary_id',\n",
    "                    'chapter', 'summary_text', 'chapter_length', 'summary_name', 'summary_length']\n",
    "\n",
    "df = combined_df[required_columns]\n",
    "\n",
    "df.head()"
   ]
  },
  {
   "cell_type": "code",
   "execution_count": 108,
   "id": "08e52d46-955a-4d31-826c-588e93d5b5ae",
   "metadata": {
    "pycharm": {
     "name": "#%%\n"
    }
   },
   "outputs": [
    {
     "name": "stderr",
     "output_type": "stream",
     "text": [
      "<ipython-input-108-97f1628ef439>:1: SettingWithCopyWarning: \n",
      "A value is trying to be set on a copy of a slice from a DataFrame.\n",
      "Try using .loc[row_indexer,col_indexer] = value instead\n",
      "\n",
      "See the caveats in the documentation: https://pandas.pydata.org/pandas-docs/stable/user_guide/indexing.html#returning-a-view-versus-a-copy\n",
      "  df['summary_text'] = df['summary_text'].apply(lambda x: pre_processing(x))\n"
     ]
    }
   ],
   "source": [
    "df['summary_text'] = df['summary_text'].apply(lambda x: pre_processing(x))\n",
    "\n"
   ]
  },
  {
   "cell_type": "code",
   "execution_count": 109,
   "id": "28ef22d4-4f4b-41a5-9ef7-cd9ec60e6e91",
   "metadata": {
    "pycharm": {
     "name": "#%%\n"
    }
   },
   "outputs": [
    {
     "name": "stderr",
     "output_type": "stream",
     "text": [
      "<ipython-input-109-bcc53cf692cb>:1: SettingWithCopyWarning: \n",
      "A value is trying to be set on a copy of a slice from a DataFrame.\n",
      "Try using .loc[row_indexer,col_indexer] = value instead\n",
      "\n",
      "See the caveats in the documentation: https://pandas.pydata.org/pandas-docs/stable/user_guide/indexing.html#returning-a-view-versus-a-copy\n",
      "  df['chapter'] = df['chapter'].apply(lambda x: pre_processing(x))\n"
     ]
    }
   ],
   "source": [
    "df['summary_text'] = df['chapter'].apply(lambda x: pre_processing(x))\n",
    "\n"
   ]
  },
  {
   "cell_type": "code",
   "execution_count": null,
   "id": "3b400d65-4040-487e-a2a3-5034907bfcca",
   "metadata": {
    "pycharm": {
     "name": "#%%\n"
    }
   },
   "outputs": [],
   "source": []
  },
  {
   "cell_type": "code",
   "execution_count": null,
   "id": "a68784b3-2492-482d-a4e5-eba5ccd59ec1",
   "metadata": {
    "pycharm": {
     "name": "#%%\n"
    }
   },
   "outputs": [],
   "source": []
  },
  {
   "cell_type": "code",
   "execution_count": null,
   "id": "ebdb70ef-25bc-451d-a5af-920eef6458e3",
   "metadata": {
    "pycharm": {
     "name": "#%%\n"
    }
   },
   "outputs": [],
   "source": []
  },
  {
   "cell_type": "code",
   "execution_count": null,
   "id": "1f224d14-839b-4eba-a0bd-c6cb8b95919b",
   "metadata": {
    "pycharm": {
     "name": "#%%\n"
    }
   },
   "outputs": [],
   "source": []
  }
 ],
 "metadata": {
  "kernelspec": {
   "display_name": "Python 3",
   "language": "python",
   "name": "python3"
  },
  "language_info": {
   "codemirror_mode": {
    "name": "ipython",
    "version": 3
   },
   "file_extension": ".py",
   "mimetype": "text/x-python",
   "name": "python",
   "nbconvert_exporter": "python",
   "pygments_lexer": "ipython3",
   "version": "3.8.8"
  }
 },
 "nbformat": 4,
 "nbformat_minor": 5
}