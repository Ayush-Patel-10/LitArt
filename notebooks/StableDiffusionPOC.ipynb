{
 "cells": [
  {
   "cell_type": "code",
   "execution_count": 2,
   "id": "7d5f9681",
   "metadata": {},
   "outputs": [],
   "source": [
    "import os\n",
    "import shutil\n",
    "import glob\n",
    "import matplotlib.pyplot as plt\n",
    "import pandas as pd\n",
    "\n",
    "import torch"
   ]
  },
  {
   "cell_type": "code",
   "execution_count": 3,
   "id": "d9ea06d7",
   "metadata": {},
   "outputs": [
    {
     "name": "stdout",
     "output_type": "stream",
     "text": [
      "Using device: cuda:0\n"
     ]
    }
   ],
   "source": [
    "if torch.cuda.is_available():\n",
    "    device = torch.cuda.current_device()\n",
    "    print(f\"Using device: cuda:{device}\")\n",
    "else:\n",
    "    print(\"No GPU available\")"
   ]
  },
  {
   "cell_type": "code",
   "execution_count": 41,
   "id": "df040415-3177-44a0-9f47-5a9ec5e3a1af",
   "metadata": {},
   "outputs": [],
   "source": [
    "img_paths = glob.glob(\"/work/LitArt/data/images/*\")"
   ]
  },
  {
   "cell_type": "code",
   "execution_count": 5,
   "id": "4f76a4a8",
   "metadata": {},
   "outputs": [],
   "source": [
    "img_data = pd.read_csv(\"/work/LitArt/data/images_segregated/resolution_100/Fantasy.csv\")"
   ]
  },
  {
   "cell_type": "code",
   "execution_count": 7,
   "id": "02a15367",
   "metadata": {},
   "outputs": [
    {
     "data": {
      "text/html": [
       "<div>\n",
       "<style scoped>\n",
       "    .dataframe tbody tr th:only-of-type {\n",
       "        vertical-align: middle;\n",
       "    }\n",
       "\n",
       "    .dataframe tbody tr th {\n",
       "        vertical-align: top;\n",
       "    }\n",
       "\n",
       "    .dataframe thead th {\n",
       "        text-align: right;\n",
       "    }\n",
       "</style>\n",
       "<table border=\"1\" class=\"dataframe\">\n",
       "  <thead>\n",
       "    <tr style=\"text-align: right;\">\n",
       "      <th></th>\n",
       "      <th>ID</th>\n",
       "      <th>URI</th>\n",
       "      <th>Title</th>\n",
       "      <th>Author</th>\n",
       "      <th>Publication Date</th>\n",
       "      <th>Genres</th>\n",
       "      <th>Synopsis</th>\n",
       "      <th>URL</th>\n",
       "      <th>isImageAvailable</th>\n",
       "      <th>imageLocation</th>\n",
       "    </tr>\n",
       "  </thead>\n",
       "  <tbody>\n",
       "    <tr>\n",
       "      <th>0</th>\n",
       "      <td>10862</td>\n",
       "      <td>/m/02y0x</td>\n",
       "      <td>The Metamorphosis</td>\n",
       "      <td>NaN</td>\n",
       "      <td>1915</td>\n",
       "      <td>Children's literature, Absurdist fiction, Nove...</td>\n",
       "      <td>One day Gregor Samsa, a traveling salesman, w...</td>\n",
       "      <td>https://www.goodreads.com/book/show/485894.The...</td>\n",
       "      <td>True</td>\n",
       "      <td>/work/LitArt/data/images_segregated/resolution...</td>\n",
       "    </tr>\n",
       "    <tr>\n",
       "      <th>1</th>\n",
       "      <td>42572</td>\n",
       "      <td>/m/0bpn5</td>\n",
       "      <td>The Eye of the World</td>\n",
       "      <td>Robert Jordan</td>\n",
       "      <td>1990-01-15</td>\n",
       "      <td>Speculative fiction, Fantasy, High fantasy</td>\n",
       "      <td>The Eye of the World revolves around the live...</td>\n",
       "      <td>https://www.goodreads.com/book/show/228665.The...</td>\n",
       "      <td>True</td>\n",
       "      <td>/work/LitArt/data/images_segregated/resolution...</td>\n",
       "    </tr>\n",
       "    <tr>\n",
       "      <th>2</th>\n",
       "      <td>42573</td>\n",
       "      <td>/m/0bpnk</td>\n",
       "      <td>The Great Hunt</td>\n",
       "      <td>Robert Jordan</td>\n",
       "      <td>1990-11-15</td>\n",
       "      <td>Speculative fiction, Fantasy</td>\n",
       "      <td>Ba'alzamon presides over a clandestine meetin...</td>\n",
       "      <td>https://www.goodreads.com/book/show/233649.The...</td>\n",
       "      <td>True</td>\n",
       "      <td>/work/LitArt/data/images_segregated/resolution...</td>\n",
       "    </tr>\n",
       "    <tr>\n",
       "      <th>3</th>\n",
       "      <td>42575</td>\n",
       "      <td>/m/0bpp8</td>\n",
       "      <td>Winter's Heart</td>\n",
       "      <td>Robert Jordan</td>\n",
       "      <td>2000-11-07</td>\n",
       "      <td>Speculative fiction, Fantasy</td>\n",
       "      <td>Many of the events of Winter's Heart take pla...</td>\n",
       "      <td>https://www.goodreads.com/book/show/13891.Wint...</td>\n",
       "      <td>True</td>\n",
       "      <td>/work/LitArt/data/images_segregated/resolution...</td>\n",
       "    </tr>\n",
       "    <tr>\n",
       "      <th>4</th>\n",
       "      <td>52853</td>\n",
       "      <td>/m/0dwms</td>\n",
       "      <td>Alice's Adventures in Wonderland</td>\n",
       "      <td>Lewis Carroll</td>\n",
       "      <td>1865-11-26</td>\n",
       "      <td>Children's literature, Fantasy, Speculative fi...</td>\n",
       "      <td>Chapter 1 – Down the Rabbit Hole: Alice is fe...</td>\n",
       "      <td>https://www.goodreads.com/book/show/24213.Alic...</td>\n",
       "      <td>True</td>\n",
       "      <td>/work/LitArt/data/images_segregated/resolution...</td>\n",
       "    </tr>\n",
       "  </tbody>\n",
       "</table>\n",
       "</div>"
      ],
      "text/plain": [
       "      ID       URI                             Title         Author  \\\n",
       "0  10862  /m/02y0x                 The Metamorphosis            NaN   \n",
       "1  42572  /m/0bpn5              The Eye of the World  Robert Jordan   \n",
       "2  42573  /m/0bpnk                    The Great Hunt  Robert Jordan   \n",
       "3  42575  /m/0bpp8                    Winter's Heart  Robert Jordan   \n",
       "4  52853  /m/0dwms  Alice's Adventures in Wonderland  Lewis Carroll   \n",
       "\n",
       "  Publication Date                                             Genres  \\\n",
       "0             1915  Children's literature, Absurdist fiction, Nove...   \n",
       "1       1990-01-15         Speculative fiction, Fantasy, High fantasy   \n",
       "2       1990-11-15                       Speculative fiction, Fantasy   \n",
       "3       2000-11-07                       Speculative fiction, Fantasy   \n",
       "4       1865-11-26  Children's literature, Fantasy, Speculative fi...   \n",
       "\n",
       "                                            Synopsis  \\\n",
       "0   One day Gregor Samsa, a traveling salesman, w...   \n",
       "1   The Eye of the World revolves around the live...   \n",
       "2   Ba'alzamon presides over a clandestine meetin...   \n",
       "3   Many of the events of Winter's Heart take pla...   \n",
       "4   Chapter 1 – Down the Rabbit Hole: Alice is fe...   \n",
       "\n",
       "                                                 URL  isImageAvailable  \\\n",
       "0  https://www.goodreads.com/book/show/485894.The...              True   \n",
       "1  https://www.goodreads.com/book/show/228665.The...              True   \n",
       "2  https://www.goodreads.com/book/show/233649.The...              True   \n",
       "3  https://www.goodreads.com/book/show/13891.Wint...              True   \n",
       "4  https://www.goodreads.com/book/show/24213.Alic...              True   \n",
       "\n",
       "                                       imageLocation  \n",
       "0  /work/LitArt/data/images_segregated/resolution...  \n",
       "1  /work/LitArt/data/images_segregated/resolution...  \n",
       "2  /work/LitArt/data/images_segregated/resolution...  \n",
       "3  /work/LitArt/data/images_segregated/resolution...  \n",
       "4  /work/LitArt/data/images_segregated/resolution...  "
      ]
     },
     "execution_count": 7,
     "metadata": {},
     "output_type": "execute_result"
    }
   ],
   "source": [
    "img_data.head()"
   ]
  },
  {
   "cell_type": "code",
   "execution_count": 7,
   "id": "f63ffd8c",
   "metadata": {},
   "outputs": [],
   "source": [
    "img_data['synopsis_length'] = img_data.Synopsis.apply(lambda x:len(x.split()))"
   ]
  },
  {
   "cell_type": "code",
   "execution_count": 8,
   "id": "c09a788b",
   "metadata": {},
   "outputs": [
    {
     "data": {
      "text/plain": [
       "<Axes: ylabel='Frequency'>"
      ]
     },
     "execution_count": 8,
     "metadata": {},
     "output_type": "execute_result"
    },
    {
     "data": {
      "image/png": "[encoded data removed]",
      "text/plain": [
       "<Figure size 640x480 with 1 Axes>"
      ]
     },
     "metadata": {},
     "output_type": "display_data"
    }
   ],
   "source": [
    "img_data.synopsis_length.plot(kind='hist')"
   ]
  },
  {
   "cell_type": "markdown",
   "id": "94a9608a",
   "metadata": {},
   "source": [
    "## Data Creation"
   ]
  },
  {
   "cell_type": "code",
   "execution_count": 9,
   "id": "d3101edb",
   "metadata": {},
   "outputs": [
    {
     "name": "stdout",
     "output_type": "stream",
     "text": [
      "11.64021164021164% summaries have a length under 100 words and more than 10\n"
     ]
    }
   ],
   "source": [
    "print(f\"{len(img_data[(img_data.synopsis_length<100)&(img_data.synopsis_length>10)])/len(img_data)*100}% summaries have a length under 100 words and more than 10\")"
   ]
  },
  {
   "cell_type": "code",
   "execution_count": 10,
   "id": "d0eb1211",
   "metadata": {},
   "outputs": [],
   "source": [
    "## Trimming dataset to have summaries with length greater than 10 and less than 100\n",
    "\n",
    "data_subset = img_data[(img_data.synopsis_length<100)&(img_data.synopsis_length>10)]"
   ]
  },
  {
   "cell_type": "code",
   "execution_count": 11,
   "id": "943561de",
   "metadata": {},
   "outputs": [
    {
     "data": {
      "text/html": [
       "<div>\n",
       "<style scoped>\n",
       "    .dataframe tbody tr th:only-of-type {\n",
       "        vertical-align: middle;\n",
       "    }\n",
       "\n",
       "    .dataframe tbody tr th {\n",
       "        vertical-align: top;\n",
       "    }\n",
       "\n",
       "    .dataframe thead th {\n",
       "        text-align: right;\n",
       "    }\n",
       "</style>\n",
       "<table border=\"1\" class=\"dataframe\">\n",
       "  <thead>\n",
       "    <tr style=\"text-align: right;\">\n",
       "      <th></th>\n",
       "      <th>ID</th>\n",
       "      <th>URI</th>\n",
       "      <th>Title</th>\n",
       "      <th>Author</th>\n",
       "      <th>Publication Date</th>\n",
       "      <th>Genres</th>\n",
       "      <th>Synopsis</th>\n",
       "      <th>URL</th>\n",
       "      <th>isImageAvailable</th>\n",
       "      <th>imageLocation</th>\n",
       "      <th>synopsis_length</th>\n",
       "    </tr>\n",
       "  </thead>\n",
       "  <tbody>\n",
       "    <tr>\n",
       "      <th>92</th>\n",
       "      <td>269878</td>\n",
       "      <td>/m/01ns5b</td>\n",
       "      <td>Blood of Amber</td>\n",
       "      <td>Roger Zelazny</td>\n",
       "      <td>1986</td>\n",
       "      <td>Speculative fiction, Fantasy</td>\n",
       "      <td>Merlin escapes from the crystal cave, and dec...</td>\n",
       "      <td>https://www.goodreads.com/book/show/239924.Blo...</td>\n",
       "      <td>True</td>\n",
       "      <td>/work/LitArt/data/images/Blood_of_Amber-Roger_...</td>\n",
       "      <td>63</td>\n",
       "    </tr>\n",
       "    <tr>\n",
       "      <th>94</th>\n",
       "      <td>269893</td>\n",
       "      <td>/m/01ns8r</td>\n",
       "      <td>Prince of Chaos</td>\n",
       "      <td>Roger Zelazny</td>\n",
       "      <td>1991-11</td>\n",
       "      <td>Speculative fiction, Fantasy</td>\n",
       "      <td>Merlin returns to his birthplace in the Court...</td>\n",
       "      <td>https://www.goodreads.com/book/show/61994.Prin...</td>\n",
       "      <td>True</td>\n",
       "      <td>/work/LitArt/data/images/Prince_of_Chaos-Roger...</td>\n",
       "      <td>82</td>\n",
       "    </tr>\n",
       "    <tr>\n",
       "      <th>113</th>\n",
       "      <td>342518</td>\n",
       "      <td>/m/01y8vz</td>\n",
       "      <td>Gilgamesh the King</td>\n",
       "      <td>Robert Silverberg</td>\n",
       "      <td>1984</td>\n",
       "      <td>Speculative fiction, Fantasy</td>\n",
       "      <td>The novel is told from the point of view of G...</td>\n",
       "      <td>https://www.goodreads.com/book/show/768871.Gil...</td>\n",
       "      <td>True</td>\n",
       "      <td>/work/LitArt/data/images/Gilgamesh_the_King-Ro...</td>\n",
       "      <td>84</td>\n",
       "    </tr>\n",
       "    <tr>\n",
       "      <th>116</th>\n",
       "      <td>352250</td>\n",
       "      <td>/m/01zf5s</td>\n",
       "      <td>The Plague Dogs</td>\n",
       "      <td>Richard Adams</td>\n",
       "      <td>1977-09-22</td>\n",
       "      <td>Speculative fiction, Fantasy, Fiction</td>\n",
       "      <td>This book tells of the escape of two dogs, Ro...</td>\n",
       "      <td>https://www.goodreads.com/book/show/12442.The_...</td>\n",
       "      <td>True</td>\n",
       "      <td>/work/LitArt/data/images/The_Plague_Dogs-Richa...</td>\n",
       "      <td>97</td>\n",
       "    </tr>\n",
       "    <tr>\n",
       "      <th>138</th>\n",
       "      <td>421290</td>\n",
       "      <td>/m/026h6d</td>\n",
       "      <td>The Story of the Stone</td>\n",
       "      <td>Barry Hughart</td>\n",
       "      <td>1988</td>\n",
       "      <td>Speculative fiction, Fantasy</td>\n",
       "      <td>The abbot of a humble monastery in the Valley...</td>\n",
       "      <td>https://www.goodreads.com/book/show/139874.The...</td>\n",
       "      <td>True</td>\n",
       "      <td>/work/LitArt/data/images/The_Story_of_the_Ston...</td>\n",
       "      <td>81</td>\n",
       "    </tr>\n",
       "  </tbody>\n",
       "</table>\n",
       "</div>"
      ],
      "text/plain": [
       "         ID        URI                   Title             Author  \\\n",
       "92   269878  /m/01ns5b          Blood of Amber      Roger Zelazny   \n",
       "94   269893  /m/01ns8r         Prince of Chaos      Roger Zelazny   \n",
       "113  342518  /m/01y8vz      Gilgamesh the King  Robert Silverberg   \n",
       "116  352250  /m/01zf5s         The Plague Dogs      Richard Adams   \n",
       "138  421290  /m/026h6d  The Story of the Stone      Barry Hughart   \n",
       "\n",
       "    Publication Date                                 Genres  \\\n",
       "92              1986           Speculative fiction, Fantasy   \n",
       "94           1991-11           Speculative fiction, Fantasy   \n",
       "113             1984           Speculative fiction, Fantasy   \n",
       "116       1977-09-22  Speculative fiction, Fantasy, Fiction   \n",
       "138             1988           Speculative fiction, Fantasy   \n",
       "\n",
       "                                              Synopsis  \\\n",
       "92    Merlin escapes from the crystal cave, and dec...   \n",
       "94    Merlin returns to his birthplace in the Court...   \n",
       "113   The novel is told from the point of view of G...   \n",
       "116   This book tells of the escape of two dogs, Ro...   \n",
       "138   The abbot of a humble monastery in the Valley...   \n",
       "\n",
       "                                                   URL  isImageAvailable  \\\n",
       "92   https://www.goodreads.com/book/show/239924.Blo...              True   \n",
       "94   https://www.goodreads.com/book/show/61994.Prin...              True   \n",
       "113  https://www.goodreads.com/book/show/768871.Gil...              True   \n",
       "116  https://www.goodreads.com/book/show/12442.The_...              True   \n",
       "138  https://www.goodreads.com/book/show/139874.The...              True   \n",
       "\n",
       "                                         imageLocation  synopsis_length  \n",
       "92   /work/LitArt/data/images/Blood_of_Amber-Roger_...               63  \n",
       "94   /work/LitArt/data/images/Prince_of_Chaos-Roger...               82  \n",
       "113  /work/LitArt/data/images/Gilgamesh_the_King-Ro...               84  \n",
       "116  /work/LitArt/data/images/The_Plague_Dogs-Richa...               97  \n",
       "138  /work/LitArt/data/images/The_Story_of_the_Ston...               81  "
      ]
     },
     "execution_count": 11,
     "metadata": {},
     "output_type": "execute_result"
    }
   ],
   "source": [
    "data_subset.head()"
   ]
  },
  {
   "cell_type": "code",
   "execution_count": 12,
   "id": "273ba4f0",
   "metadata": {},
   "outputs": [],
   "source": [
    "## copying subset images to train folder\n",
    "destination_path = \"../data/genre_fantasy/\"\n",
    "\n",
    "img_paths = data_subset.imageLocation.tolist()\n",
    "\n",
    "os.makedirs(destination_path, exist_ok=True)\n",
    "\n",
    "for img_path in img_paths[4:]:\n",
    "    try:\n",
    "        filename = os.path.basename(img_path)\n",
    "        extension = os.path.splitext(filename)[1]\n",
    "\n",
    "        new_filename = f\"{filename[:-len(extension)]}{extension}\"\n",
    "\n",
    "        new_destination_path = os.path.join(destination_path, new_filename)\n",
    "\n",
    "        shutil.copy2(img_path, new_destination_path)\n",
    "    except Exception as e:\n",
    "        print(f\"Error transferring {img_path}: {e}\")"
   ]
  },
  {
   "cell_type": "code",
   "execution_count": 13,
   "id": "da079455",
   "metadata": {},
   "outputs": [],
   "source": [
    "metadata = pd.DataFrame({'file_name':data_subset.imageLocation.tolist(),'text':data_subset.Synopsis.tolist()})"
   ]
  },
  {
   "cell_type": "code",
   "execution_count": 14,
   "id": "6d6486a3",
   "metadata": {},
   "outputs": [],
   "source": [
    "metadata.dropna(subset=['file_name'],inplace=True)"
   ]
  },
  {
   "cell_type": "code",
   "execution_count": 15,
   "id": "625e5069",
   "metadata": {},
   "outputs": [],
   "source": [
    "metadata.file_name = metadata.file_name.apply(lambda x: os.path.basename(x))"
   ]
  },
  {
   "cell_type": "code",
   "execution_count": 16,
   "id": "e395095b",
   "metadata": {},
   "outputs": [
    {
     "data": {
      "text/html": [
       "<div>\n",
       "<style scoped>\n",
       "    .dataframe tbody tr th:only-of-type {\n",
       "        vertical-align: middle;\n",
       "    }\n",
       "\n",
       "    .dataframe tbody tr th {\n",
       "        vertical-align: top;\n",
       "    }\n",
       "\n",
       "    .dataframe thead th {\n",
       "        text-align: right;\n",
       "    }\n",
       "</style>\n",
       "<table border=\"1\" class=\"dataframe\">\n",
       "  <thead>\n",
       "    <tr style=\"text-align: right;\">\n",
       "      <th></th>\n",
       "      <th>file_name</th>\n",
       "      <th>text</th>\n",
       "    </tr>\n",
       "  </thead>\n",
       "  <tbody>\n",
       "    <tr>\n",
       "      <th>0</th>\n",
       "      <td>Blood_of_Amber-Roger_Zelazny.jpg</td>\n",
       "      <td>Merlin escapes from the crystal cave, and dec...</td>\n",
       "    </tr>\n",
       "    <tr>\n",
       "      <th>1</th>\n",
       "      <td>Prince_of_Chaos-Roger_Zelazny.jpg</td>\n",
       "      <td>Merlin returns to his birthplace in the Court...</td>\n",
       "    </tr>\n",
       "  </tbody>\n",
       "</table>\n",
       "</div>"
      ],
      "text/plain": [
       "                           file_name  \\\n",
       "0   Blood_of_Amber-Roger_Zelazny.jpg   \n",
       "1  Prince_of_Chaos-Roger_Zelazny.jpg   \n",
       "\n",
       "                                                text  \n",
       "0   Merlin escapes from the crystal cave, and dec...  \n",
       "1   Merlin returns to his birthplace in the Court...  "
      ]
     },
     "execution_count": 16,
     "metadata": {},
     "output_type": "execute_result"
    }
   ],
   "source": [
    "metadata.head(2)"
   ]
  },
  {
   "cell_type": "code",
   "execution_count": 18,
   "id": "c660d1d3",
   "metadata": {},
   "outputs": [],
   "source": [
    "metadata.to_csv(\"../data/train/metadata.csv\",index=False)"
   ]
  },
  {
   "cell_type": "markdown",
   "id": "2f5db45a",
   "metadata": {},
   "source": [
    "## Loading the new dataset"
   ]
  },
  {
   "cell_type": "code",
   "execution_count": 20,
   "id": "8fee61c8",
   "metadata": {},
   "outputs": [
    {
     "name": "stderr",
     "output_type": "stream",
     "text": [
      "Generating train split: 194 examples [00:00, 6028.84 examples/s]\n"
     ]
    }
   ],
   "source": [
    "from datasets import  load_dataset\n",
    "\n",
    "dataset = load_dataset(\"imagefolder\", data_dir = \"../data/\",split='train')"
   ]
  },
  {
   "cell_type": "code",
   "execution_count": 21,
   "id": "7014fe14",
   "metadata": {},
   "outputs": [
    {
     "data": {
      "text/plain": [
       "Dataset({\n",
       "    features: ['image', 'text'],\n",
       "    num_rows: 194\n",
       "})"
      ]
     },
     "execution_count": 21,
     "metadata": {},
     "output_type": "execute_result"
    }
   ],
   "source": [
    "dataset"
   ]
  },
  {
   "cell_type": "code",
   "execution_count": 65,
   "id": "0e1695b8",
   "metadata": {},
   "outputs": [],
   "source": [
    "export MODEL_NAME=\"CompVis/stable-diffusion-v1-4\"\n",
    "export INSTANCE_DIR=\"../data/\"\n",
    "export OUTPUT_DIR=\"./trained_models/\""
   ]
  },
  {
   "cell_type": "code",
   "execution_count": 66,
   "id": "d6edd914",
   "metadata": {
    "vscode": {
     "languageId": "shellscript"
    }
   },
   "outputs": [
    {
     "ename": "ValueError",
     "evalue": "No escaped character",
     "output_type": "error",
     "traceback": [
      "\u001b[0;31m---------------------------------------------------------------------------\u001b[0m",
      "\u001b[0;31mValueError\u001b[0m                                Traceback (most recent call last)",
      "\u001b[1;32m/home/patil.adwa/LitArt/notebooks/StableDiffusionPOC.ipynb Cell 20\u001b[0m line \u001b[0;36m1\n\u001b[0;32m----> <a href='vscode-notebook-cell://ood.discovery.neu.edu/home/patil.adwa/LitArt/notebooks/StableDiffusionPOC.ipynb#X42sdnNjb2RlLXJlbW90ZQ%3D%3D?line=0'>1</a>\u001b[0m get_ipython()\u001b[39m.\u001b[39;49mrun_line_magic(\u001b[39m'\u001b[39;49m\u001b[39mrun\u001b[39;49m\u001b[39m'\u001b[39;49m, \u001b[39m'\u001b[39;49m\u001b[39maccelerate launch ../../diffusers/examples/dreambooth/train_dreambooth.py    --mixed_precision=\u001b[39;49m\u001b[39m\"\u001b[39;49m\u001b[39mfp16\u001b[39;49m\u001b[39m\"\u001b[39;49m\u001b[39m    --pretrained_model_name_or_path=MODEL_NAME     --instance_data_dir=INSTANCE_DIR    --output_dir=OUTPUT_DIR    --instance_prompt=\u001b[39;49m\u001b[39m\"\u001b[39;49m\u001b[39ma <book cover> for a magical fantasy book\u001b[39;49m\u001b[39m\"\u001b[39;49m\u001b[39m    --train_text_encoder    --resolution=512    --train_batch_size=1    --gradient_accumulation_steps=3    --learning_rate=2e-6    --lr_scheduler=\u001b[39;49m\u001b[39m\"\u001b[39;49m\u001b[39mDDIM\u001b[39;49m\u001b[39m\"\u001b[39;49m\u001b[39m    --lr_warmup_steps=0    --max_train_steps=400    --gradient_checkpointing    --use_8bit_adam \u001b[39;49m\u001b[39m\\\\\u001b[39;49;00m\u001b[39m'\u001b[39;49m)\n",
      "File \u001b[0;32m~/.conda/envs/llm_env/lib/python3.9/site-packages/IPython/core/interactiveshell.py:2432\u001b[0m, in \u001b[0;36mInteractiveShell.run_line_magic\u001b[0;34m(self, magic_name, line, _stack_depth)\u001b[0m\n\u001b[1;32m   2430\u001b[0m     kwargs[\u001b[39m'\u001b[39m\u001b[39mlocal_ns\u001b[39m\u001b[39m'\u001b[39m] \u001b[39m=\u001b[39m \u001b[39mself\u001b[39m\u001b[39m.\u001b[39mget_local_scope(stack_depth)\n\u001b[1;32m   2431\u001b[0m \u001b[39mwith\u001b[39;00m \u001b[39mself\u001b[39m\u001b[39m.\u001b[39mbuiltin_trap:\n\u001b[0;32m-> 2432\u001b[0m     result \u001b[39m=\u001b[39m fn(\u001b[39m*\u001b[39;49margs, \u001b[39m*\u001b[39;49m\u001b[39m*\u001b[39;49mkwargs)\n\u001b[1;32m   2434\u001b[0m \u001b[39m# The code below prevents the output from being displayed\u001b[39;00m\n\u001b[1;32m   2435\u001b[0m \u001b[39m# when using magics with decorator @output_can_be_silenced\u001b[39;00m\n\u001b[1;32m   2436\u001b[0m \u001b[39m# when the last Python token in the expression is a ';'.\u001b[39;00m\n\u001b[1;32m   2437\u001b[0m \u001b[39mif\u001b[39;00m \u001b[39mgetattr\u001b[39m(fn, magic\u001b[39m.\u001b[39mMAGIC_OUTPUT_CAN_BE_SILENCED, \u001b[39mFalse\u001b[39;00m):\n",
      "File \u001b[0;32m~/.conda/envs/llm_env/lib/python3.9/site-packages/IPython/core/magics/execution.py:703\u001b[0m, in \u001b[0;36mExecutionMagics.run\u001b[0;34m(self, parameter_s, runner, file_finder)\u001b[0m\n\u001b[1;32m    700\u001b[0m     parameter_s \u001b[39m=\u001b[39m \u001b[39m'\u001b[39m\u001b[39m \u001b[39m\u001b[39m'\u001b[39m\u001b[39m.\u001b[39mjoin(shlex\u001b[39m.\u001b[39mquote(arg) \u001b[39mfor\u001b[39;00m arg \u001b[39min\u001b[39;00m argv)\n\u001b[1;32m    702\u001b[0m \u001b[39m# get arguments and set sys.argv for program to be run.\u001b[39;00m\n\u001b[0;32m--> 703\u001b[0m opts, arg_lst \u001b[39m=\u001b[39m \u001b[39mself\u001b[39;49m\u001b[39m.\u001b[39;49mparse_options(parameter_s,\n\u001b[1;32m    704\u001b[0m                                    \u001b[39m'\u001b[39;49m\u001b[39mnidtN:b:pD:l:rs:T:em:G\u001b[39;49m\u001b[39m'\u001b[39;49m,\n\u001b[1;32m    705\u001b[0m                                    mode\u001b[39m=\u001b[39;49m\u001b[39m'\u001b[39;49m\u001b[39mlist\u001b[39;49m\u001b[39m'\u001b[39;49m, list_all\u001b[39m=\u001b[39;49m\u001b[39m1\u001b[39;49m)\n\u001b[1;32m    706\u001b[0m \u001b[39mif\u001b[39;00m \u001b[39m\"\u001b[39m\u001b[39mm\u001b[39m\u001b[39m\"\u001b[39m \u001b[39min\u001b[39;00m opts:\n\u001b[1;32m    707\u001b[0m     modulename \u001b[39m=\u001b[39m opts[\u001b[39m\"\u001b[39m\u001b[39mm\u001b[39m\u001b[39m\"\u001b[39m][\u001b[39m0\u001b[39m]\n",
      "File \u001b[0;32m~/.conda/envs/llm_env/lib/python3.9/site-packages/IPython/core/magic.py:670\u001b[0m, in \u001b[0;36mMagics.parse_options\u001b[0;34m(self, arg_str, opt_str, *long_opts, **kw)\u001b[0m\n\u001b[1;32m    666\u001b[0m args \u001b[39m=\u001b[39m arg_str\u001b[39m.\u001b[39msplit()\n\u001b[1;32m    667\u001b[0m \u001b[39mif\u001b[39;00m \u001b[39mlen\u001b[39m(args) \u001b[39m>\u001b[39m\u001b[39m=\u001b[39m \u001b[39m1\u001b[39m:\n\u001b[1;32m    668\u001b[0m     \u001b[39m# If the list of inputs only has 0 or 1 thing in it, there's no\u001b[39;00m\n\u001b[1;32m    669\u001b[0m     \u001b[39m# need to look for options\u001b[39;00m\n\u001b[0;32m--> 670\u001b[0m     argv \u001b[39m=\u001b[39m arg_split(arg_str, posix, strict)\n\u001b[1;32m    671\u001b[0m     \u001b[39m# Do regular option processing\u001b[39;00m\n\u001b[1;32m    672\u001b[0m     \u001b[39mtry\u001b[39;00m:\n",
      "File \u001b[0;32m~/.conda/envs/llm_env/lib/python3.9/site-packages/IPython/utils/_process_common.py:200\u001b[0m, in \u001b[0;36marg_split\u001b[0;34m(s, posix, strict)\u001b[0m\n\u001b[1;32m    198\u001b[0m \u001b[39mwhile\u001b[39;00m \u001b[39mTrue\u001b[39;00m:\n\u001b[1;32m    199\u001b[0m     \u001b[39mtry\u001b[39;00m:\n\u001b[0;32m--> 200\u001b[0m         tokens\u001b[39m.\u001b[39mappend(\u001b[39mnext\u001b[39;49m(lex))\n\u001b[1;32m    201\u001b[0m     \u001b[39mexcept\u001b[39;00m \u001b[39mStopIteration\u001b[39;00m:\n\u001b[1;32m    202\u001b[0m         \u001b[39mbreak\u001b[39;00m\n",
      "File \u001b[0;32m~/.conda/envs/llm_env/lib/python3.9/shlex.py:300\u001b[0m, in \u001b[0;36mshlex.__next__\u001b[0;34m(self)\u001b[0m\n\u001b[1;32m    299\u001b[0m \u001b[39mdef\u001b[39;00m \u001b[39m__next__\u001b[39m(\u001b[39mself\u001b[39m):\n\u001b[0;32m--> 300\u001b[0m     token \u001b[39m=\u001b[39m \u001b[39mself\u001b[39;49m\u001b[39m.\u001b[39;49mget_token()\n\u001b[1;32m    301\u001b[0m     \u001b[39mif\u001b[39;00m token \u001b[39m==\u001b[39m \u001b[39mself\u001b[39m\u001b[39m.\u001b[39meof:\n\u001b[1;32m    302\u001b[0m         \u001b[39mraise\u001b[39;00m \u001b[39mStopIteration\u001b[39;00m\n",
      "File \u001b[0;32m~/.conda/envs/llm_env/lib/python3.9/shlex.py:109\u001b[0m, in \u001b[0;36mshlex.get_token\u001b[0;34m(self)\u001b[0m\n\u001b[1;32m    107\u001b[0m     \u001b[39mreturn\u001b[39;00m tok\n\u001b[1;32m    108\u001b[0m \u001b[39m# No pushback.  Get a token.\u001b[39;00m\n\u001b[0;32m--> 109\u001b[0m raw \u001b[39m=\u001b[39m \u001b[39mself\u001b[39;49m\u001b[39m.\u001b[39;49mread_token()\n\u001b[1;32m    110\u001b[0m \u001b[39m# Handle inclusions\u001b[39;00m\n\u001b[1;32m    111\u001b[0m \u001b[39mif\u001b[39;00m \u001b[39mself\u001b[39m\u001b[39m.\u001b[39msource \u001b[39mis\u001b[39;00m \u001b[39mnot\u001b[39;00m \u001b[39mNone\u001b[39;00m:\n",
      "File \u001b[0;32m~/.conda/envs/llm_env/lib/python3.9/shlex.py:210\u001b[0m, in \u001b[0;36mshlex.read_token\u001b[0;34m(self)\u001b[0m\n\u001b[1;32m    208\u001b[0m         \u001b[39mprint\u001b[39m(\u001b[39m\"\u001b[39m\u001b[39mshlex: I see EOF in escape state\u001b[39m\u001b[39m\"\u001b[39m)\n\u001b[1;32m    209\u001b[0m     \u001b[39m# XXX what error should be raised here?\u001b[39;00m\n\u001b[0;32m--> 210\u001b[0m     \u001b[39mraise\u001b[39;00m \u001b[39mValueError\u001b[39;00m(\u001b[39m\"\u001b[39m\u001b[39mNo escaped character\u001b[39m\u001b[39m\"\u001b[39m)\n\u001b[1;32m    211\u001b[0m \u001b[39m# In posix shells, only the quote itself or the escape\u001b[39;00m\n\u001b[1;32m    212\u001b[0m \u001b[39m# character may be escaped within quotes.\u001b[39;00m\n\u001b[1;32m    213\u001b[0m \u001b[39mif\u001b[39;00m (escapedstate \u001b[39min\u001b[39;00m \u001b[39mself\u001b[39m\u001b[39m.\u001b[39mquotes \u001b[39mand\u001b[39;00m\n\u001b[1;32m    214\u001b[0m         nextchar \u001b[39m!=\u001b[39m \u001b[39mself\u001b[39m\u001b[39m.\u001b[39mstate \u001b[39mand\u001b[39;00m nextchar \u001b[39m!=\u001b[39m escapedstate):\n",
      "\u001b[0;31mValueError\u001b[0m: No escaped character"
     ]
    }
   ],
   "source": [
    "%run accelerate launch train_dreambooth.py \\\n",
    "  --mixed_precision=\"fp16\" \\\n",
    "  --pretrained_model_name_or_path=MODEL_NAME  \\\n",
    "  --instance_data_dir=INSTANCE_DIR \\\n",
    "  --output_dir=OUTPUT_DIR \\\n",
    "  --instance_prompt=\"a <book cover> for a magical fantasy book\" \\\n",
    "  --train_text_encoder \\\n",
    "  --resolution=512 \\\n",
    "  --train_batch_size=1 \\\n",
    "  --gradient_accumulation_steps=3 \\\n",
    "  --learning_rate=2e-6 \\\n",
    "  --lr_scheduler=\"DDIM\" \\\n",
    "  --lr_warmup_steps=0 \\\n",
    "  --max_train_steps=400 \\\n",
    "  --gradient_checkpointing \\\n",
    "  --use_8bit_adam \\"
   ]
  },
  {
   "cell_type": "code",
   "execution_count": null,
   "id": "e27d4910",
   "metadata": {
    "vscode": {
     "languageId": "shellscript"
    }
   },
   "outputs": [],
   "source": []
  }
 ],
 "metadata": {
  "kernelspec": {
   "display_name": "Python 3 (ipykernel)",
   "language": "python",
   "name": "python3"
  },
  "language_info": {
   "codemirror_mode": {
    "name": "ipython",
    "version": 3
   },
   "file_extension": ".py",
   "mimetype": "text/x-python",
   "name": "python",
   "nbconvert_exporter": "python",
   "pygments_lexer": "ipython3",
   "version": "3.11.8"
  }
 },
 "nbformat": 4,
 "nbformat_minor": 5
}
