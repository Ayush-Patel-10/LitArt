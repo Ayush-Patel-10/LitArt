{
 "cells": [
  {
   "cell_type": "code",
   "execution_count": 67,
   "id": "7d5f9681",
   "metadata": {},
   "outputs": [],
   "source": [
    "import os\n",
    "import shutil\n",
    "import glob\n",
    "import matplotlib.pyplot as plt\n",
    "import pandas as pd\n",
    "\n",
    "import torch"
   ]
  },
  {
   "cell_type": "code",
   "execution_count": 72,
   "id": "d9ea06d7",
   "metadata": {},
   "outputs": [
    {
     "name": "stdout",
     "output_type": "stream",
     "text": [
      "Using device: cuda:0\n"
     ]
    }
   ],
   "source": [
    "if torch.cuda.is_available():\n",
    "    device = torch.cuda.current_device()\n",
    "    print(f\"Using device: cuda:{device}\")\n",
    "else:\n",
    "    print(\"No GPU available\")"
   ]
  },
  {
   "cell_type": "code",
   "execution_count": 41,
   "id": "df040415-3177-44a0-9f47-5a9ec5e3a1af",
   "metadata": {},
   "outputs": [],
   "source": [
    "img_paths = glob.glob(\"/work/LitArt/data/images/*\")"
   ]
  },
  {
   "cell_type": "code",
   "execution_count": 42,
   "id": "4f76a4a8",
   "metadata": {},
   "outputs": [],
   "source": [
    "img_data = pd.read_csv(\"/work/LitArt/data/filtered_CMU_data_with_images.csv\")"
   ]
  },
  {
   "cell_type": "code",
   "execution_count": 43,
   "id": "02a15367",
   "metadata": {},
   "outputs": [
    {
     "data": {
      "text/html": [
       "<div>\n",
       "<style scoped>\n",
       "    .dataframe tbody tr th:only-of-type {\n",
       "        vertical-align: middle;\n",
       "    }\n",
       "\n",
       "    .dataframe tbody tr th {\n",
       "        vertical-align: top;\n",
       "    }\n",
       "\n",
       "    .dataframe thead th {\n",
       "        text-align: right;\n",
       "    }\n",
       "</style>\n",
       "<table border=\"1\" class=\"dataframe\">\n",
       "  <thead>\n",
       "    <tr style=\"text-align: right;\">\n",
       "      <th></th>\n",
       "      <th>ID</th>\n",
       "      <th>URI</th>\n",
       "      <th>Title</th>\n",
       "      <th>Author</th>\n",
       "      <th>Publication Date</th>\n",
       "      <th>Genres</th>\n",
       "      <th>Synopsis</th>\n",
       "      <th>URL</th>\n",
       "      <th>isImageAvailable</th>\n",
       "      <th>imageLocation</th>\n",
       "    </tr>\n",
       "  </thead>\n",
       "  <tbody>\n",
       "    <tr>\n",
       "      <th>0</th>\n",
       "      <td>620</td>\n",
       "      <td>/m/0hhy</td>\n",
       "      <td>Animal Farm</td>\n",
       "      <td>George Orwell</td>\n",
       "      <td>1945-08-17</td>\n",
       "      <td>{\"/m/016lj8\": \"Roman \\u00e0 clef\", \"/m/06nbt\":...</td>\n",
       "      <td>Old Major, the old boar on the Manor Farm, ca...</td>\n",
       "      <td>https://www.goodreads.com/book/show/170448.Ani...</td>\n",
       "      <td>True</td>\n",
       "      <td>/work/LitArt/data/images/Animal_Farm-George_Or...</td>\n",
       "    </tr>\n",
       "    <tr>\n",
       "      <th>1</th>\n",
       "      <td>986</td>\n",
       "      <td>/m/0ldx</td>\n",
       "      <td>The Plague</td>\n",
       "      <td>Albert Camus</td>\n",
       "      <td>1947</td>\n",
       "      <td>{\"/m/02m4t\": \"Existentialism\", \"/m/02xlf\": \"Fi...</td>\n",
       "      <td>The text of The Plague is divided into five p...</td>\n",
       "      <td>https://www.goodreads.com/book/show/11989.The_...</td>\n",
       "      <td>True</td>\n",
       "      <td>/work/LitArt/data/images/The_Plague-Albert_Cam...</td>\n",
       "    </tr>\n",
       "    <tr>\n",
       "      <th>2</th>\n",
       "      <td>1756</td>\n",
       "      <td>/m/0sww</td>\n",
       "      <td>An Enquiry Concerning Human Understanding</td>\n",
       "      <td>David Hume</td>\n",
       "      <td>NaN</td>\n",
       "      <td>NaN</td>\n",
       "      <td>The argument of the Enquiry proceeds by a ser...</td>\n",
       "      <td>https://www.goodreads.com/book/show/130119.An_...</td>\n",
       "      <td>True</td>\n",
       "      <td>/work/LitArt/data/images/An_Enquiry_Concerning...</td>\n",
       "    </tr>\n",
       "    <tr>\n",
       "      <th>3</th>\n",
       "      <td>2080</td>\n",
       "      <td>/m/0wkt</td>\n",
       "      <td>A Fire Upon the Deep</td>\n",
       "      <td>Vernor Vinge</td>\n",
       "      <td>NaN</td>\n",
       "      <td>{\"/m/03lrw\": \"Hard science fiction\", \"/m/06n90...</td>\n",
       "      <td>The novel posits that space around the Milky ...</td>\n",
       "      <td>https://www.goodreads.com/book/show/77711.A_Fi...</td>\n",
       "      <td>True</td>\n",
       "      <td>/work/LitArt/data/images/A_Fire_Upon_the_Deep-...</td>\n",
       "    </tr>\n",
       "    <tr>\n",
       "      <th>4</th>\n",
       "      <td>2152</td>\n",
       "      <td>/m/0x5g</td>\n",
       "      <td>All Quiet on the Western Front</td>\n",
       "      <td>Erich Maria Remarque</td>\n",
       "      <td>1929-01-29</td>\n",
       "      <td>{\"/m/098tmk\": \"War novel\", \"/m/016lj8\": \"Roman...</td>\n",
       "      <td>The book tells the story of Paul Bäumer, a Ge...</td>\n",
       "      <td>https://www.goodreads.com/book/show/355697.All...</td>\n",
       "      <td>True</td>\n",
       "      <td>/work/LitArt/data/images/All_Quiet_on_the_West...</td>\n",
       "    </tr>\n",
       "  </tbody>\n",
       "</table>\n",
       "</div>"
      ],
      "text/plain": [
       "     ID      URI                                      Title  \\\n",
       "0   620  /m/0hhy                                Animal Farm   \n",
       "1   986  /m/0ldx                                 The Plague   \n",
       "2  1756  /m/0sww  An Enquiry Concerning Human Understanding   \n",
       "3  2080  /m/0wkt                       A Fire Upon the Deep   \n",
       "4  2152  /m/0x5g             All Quiet on the Western Front   \n",
       "\n",
       "                 Author Publication Date  \\\n",
       "0         George Orwell       1945-08-17   \n",
       "1          Albert Camus             1947   \n",
       "2            David Hume              NaN   \n",
       "3          Vernor Vinge              NaN   \n",
       "4  Erich Maria Remarque       1929-01-29   \n",
       "\n",
       "                                              Genres  \\\n",
       "0  {\"/m/016lj8\": \"Roman \\u00e0 clef\", \"/m/06nbt\":...   \n",
       "1  {\"/m/02m4t\": \"Existentialism\", \"/m/02xlf\": \"Fi...   \n",
       "2                                                NaN   \n",
       "3  {\"/m/03lrw\": \"Hard science fiction\", \"/m/06n90...   \n",
       "4  {\"/m/098tmk\": \"War novel\", \"/m/016lj8\": \"Roman...   \n",
       "\n",
       "                                            Synopsis  \\\n",
       "0   Old Major, the old boar on the Manor Farm, ca...   \n",
       "1   The text of The Plague is divided into five p...   \n",
       "2   The argument of the Enquiry proceeds by a ser...   \n",
       "3   The novel posits that space around the Milky ...   \n",
       "4   The book tells the story of Paul Bäumer, a Ge...   \n",
       "\n",
       "                                                 URL  isImageAvailable  \\\n",
       "0  https://www.goodreads.com/book/show/170448.Ani...              True   \n",
       "1  https://www.goodreads.com/book/show/11989.The_...              True   \n",
       "2  https://www.goodreads.com/book/show/130119.An_...              True   \n",
       "3  https://www.goodreads.com/book/show/77711.A_Fi...              True   \n",
       "4  https://www.goodreads.com/book/show/355697.All...              True   \n",
       "\n",
       "                                       imageLocation  \n",
       "0  /work/LitArt/data/images/Animal_Farm-George_Or...  \n",
       "1  /work/LitArt/data/images/The_Plague-Albert_Cam...  \n",
       "2  /work/LitArt/data/images/An_Enquiry_Concerning...  \n",
       "3  /work/LitArt/data/images/A_Fire_Upon_the_Deep-...  \n",
       "4  /work/LitArt/data/images/All_Quiet_on_the_West...  "
      ]
     },
     "execution_count": 43,
     "metadata": {},
     "output_type": "execute_result"
    }
   ],
   "source": [
    "img_data.head()"
   ]
  },
  {
   "cell_type": "code",
   "execution_count": 44,
   "id": "f63ffd8c",
   "metadata": {},
   "outputs": [],
   "source": [
    "img_data['synopsis_length'] = img_data.Synopsis.apply(lambda x:len(x.split()))"
   ]
  },
  {
   "cell_type": "code",
   "execution_count": 45,
   "id": "c09a788b",
   "metadata": {},
   "outputs": [
    {
     "data": {
      "text/plain": [
       "<Axes: ylabel='Frequency'>"
      ]
     },
     "execution_count": 45,
     "metadata": {},
     "output_type": "execute_result"
    },
    {
     "data": {
      "image/png": "[encoded data removed]",
      "text/plain": [
       "<Figure size 640x480 with 1 Axes>"
      ]
     },
     "metadata": {},
     "output_type": "display_data"
    }
   ],
   "source": [
    "img_data.synopsis_length.plot(kind='hist')"
   ]
  },
  {
   "cell_type": "markdown",
   "id": "94a9608a",
   "metadata": {},
   "source": [
    "## Data Creation"
   ]
  },
  {
   "cell_type": "code",
   "execution_count": 46,
   "id": "d3101edb",
   "metadata": {},
   "outputs": [
    {
     "name": "stdout",
     "output_type": "stream",
     "text": [
      "16.90956471383071% summaries have a length under 100 words and more than 10\n"
     ]
    }
   ],
   "source": [
    "print(f\"{len(img_data[(img_data.synopsis_length<100)&(img_data.synopsis_length>10)])/len(img_data)*100}% summaries have a length under 100 words and more than 10\")"
   ]
  },
  {
   "cell_type": "code",
   "execution_count": 47,
   "id": "d0eb1211",
   "metadata": {},
   "outputs": [],
   "source": [
    "## Trimming dataset to have summaries with length greater than 10 and less than 100\n",
    "\n",
    "data_subset = img_data[(img_data.synopsis_length<100)&(img_data.synopsis_length>10)]"
   ]
  },
  {
   "cell_type": "code",
   "execution_count": 48,
   "id": "943561de",
   "metadata": {},
   "outputs": [
    {
     "data": {
      "text/html": [
       "<div>\n",
       "<style scoped>\n",
       "    .dataframe tbody tr th:only-of-type {\n",
       "        vertical-align: middle;\n",
       "    }\n",
       "\n",
       "    .dataframe tbody tr th {\n",
       "        vertical-align: top;\n",
       "    }\n",
       "\n",
       "    .dataframe thead th {\n",
       "        text-align: right;\n",
       "    }\n",
       "</style>\n",
       "<table border=\"1\" class=\"dataframe\">\n",
       "  <thead>\n",
       "    <tr style=\"text-align: right;\">\n",
       "      <th></th>\n",
       "      <th>ID</th>\n",
       "      <th>URI</th>\n",
       "      <th>Title</th>\n",
       "      <th>Author</th>\n",
       "      <th>Publication Date</th>\n",
       "      <th>Genres</th>\n",
       "      <th>Synopsis</th>\n",
       "      <th>URL</th>\n",
       "      <th>isImageAvailable</th>\n",
       "      <th>imageLocation</th>\n",
       "      <th>synopsis_length</th>\n",
       "    </tr>\n",
       "  </thead>\n",
       "  <tbody>\n",
       "    <tr>\n",
       "      <th>7</th>\n",
       "      <td>4081</td>\n",
       "      <td>/m/01b4w</td>\n",
       "      <td>Blade Runner 3: Replicant Night</td>\n",
       "      <td>K. W. Jeter</td>\n",
       "      <td>1996-10-01</td>\n",
       "      <td>{\"/m/06n90\": \"Science Fiction\", \"/m/014dfn\": \"...</td>\n",
       "      <td>Living on Mars, Deckard is acting as a consul...</td>\n",
       "      <td>https://www.goodreads.com/book/show/80239.Blad...</td>\n",
       "      <td>True</td>\n",
       "      <td>/work/LitArt/data/images/Blade_Runner_3_Replic...</td>\n",
       "      <td>56</td>\n",
       "    </tr>\n",
       "    <tr>\n",
       "      <th>26</th>\n",
       "      <td>17414</td>\n",
       "      <td>/m/04fpm</td>\n",
       "      <td>Icehenge</td>\n",
       "      <td>Kim Stanley Robinson</td>\n",
       "      <td>1984</td>\n",
       "      <td>{\"/m/06n90\": \"Science Fiction\", \"/m/014dfn\": \"...</td>\n",
       "      <td>Icehenge is part mystery, part psychological ...</td>\n",
       "      <td>https://www.goodreads.com/book/show/41127.Iceh...</td>\n",
       "      <td>True</td>\n",
       "      <td>/work/LitArt/data/images/Icehenge-Kim_Stanley_...</td>\n",
       "      <td>69</td>\n",
       "    </tr>\n",
       "    <tr>\n",
       "      <th>97</th>\n",
       "      <td>44524</td>\n",
       "      <td>/m/0c432</td>\n",
       "      <td>Mutiny on the Bounty</td>\n",
       "      <td>James Norman Hall</td>\n",
       "      <td>1932</td>\n",
       "      <td>{\"/m/03g3w\": \"History\", \"/m/05hgj\": \"Novel\"}</td>\n",
       "      <td>The novel tells the story through a fictional...</td>\n",
       "      <td>https://www.goodreads.com/book/show/335795.The...</td>\n",
       "      <td>True</td>\n",
       "      <td>/work/LitArt/data/images/Mutiny_on_the_Bounty-...</td>\n",
       "      <td>66</td>\n",
       "    </tr>\n",
       "    <tr>\n",
       "      <th>98</th>\n",
       "      <td>44672</td>\n",
       "      <td>/m/0c57q</td>\n",
       "      <td>The Mothman Prophecies</td>\n",
       "      <td>John A. Keel</td>\n",
       "      <td>1975</td>\n",
       "      <td>NaN</td>\n",
       "      <td>The book combines Keel's account of his inves...</td>\n",
       "      <td>https://www.goodreads.com/book/show/567682.The...</td>\n",
       "      <td>True</td>\n",
       "      <td>/work/LitArt/data/images/The_Mothman_Prophecie...</td>\n",
       "      <td>57</td>\n",
       "    </tr>\n",
       "    <tr>\n",
       "      <th>143</th>\n",
       "      <td>56575</td>\n",
       "      <td>/m/0fmw0</td>\n",
       "      <td>Castle Rackrent</td>\n",
       "      <td>Maria Edgeworth</td>\n",
       "      <td>NaN</td>\n",
       "      <td>{\"/m/02xlf\": \"Fiction\", \"/m/0hwxm\": \"Historica...</td>\n",
       "      <td>The novel is set prior to the Constitution of...</td>\n",
       "      <td>https://www.goodreads.com/book/show/251290.Cas...</td>\n",
       "      <td>True</td>\n",
       "      <td>/work/LitArt/data/images/Castle_Rackrent-Maria...</td>\n",
       "      <td>80</td>\n",
       "    </tr>\n",
       "  </tbody>\n",
       "</table>\n",
       "</div>"
      ],
      "text/plain": [
       "        ID       URI                            Title                Author  \\\n",
       "7     4081  /m/01b4w  Blade Runner 3: Replicant Night           K. W. Jeter   \n",
       "26   17414  /m/04fpm                         Icehenge  Kim Stanley Robinson   \n",
       "97   44524  /m/0c432             Mutiny on the Bounty     James Norman Hall   \n",
       "98   44672  /m/0c57q           The Mothman Prophecies          John A. Keel   \n",
       "143  56575  /m/0fmw0                  Castle Rackrent       Maria Edgeworth   \n",
       "\n",
       "    Publication Date                                             Genres  \\\n",
       "7         1996-10-01  {\"/m/06n90\": \"Science Fiction\", \"/m/014dfn\": \"...   \n",
       "26              1984  {\"/m/06n90\": \"Science Fiction\", \"/m/014dfn\": \"...   \n",
       "97              1932       {\"/m/03g3w\": \"History\", \"/m/05hgj\": \"Novel\"}   \n",
       "98              1975                                                NaN   \n",
       "143              NaN  {\"/m/02xlf\": \"Fiction\", \"/m/0hwxm\": \"Historica...   \n",
       "\n",
       "                                              Synopsis  \\\n",
       "7     Living on Mars, Deckard is acting as a consul...   \n",
       "26    Icehenge is part mystery, part psychological ...   \n",
       "97    The novel tells the story through a fictional...   \n",
       "98    The book combines Keel's account of his inves...   \n",
       "143   The novel is set prior to the Constitution of...   \n",
       "\n",
       "                                                   URL  isImageAvailable  \\\n",
       "7    https://www.goodreads.com/book/show/80239.Blad...              True   \n",
       "26   https://www.goodreads.com/book/show/41127.Iceh...              True   \n",
       "97   https://www.goodreads.com/book/show/335795.The...              True   \n",
       "98   https://www.goodreads.com/book/show/567682.The...              True   \n",
       "143  https://www.goodreads.com/book/show/251290.Cas...              True   \n",
       "\n",
       "                                         imageLocation  synopsis_length  \n",
       "7    /work/LitArt/data/images/Blade_Runner_3_Replic...               56  \n",
       "26   /work/LitArt/data/images/Icehenge-Kim_Stanley_...               69  \n",
       "97   /work/LitArt/data/images/Mutiny_on_the_Bounty-...               66  \n",
       "98   /work/LitArt/data/images/The_Mothman_Prophecie...               57  \n",
       "143  /work/LitArt/data/images/Castle_Rackrent-Maria...               80  "
      ]
     },
     "execution_count": 48,
     "metadata": {},
     "output_type": "execute_result"
    }
   ],
   "source": [
    "data_subset.head()"
   ]
  },
  {
   "cell_type": "code",
   "execution_count": 49,
   "id": "273ba4f0",
   "metadata": {},
   "outputs": [
    {
     "name": "stdout",
     "output_type": "stream",
     "text": [
      "Error transferring nan: expected str, bytes or os.PathLike object, not float\n",
      "Error transferring nan: expected str, bytes or os.PathLike object, not float\n",
      "Error transferring nan: expected str, bytes or os.PathLike object, not float\n"
     ]
    }
   ],
   "source": [
    "## copying subset images to train folder\n",
    "destination_path = \"../data/train/\"\n",
    "\n",
    "img_paths = data_subset.imageLocation.tolist()\n",
    "\n",
    "os.makedirs(destination_path, exist_ok=True)\n",
    "\n",
    "for img_path in img_paths[4:]:\n",
    "    try:\n",
    "        filename = os.path.basename(img_path)\n",
    "        extension = os.path.splitext(filename)[1]\n",
    "\n",
    "        new_filename = f\"{filename[:-len(extension)]}{extension}\"\n",
    "\n",
    "        new_destination_path = os.path.join(destination_path, new_filename)\n",
    "\n",
    "        shutil.copy2(img_path, new_destination_path)\n",
    "    except Exception as e:\n",
    "        print(f\"Error transferring {img_path}: {e}\")"
   ]
  },
  {
   "cell_type": "code",
   "execution_count": 56,
   "id": "da079455",
   "metadata": {},
   "outputs": [],
   "source": [
    "metadata = pd.DataFrame({'file_name':data_subset.imageLocation.tolist(),'text':data_subset.Synopsis.tolist()})"
   ]
  },
  {
   "cell_type": "code",
   "execution_count": 57,
   "id": "6d6486a3",
   "metadata": {},
   "outputs": [],
   "source": [
    "metadata.dropna(subset=['file_name'],inplace=True)"
   ]
  },
  {
   "cell_type": "code",
   "execution_count": 58,
   "id": "625e5069",
   "metadata": {},
   "outputs": [],
   "source": [
    "metadata.file_name = metadata.file_name.apply(lambda x: os.path.basename(x))"
   ]
  },
  {
   "cell_type": "code",
   "execution_count": 59,
   "id": "e395095b",
   "metadata": {},
   "outputs": [
    {
     "data": {
      "text/html": [
       "<div>\n",
       "<style scoped>\n",
       "    .dataframe tbody tr th:only-of-type {\n",
       "        vertical-align: middle;\n",
       "    }\n",
       "\n",
       "    .dataframe tbody tr th {\n",
       "        vertical-align: top;\n",
       "    }\n",
       "\n",
       "    .dataframe thead th {\n",
       "        text-align: right;\n",
       "    }\n",
       "</style>\n",
       "<table border=\"1\" class=\"dataframe\">\n",
       "  <thead>\n",
       "    <tr style=\"text-align: right;\">\n",
       "      <th></th>\n",
       "      <th>file_name</th>\n",
       "      <th>text</th>\n",
       "    </tr>\n",
       "  </thead>\n",
       "  <tbody>\n",
       "    <tr>\n",
       "      <th>0</th>\n",
       "      <td>Blade_Runner_3_Replicant_Night-K_W_Jeter.jpg</td>\n",
       "      <td>Living on Mars, Deckard is acting as a consul...</td>\n",
       "    </tr>\n",
       "    <tr>\n",
       "      <th>1</th>\n",
       "      <td>Icehenge-Kim_Stanley_Robinson.jpg</td>\n",
       "      <td>Icehenge is part mystery, part psychological ...</td>\n",
       "    </tr>\n",
       "  </tbody>\n",
       "</table>\n",
       "</div>"
      ],
      "text/plain": [
       "                                      file_name  \\\n",
       "0  Blade_Runner_3_Replicant_Night-K_W_Jeter.jpg   \n",
       "1             Icehenge-Kim_Stanley_Robinson.jpg   \n",
       "\n",
       "                                                text  \n",
       "0   Living on Mars, Deckard is acting as a consul...  \n",
       "1   Icehenge is part mystery, part psychological ...  "
      ]
     },
     "execution_count": 59,
     "metadata": {},
     "output_type": "execute_result"
    }
   ],
   "source": [
    "metadata.head(2)"
   ]
  },
  {
   "cell_type": "code",
   "execution_count": 60,
   "id": "c660d1d3",
   "metadata": {},
   "outputs": [],
   "source": [
    "metadata.to_csv(\"../data/train/metadata.csv\",index=False)"
   ]
  },
  {
   "cell_type": "markdown",
   "id": "2f5db45a",
   "metadata": {},
   "source": [
    "## Loading the new dataset"
   ]
  },
  {
   "cell_type": "code",
   "execution_count": 61,
   "id": "8fee61c8",
   "metadata": {},
   "outputs": [
    {
     "name": "stderr",
     "output_type": "stream",
     "text": [
      "Generating train split: 1745 examples [00:00, 11721.15 examples/s]\n"
     ]
    }
   ],
   "source": [
    "from datasets import  load_dataset\n",
    "\n",
    "dataset = load_dataset(\"imagefolder\", data_dir = \"../data/\",split='train')"
   ]
  },
  {
   "cell_type": "code",
   "execution_count": 73,
   "id": "7014fe14",
   "metadata": {},
   "outputs": [
    {
     "data": {
      "text/plain": [
       "Dataset({\n",
       "    features: ['image', 'text'],\n",
       "    num_rows: 1745\n",
       "})"
      ]
     },
     "execution_count": 73,
     "metadata": {},
     "output_type": "execute_result"
    }
   ],
   "source": [
    "dataset"
   ]
  },
  {
   "cell_type": "code",
   "execution_count": 65,
   "id": "0e1695b8",
   "metadata": {},
   "outputs": [],
   "source": [
    "export MODEL_NAME=\"CompVis/stable-diffusion-v1-4\"\n",
    "export INSTANCE_DIR=\"../data/\"\n",
    "export OUTPUT_DIR=\"./trained_models/\""
   ]
  },
  {
   "cell_type": "code",
   "execution_count": 66,
   "id": "d6edd914",
   "metadata": {
    "vscode": {
     "languageId": "shellscript"
    }
   },
   "outputs": [
    {
     "ename": "ValueError",
     "evalue": "No escaped character",
     "output_type": "error",
     "traceback": [
      "\u001b[0;31m---------------------------------------------------------------------------\u001b[0m",
      "\u001b[0;31mValueError\u001b[0m                                Traceback (most recent call last)",
      "\u001b[1;32m/home/patil.adwa/LitArt/notebooks/StableDiffusionPOC.ipynb Cell 20\u001b[0m line \u001b[0;36m1\n\u001b[0;32m----> <a href='vscode-notebook-cell://ood.discovery.neu.edu/home/patil.adwa/LitArt/notebooks/StableDiffusionPOC.ipynb#X42sdnNjb2RlLXJlbW90ZQ%3D%3D?line=0'>1</a>\u001b[0m get_ipython()\u001b[39m.\u001b[39;49mrun_line_magic(\u001b[39m'\u001b[39;49m\u001b[39mrun\u001b[39;49m\u001b[39m'\u001b[39;49m, \u001b[39m'\u001b[39;49m\u001b[39maccelerate launch ../../diffusers/examples/dreambooth/train_dreambooth.py    --mixed_precision=\u001b[39;49m\u001b[39m\"\u001b[39;49m\u001b[39mfp16\u001b[39;49m\u001b[39m\"\u001b[39;49m\u001b[39m    --pretrained_model_name_or_path=MODEL_NAME     --instance_data_dir=INSTANCE_DIR    --output_dir=OUTPUT_DIR    --instance_prompt=\u001b[39;49m\u001b[39m\"\u001b[39;49m\u001b[39ma <book cover> for a magical fantasy book\u001b[39;49m\u001b[39m\"\u001b[39;49m\u001b[39m    --train_text_encoder    --resolution=512    --train_batch_size=1    --gradient_accumulation_steps=3    --learning_rate=2e-6    --lr_scheduler=\u001b[39;49m\u001b[39m\"\u001b[39;49m\u001b[39mDDIM\u001b[39;49m\u001b[39m\"\u001b[39;49m\u001b[39m    --lr_warmup_steps=0    --max_train_steps=400    --gradient_checkpointing    --use_8bit_adam \u001b[39;49m\u001b[39m\\\\\u001b[39;49;00m\u001b[39m'\u001b[39;49m)\n",
      "File \u001b[0;32m~/.conda/envs/llm_env/lib/python3.9/site-packages/IPython/core/interactiveshell.py:2432\u001b[0m, in \u001b[0;36mInteractiveShell.run_line_magic\u001b[0;34m(self, magic_name, line, _stack_depth)\u001b[0m\n\u001b[1;32m   2430\u001b[0m     kwargs[\u001b[39m'\u001b[39m\u001b[39mlocal_ns\u001b[39m\u001b[39m'\u001b[39m] \u001b[39m=\u001b[39m \u001b[39mself\u001b[39m\u001b[39m.\u001b[39mget_local_scope(stack_depth)\n\u001b[1;32m   2431\u001b[0m \u001b[39mwith\u001b[39;00m \u001b[39mself\u001b[39m\u001b[39m.\u001b[39mbuiltin_trap:\n\u001b[0;32m-> 2432\u001b[0m     result \u001b[39m=\u001b[39m fn(\u001b[39m*\u001b[39;49margs, \u001b[39m*\u001b[39;49m\u001b[39m*\u001b[39;49mkwargs)\n\u001b[1;32m   2434\u001b[0m \u001b[39m# The code below prevents the output from being displayed\u001b[39;00m\n\u001b[1;32m   2435\u001b[0m \u001b[39m# when using magics with decorator @output_can_be_silenced\u001b[39;00m\n\u001b[1;32m   2436\u001b[0m \u001b[39m# when the last Python token in the expression is a ';'.\u001b[39;00m\n\u001b[1;32m   2437\u001b[0m \u001b[39mif\u001b[39;00m \u001b[39mgetattr\u001b[39m(fn, magic\u001b[39m.\u001b[39mMAGIC_OUTPUT_CAN_BE_SILENCED, \u001b[39mFalse\u001b[39;00m):\n",
      "File \u001b[0;32m~/.conda/envs/llm_env/lib/python3.9/site-packages/IPython/core/magics/execution.py:703\u001b[0m, in \u001b[0;36mExecutionMagics.run\u001b[0;34m(self, parameter_s, runner, file_finder)\u001b[0m\n\u001b[1;32m    700\u001b[0m     parameter_s \u001b[39m=\u001b[39m \u001b[39m'\u001b[39m\u001b[39m \u001b[39m\u001b[39m'\u001b[39m\u001b[39m.\u001b[39mjoin(shlex\u001b[39m.\u001b[39mquote(arg) \u001b[39mfor\u001b[39;00m arg \u001b[39min\u001b[39;00m argv)\n\u001b[1;32m    702\u001b[0m \u001b[39m# get arguments and set sys.argv for program to be run.\u001b[39;00m\n\u001b[0;32m--> 703\u001b[0m opts, arg_lst \u001b[39m=\u001b[39m \u001b[39mself\u001b[39;49m\u001b[39m.\u001b[39;49mparse_options(parameter_s,\n\u001b[1;32m    704\u001b[0m                                    \u001b[39m'\u001b[39;49m\u001b[39mnidtN:b:pD:l:rs:T:em:G\u001b[39;49m\u001b[39m'\u001b[39;49m,\n\u001b[1;32m    705\u001b[0m                                    mode\u001b[39m=\u001b[39;49m\u001b[39m'\u001b[39;49m\u001b[39mlist\u001b[39;49m\u001b[39m'\u001b[39;49m, list_all\u001b[39m=\u001b[39;49m\u001b[39m1\u001b[39;49m)\n\u001b[1;32m    706\u001b[0m \u001b[39mif\u001b[39;00m \u001b[39m\"\u001b[39m\u001b[39mm\u001b[39m\u001b[39m\"\u001b[39m \u001b[39min\u001b[39;00m opts:\n\u001b[1;32m    707\u001b[0m     modulename \u001b[39m=\u001b[39m opts[\u001b[39m\"\u001b[39m\u001b[39mm\u001b[39m\u001b[39m\"\u001b[39m][\u001b[39m0\u001b[39m]\n",
      "File \u001b[0;32m~/.conda/envs/llm_env/lib/python3.9/site-packages/IPython/core/magic.py:670\u001b[0m, in \u001b[0;36mMagics.parse_options\u001b[0;34m(self, arg_str, opt_str, *long_opts, **kw)\u001b[0m\n\u001b[1;32m    666\u001b[0m args \u001b[39m=\u001b[39m arg_str\u001b[39m.\u001b[39msplit()\n\u001b[1;32m    667\u001b[0m \u001b[39mif\u001b[39;00m \u001b[39mlen\u001b[39m(args) \u001b[39m>\u001b[39m\u001b[39m=\u001b[39m \u001b[39m1\u001b[39m:\n\u001b[1;32m    668\u001b[0m     \u001b[39m# If the list of inputs only has 0 or 1 thing in it, there's no\u001b[39;00m\n\u001b[1;32m    669\u001b[0m     \u001b[39m# need to look for options\u001b[39;00m\n\u001b[0;32m--> 670\u001b[0m     argv \u001b[39m=\u001b[39m arg_split(arg_str, posix, strict)\n\u001b[1;32m    671\u001b[0m     \u001b[39m# Do regular option processing\u001b[39;00m\n\u001b[1;32m    672\u001b[0m     \u001b[39mtry\u001b[39;00m:\n",
      "File \u001b[0;32m~/.conda/envs/llm_env/lib/python3.9/site-packages/IPython/utils/_process_common.py:200\u001b[0m, in \u001b[0;36marg_split\u001b[0;34m(s, posix, strict)\u001b[0m\n\u001b[1;32m    198\u001b[0m \u001b[39mwhile\u001b[39;00m \u001b[39mTrue\u001b[39;00m:\n\u001b[1;32m    199\u001b[0m     \u001b[39mtry\u001b[39;00m:\n\u001b[0;32m--> 200\u001b[0m         tokens\u001b[39m.\u001b[39mappend(\u001b[39mnext\u001b[39;49m(lex))\n\u001b[1;32m    201\u001b[0m     \u001b[39mexcept\u001b[39;00m \u001b[39mStopIteration\u001b[39;00m:\n\u001b[1;32m    202\u001b[0m         \u001b[39mbreak\u001b[39;00m\n",
      "File \u001b[0;32m~/.conda/envs/llm_env/lib/python3.9/shlex.py:300\u001b[0m, in \u001b[0;36mshlex.__next__\u001b[0;34m(self)\u001b[0m\n\u001b[1;32m    299\u001b[0m \u001b[39mdef\u001b[39;00m \u001b[39m__next__\u001b[39m(\u001b[39mself\u001b[39m):\n\u001b[0;32m--> 300\u001b[0m     token \u001b[39m=\u001b[39m \u001b[39mself\u001b[39;49m\u001b[39m.\u001b[39;49mget_token()\n\u001b[1;32m    301\u001b[0m     \u001b[39mif\u001b[39;00m token \u001b[39m==\u001b[39m \u001b[39mself\u001b[39m\u001b[39m.\u001b[39meof:\n\u001b[1;32m    302\u001b[0m         \u001b[39mraise\u001b[39;00m \u001b[39mStopIteration\u001b[39;00m\n",
      "File \u001b[0;32m~/.conda/envs/llm_env/lib/python3.9/shlex.py:109\u001b[0m, in \u001b[0;36mshlex.get_token\u001b[0;34m(self)\u001b[0m\n\u001b[1;32m    107\u001b[0m     \u001b[39mreturn\u001b[39;00m tok\n\u001b[1;32m    108\u001b[0m \u001b[39m# No pushback.  Get a token.\u001b[39;00m\n\u001b[0;32m--> 109\u001b[0m raw \u001b[39m=\u001b[39m \u001b[39mself\u001b[39;49m\u001b[39m.\u001b[39;49mread_token()\n\u001b[1;32m    110\u001b[0m \u001b[39m# Handle inclusions\u001b[39;00m\n\u001b[1;32m    111\u001b[0m \u001b[39mif\u001b[39;00m \u001b[39mself\u001b[39m\u001b[39m.\u001b[39msource \u001b[39mis\u001b[39;00m \u001b[39mnot\u001b[39;00m \u001b[39mNone\u001b[39;00m:\n",
      "File \u001b[0;32m~/.conda/envs/llm_env/lib/python3.9/shlex.py:210\u001b[0m, in \u001b[0;36mshlex.read_token\u001b[0;34m(self)\u001b[0m\n\u001b[1;32m    208\u001b[0m         \u001b[39mprint\u001b[39m(\u001b[39m\"\u001b[39m\u001b[39mshlex: I see EOF in escape state\u001b[39m\u001b[39m\"\u001b[39m)\n\u001b[1;32m    209\u001b[0m     \u001b[39m# XXX what error should be raised here?\u001b[39;00m\n\u001b[0;32m--> 210\u001b[0m     \u001b[39mraise\u001b[39;00m \u001b[39mValueError\u001b[39;00m(\u001b[39m\"\u001b[39m\u001b[39mNo escaped character\u001b[39m\u001b[39m\"\u001b[39m)\n\u001b[1;32m    211\u001b[0m \u001b[39m# In posix shells, only the quote itself or the escape\u001b[39;00m\n\u001b[1;32m    212\u001b[0m \u001b[39m# character may be escaped within quotes.\u001b[39;00m\n\u001b[1;32m    213\u001b[0m \u001b[39mif\u001b[39;00m (escapedstate \u001b[39min\u001b[39;00m \u001b[39mself\u001b[39m\u001b[39m.\u001b[39mquotes \u001b[39mand\u001b[39;00m\n\u001b[1;32m    214\u001b[0m         nextchar \u001b[39m!=\u001b[39m \u001b[39mself\u001b[39m\u001b[39m.\u001b[39mstate \u001b[39mand\u001b[39;00m nextchar \u001b[39m!=\u001b[39m escapedstate):\n",
      "\u001b[0;31mValueError\u001b[0m: No escaped character"
     ]
    }
   ],
   "source": [
    "%run accelerate launch train_dreambooth.py \\\n",
    "  --mixed_precision=\"fp16\" \\\n",
    "  --pretrained_model_name_or_path=MODEL_NAME  \\\n",
    "  --instance_data_dir=INSTANCE_DIR \\\n",
    "  --output_dir=OUTPUT_DIR \\\n",
    "  --instance_prompt=\"a <book cover> for a magical fantasy book\" \\\n",
    "  --train_text_encoder \\\n",
    "  --resolution=512 \\\n",
    "  --train_batch_size=1 \\\n",
    "  --gradient_accumulation_steps=3 \\\n",
    "  --learning_rate=2e-6 \\\n",
    "  --lr_scheduler=\"DDIM\" \\\n",
    "  --lr_warmup_steps=0 \\\n",
    "  --max_train_steps=400 \\\n",
    "  --gradient_checkpointing \\\n",
    "  --use_8bit_adam \\"
   ]
  },
  {
   "cell_type": "code",
   "execution_count": null,
   "id": "e27d4910",
   "metadata": {
    "vscode": {
     "languageId": "shellscript"
    }
   },
   "outputs": [],
   "source": []
  }
 ],
 "metadata": {
  "kernelspec": {
   "display_name": "Python 3 (ipykernel)",
   "language": "python",
   "name": "python3"
  },
  "language_info": {
   "codemirror_mode": {
    "name": "ipython",
    "version": 3
   },
   "file_extension": ".py",
   "mimetype": "text/x-python",
   "name": "python",
   "nbconvert_exporter": "python",
   "pygments_lexer": "ipython3",
   "version": "3.9.0"
  }
 },
 "nbformat": 4,
 "nbformat_minor": 5
}
