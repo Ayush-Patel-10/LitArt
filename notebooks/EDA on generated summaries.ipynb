{
 "cells": [
  {
   "cell_type": "code",
   "execution_count": 2,
   "id": "da865d33-0edd-4ca4-bb10-fc9c49e5e09d",
   "metadata": {},
   "outputs": [
    {
     "name": "stderr",
     "output_type": "stream",
     "text": [
      "2024-03-13 19:40:40.896310: I tensorflow/tsl/cuda/cudart_stub.cc:28] Could not find cuda drivers on your machine, GPU will not be used.\n",
      "2024-03-13 19:40:41.242774: I tensorflow/core/platform/cpu_feature_guard.cc:182] This TensorFlow binary is optimized to use available CPU instructions in performance-critical operations.\n",
      "To enable the following instructions: AVX2 FMA, in other operations, rebuild TensorFlow with the appropriate compiler flags.\n",
      "2024-03-13 19:40:58.570708: W tensorflow/compiler/tf2tensorrt/utils/py_utils.cc:38] TF-TRT Warning: Could not find TensorRT\n",
      "[nltk_data] Downloading package punkt to /home/nair.ro/nltk_data...\n",
      "[nltk_data]   Package punkt is already up-to-date!\n"
     ]
    }
   ],
   "source": [
    "import pandas as pd\n",
    "import transformers\n",
    "from transformers import AutoTokenizer, AutoModelForSeq2SeqLM, Seq2SeqTrainingArguments, Seq2SeqTrainer\n",
    "from datasets import load_dataset, load_from_disk\n",
    "import numpy as np\n",
    "import nltk\n",
    "nltk.download('punkt')\n",
    "import pandas as pd\n",
    "from datasets import Dataset, DatasetDict\n",
    "import pandas as pd\n",
    "import re\n",
    "from sklearn.model_selection import train_test_split\n",
    "from transformers import pipeline\n",
    "\n"
   ]
  },
  {
   "cell_type": "code",
   "execution_count": 2,
   "id": "6f238e55-88a1-40c7-9e80-55c0ff763f3c",
   "metadata": {},
   "outputs": [],
   "source": [
    "train_df = pd.read_csv('/work/LitArt/data/generated_summaries/train_dataset_with_summaries.csv')\n",
    "test_df = pd.read_csv('/work/LitArt/data/generated_summaries/test_dataset_with_summaries.csv')\n",
    "val_df = pd.read_csv('/work/LitArt/data/generated_summaries/validation_dataset_with_summaries.csv')\n"
   ]
  },
  {
   "cell_type": "code",
   "execution_count": 8,
   "id": "4d442c45-6f23-40c1-8584-c5f1923a7a8a",
   "metadata": {},
   "outputs": [
    {
     "data": {
      "text/html": [
       "<div>\n",
       "<style scoped>\n",
       "    .dataframe tbody tr th:only-of-type {\n",
       "        vertical-align: middle;\n",
       "    }\n",
       "\n",
       "    .dataframe tbody tr th {\n",
       "        vertical-align: top;\n",
       "    }\n",
       "\n",
       "    .dataframe thead th {\n",
       "        text-align: right;\n",
       "    }\n",
       "</style>\n",
       "<table border=\"1\" class=\"dataframe\">\n",
       "  <thead>\n",
       "    <tr style=\"text-align: right;\">\n",
       "      <th></th>\n",
       "      <th>chapter</th>\n",
       "      <th>summary_text</th>\n",
       "      <th>__index_level_0__</th>\n",
       "      <th>generated_summary</th>\n",
       "    </tr>\n",
       "  </thead>\n",
       "  <tbody>\n",
       "    <tr>\n",
       "      <th>0</th>\n",
       "      <td>one evening as i was lying flat on the deck of...</td>\n",
       "      <td>from the deck of his steamboat marlow overhear...</td>\n",
       "      <td>5664</td>\n",
       "      <td>On a steamboat, the narrator overhears a conve...</td>\n",
       "    </tr>\n",
       "    <tr>\n",
       "      <th>1</th>\n",
       "      <td>the river--seemed to beckon with a dishonourin...</td>\n",
       "      <td>from the deck of his steamboat marlow overhear...</td>\n",
       "      <td>5664</td>\n",
       "      <td>Narrator travels up a mysterious river, encoun...</td>\n",
       "    </tr>\n",
       "    <tr>\n",
       "      <th>2</th>\n",
       "      <td>air for a while--and on we went again into the...</td>\n",
       "      <td>from the deck of his steamboat marlow overhear...</td>\n",
       "      <td>5664</td>\n",
       "      <td>The passage describes a journey through a dens...</td>\n",
       "    </tr>\n",
       "    <tr>\n",
       "      <th>3</th>\n",
       "      <td>instructed and what he knew was this--that sho...</td>\n",
       "      <td>from the deck of his steamboat marlow overhear...</td>\n",
       "      <td>5664</td>\n",
       "      <td>A fireman, fearing an evil spirit in the boile...</td>\n",
       "    </tr>\n",
       "    <tr>\n",
       "      <th>4</th>\n",
       "      <td>we were till next morning moreover he pointed ...</td>\n",
       "      <td>from the deck of his steamboat marlow overhear...</td>\n",
       "      <td>5664</td>\n",
       "      <td>Delayed by sensible caution, the narrator navi...</td>\n",
       "    </tr>\n",
       "  </tbody>\n",
       "</table>\n",
       "</div>"
      ],
      "text/plain": [
       "                                             chapter  \\\n",
       "0  one evening as i was lying flat on the deck of...   \n",
       "1  the river--seemed to beckon with a dishonourin...   \n",
       "2  air for a while--and on we went again into the...   \n",
       "3  instructed and what he knew was this--that sho...   \n",
       "4  we were till next morning moreover he pointed ...   \n",
       "\n",
       "                                        summary_text  __index_level_0__  \\\n",
       "0  from the deck of his steamboat marlow overhear...               5664   \n",
       "1  from the deck of his steamboat marlow overhear...               5664   \n",
       "2  from the deck of his steamboat marlow overhear...               5664   \n",
       "3  from the deck of his steamboat marlow overhear...               5664   \n",
       "4  from the deck of his steamboat marlow overhear...               5664   \n",
       "\n",
       "                                   generated_summary  \n",
       "0  On a steamboat, the narrator overhears a conve...  \n",
       "1  Narrator travels up a mysterious river, encoun...  \n",
       "2  The passage describes a journey through a dens...  \n",
       "3  A fireman, fearing an evil spirit in the boile...  \n",
       "4  Delayed by sensible caution, the narrator navi...  "
      ]
     },
     "execution_count": 8,
     "metadata": {},
     "output_type": "execute_result"
    }
   ],
   "source": [
    "train_df.head()"
   ]
  },
  {
   "cell_type": "code",
   "execution_count": 11,
   "id": "3a0869a6-cb8e-4580-ba6a-427c5d74b216",
   "metadata": {},
   "outputs": [],
   "source": [
    "def pre_processing(sentence):\n",
    "    #lower text\n",
    "    sentence = sentence.lower()\n",
    "\n",
    "    pattern = r\"\\s*\\([a-zA-Z]\\s_\\)\"\n",
    "    sentence = re.sub(pattern, \"\", sentence)\n",
    "        \n",
    "    sentence = sentence.replace(\"\\n\",\" \")\n",
    "    \n",
    "    # replacing everything with space  \n",
    "    sentence = re.sub(r\"[=.!,¿?.!+,;¿/:|%()<>।॰{}#_'\\\"@$^&*']\", \" \", sentence)\n",
    "    sentence = re.sub(r\"…\", \" \", sentence)\n",
    "    \n",
    "    #remove double quotes\n",
    "    sentence = re.sub(r'\"', \" \", sentence)\n",
    "    \n",
    "    #remove numbers\n",
    "    sentence = re.sub(r'[0-9]', \"\", sentence)\n",
    "    #sentence = re.sub(r'#([^s]+)', r'1', sentence)\n",
    "    \n",
    "    #remove website links\n",
    "    sentence = re.sub('((www.[^s]+)|(https?://[^s]+))','',sentence)\n",
    "    \n",
    "    #remove @anythin here\n",
    "    #sentence = re.sub('@[^s]+','',sentence)\n",
    "    \n",
    "    #remove multiple spaces\n",
    "    sentence = re.sub(r'[\" \"]+', \" \", sentence)\n",
    "    \n",
    "    # remove extra space\n",
    "    sentence = sentence.strip()\n",
    "    \n",
    "    return sentence"
   ]
  },
  {
   "cell_type": "code",
   "execution_count": 13,
   "id": "bb71042a-f51e-4698-a2d6-18706a8a74d1",
   "metadata": {},
   "outputs": [],
   "source": [
    "\n",
    "train_dataset = Dataset.from_pandas(train_df)\n",
    "test_dataset = Dataset.from_pandas(test_df)\n",
    "val_dataset = Dataset.from_pandas(val_df)\n",
    "\n",
    "Dataset_dic = DatasetDict({\n",
    "    \"train\": train_dataset,\n",
    "    \"validation\": val_dataset,\n",
    "    \"test\": test_dataset\n",
    "})\n",
    "\n",
    "\n"
   ]
  },
  {
   "cell_type": "code",
   "execution_count": 29,
   "id": "faf48d51-5a1f-40ee-aa6b-979788b19a02",
   "metadata": {},
   "outputs": [
    {
     "name": "stdout",
     "output_type": "stream",
     "text": [
      "\n",
      "'>> chapter: venture and with a little portion of emmy s savings besides her pension of fifty pounds a year there had been five hundred pounds as her husband s executor stated left in the agent s hands at the time of osborne s demise which sum as george s guardian dobbin proposed to put out at per cent in an indian house of agency mr sedley who thought the major had some roguish intentions of his own about the money was strongly against this plan and he went to the agents to protest personally against the em'\n",
      "'>> generated_summary: Emmy's savings and pension were left by her late husband in Major Dobbin's care, leading to misunderstandings and reconciliations.'\n",
      "\n",
      "\n",
      "\n",
      "'>> chapter: xv knitting there had been earlier drinking than usual in the wine-shop of monsieur defarge as early as six o clock in the morning sallow faces peeping through its barred windows had descried other faces within bending over measures of wine monsieur defarge sold a very thin wine at the best of times but it would seem to have been an unusually thin wine that he sold at this time a sour wine moreover or a souring for its influence on the mood of those who drank it was to make them gloomy no vivaci'\n",
      "'>> generated_summary: In Monsieur Defarge's wine-shop, early drinking caused gloominess among patrons. Defarge met a mender of roads, leading to secretive conversations.'\n",
      "\n",
      "\n",
      "\n",
      "'>> chapter: denoted his exalted rank this warlike personage upon entering the house seated himself at some distance from the spot where toby and myself reposed while the rest of the savages looked alternately from us to him as if in expectation of something they were disappointed in not perceiving regarding the chief attentively i thought his lineaments appeared familiar to me as soon as his full face was turned upon me and i again beheld its extraordinary embellishment and met the strange gaze to which i h'\n",
      "'>> generated_summary: The narrator meets the noble Mehevi, who shows friendliness. An old islander treats a swollen limb with painful methods.'\n",
      "\n",
      "\n",
      "\n",
      "'>> chapter: made no difference--she d throw everything over every duty at home domestic maternal social awaited her but it was a case for a high line her affairs would go to smash but hadn t one a right to one s snatch of scandal when one was prepared to pay it was on this pleasant basis of costly disorder consequently that they eventually seated themselves on either side of a small table at a window adjusted to the busy quay and the shining barge-burdened seine where for an hour in the matter of letting hi'\n",
      "'>> generated_summary: Strether contemplates life, duty, and scandal with Madame de Vionnet in Paris, feeling out of control and questioning loyalties.'\n",
      "\n",
      "\n",
      "\n",
      "'>> chapter: eyes they were making out to me in an agitated way--i don t know how for the little i could hear i was scarcely composed enough to understand--that the lifeboat had been bravely manned an hour ago and could do nothing and that as no man would be so desperate as to attempt to wade off with a rope and establish a communication with the shore there was nothing left to try when i noticed that some new sensation moved the people on the beach and saw them part and ham come breaking through them to the'\n",
      "'>> generated_summary: People on the beach see a man trying to reach a wreck. Despite pleas, he bravely heads to sea, but tragically drowns.'\n",
      "\n",
      "\n"
     ]
    }
   ],
   "source": [
    "def show_samples(dataset, num_samples=5, seed=42):\n",
    "    sample = dataset[\"train\"].shuffle(seed=seed).select(range(num_samples))\n",
    "    for example in sample:\n",
    "        print(f\"\\n'>> chapter: {example['chapter'][:500]}'\")\n",
    "        print(f\"'>> generated_summary: {example['generated_summary'][:500]}'\")\n",
    "        print(\"\\n\")\n",
    "\n",
    "\n",
    "show_samples(Dataset_dic)"
   ]
  },
  {
   "cell_type": "code",
   "execution_count": 17,
   "id": "1bafed6a-f515-47d6-b48d-0397a4ccb1d8",
   "metadata": {},
   "outputs": [],
   "source": [
    "df_new = pd.concat([train_df, test_df , val_df], axis=0)"
   ]
  },
  {
   "cell_type": "code",
   "execution_count": 22,
   "id": "110d344f-03c7-4a86-8b96-604d3fede0c2",
   "metadata": {},
   "outputs": [
    {
     "data": {
      "text/plain": [
       "13830"
      ]
     },
     "execution_count": 22,
     "metadata": {},
     "output_type": "execute_result"
    }
   ],
   "source": [
    "len(df_new)"
   ]
  },
  {
   "cell_type": "code",
   "execution_count": 23,
   "id": "0c357d7d-4129-405b-8bfc-af8033346df3",
   "metadata": {},
   "outputs": [],
   "source": [
    "\n",
    "df_new['chapter_word_count'] = df_new['chapter'].apply(lambda x: len(x.split()))\n",
    "df_new['summary_text_word_count'] = df_new['generated_summary'].apply(lambda x: len(x.split()))\n",
    "\n",
    "average_chapter_words = df_new['chapter_word_count'].mean()\n",
    "max_chapter_words = df_new['chapter_word_count'].max()\n",
    "median_chapter_words = df_new['chapter_word_count'].median()\n",
    "\n",
    "average_summary_text_words = df_new['summary_text_word_count'].mean()\n",
    "max_summary_text_words = df_new['summary_text_word_count'].max()\n",
    "median_summary_text_words = df_new['summary_text_word_count'].median()\n",
    "\n"
   ]
  },
  {
   "cell_type": "code",
   "execution_count": 24,
   "id": "e6dc7d66-d625-4340-855b-dde866804d73",
   "metadata": {},
   "outputs": [
    {
     "name": "stdout",
     "output_type": "stream",
     "text": [
      "average_summary_text_words =  23.425090383224873\n",
      " max_summary_text_words =  143\n",
      "median_summary_text_words =  20.0\n",
      "average_chapter_words =  888.3359363702097\n",
      "max_chapter_words =  1000\n",
      " median_chapter_words =  1000.0\n"
     ]
    }
   ],
   "source": [
    "    print(\"average_summary_text_words = \", average_summary_text_words ) \n",
    "    print(\" max_summary_text_words = \" , max_summary_text_words)\n",
    "    print(\"median_summary_text_words = \" , median_summary_text_words)\n",
    "    print(\"average_chapter_words = \" , average_chapter_words)\n",
    "    print(\"max_chapter_words = \" ,max_chapter_words )\n",
    "    print(\" median_chapter_words = \" ,median_chapter_words )"
   ]
  },
  {
   "cell_type": "code",
   "execution_count": 25,
   "id": "9b0ffae5-4531-40b8-9e1d-41ec791deb26",
   "metadata": {},
   "outputs": [
    {
     "name": "stdout",
     "output_type": "stream",
     "text": [
      "Number of outlier rows:  3404\n",
      " bottom_10_threshold_chapter =  1383\n",
      " top_10_threshold_chapter =  0\n",
      "top_10_threshold_summary_text =  1344\n",
      "bottom_10_threshold_summary_text =  903\n"
     ]
    }
   ],
   "source": [
    "\n",
    "bottom_10_threshold_chapter = df_new['chapter_word_count'].quantile(0.1)\n",
    "top_10_threshold_chapter = df_new['chapter_word_count'].quantile(0.9)\n",
    "\n",
    "bottom_10_threshold_summary_text = df_new['summary_text_word_count'].quantile(0.1)\n",
    "top_10_threshold_summary_text = df_new['summary_text_word_count'].quantile(0.9)\n",
    "\n",
    "outlier_rows = df_new[(df_new['chapter_word_count'] < bottom_10_threshold_chapter) | \n",
    "                      (df_new['chapter_word_count'] > top_10_threshold_chapter) |\n",
    "                      (df_new['summary_text_word_count'] < bottom_10_threshold_summary_text) | \n",
    "                      (df_new['summary_text_word_count'] > top_10_threshold_summary_text)]\n",
    "\n",
    "number_of_outliers = outlier_rows.shape[0]\n",
    "\n",
    "df_without_outliers = df_new[~((df_new['chapter_word_count'] < bottom_10_threshold_chapter) | \n",
    "                               (df_new['chapter_word_count'] > top_10_threshold_chapter) |\n",
    "                               (df_new['summary_text_word_count'] < bottom_10_threshold_summary_text) | \n",
    "                               (df_new['summary_text_word_count'] > top_10_threshold_summary_text))]\n",
    "\n",
    "print(\"Number of outlier rows: \" , number_of_outliers)\n",
    "print(\" bottom_10_threshold_chapter = \" ,df_new[(df_new['chapter_word_count'] < bottom_10_threshold_chapter)].shape[0] )\n",
    "print(\" top_10_threshold_chapter = \" ,df_new[(df_new['chapter_word_count'] > top_10_threshold_chapter)].shape[0] )\n",
    "print(\"top_10_threshold_summary_text = \" ,df_new[(df_new['summary_text_word_count'] > top_10_threshold_summary_text)].shape[0] )\n",
    "print(\"bottom_10_threshold_summary_text = \" ,df_new[(df_new['summary_text_word_count'] < bottom_10_threshold_summary_text)].shape[0] )\n",
    "\n"
   ]
  },
  {
   "cell_type": "code",
   "execution_count": 26,
   "id": "eff787b5-4190-46c4-908b-485e901b26ee",
   "metadata": {},
   "outputs": [
    {
     "name": "stdout",
     "output_type": "stream",
     "text": [
      "After removing outliers \n",
      "\n",
      "average_summary_text_words =  21.338001150968733\n",
      " max_summary_text_words =  31\n",
      "median_summary_text_words =  20.0\n",
      "average_chapter_words =  961.5292537886054\n",
      "max_chapter_words =  1000\n",
      " median_chapter_words =  1000.0\n"
     ]
    },
    {
     "name": "stderr",
     "output_type": "stream",
     "text": [
      "/tmp/ipykernel_237385/2713342462.py:1: SettingWithCopyWarning: \n",
      "A value is trying to be set on a copy of a slice from a DataFrame.\n",
      "Try using .loc[row_indexer,col_indexer] = value instead\n",
      "\n",
      "See the caveats in the documentation: https://pandas.pydata.org/pandas-docs/stable/user_guide/indexing.html#returning-a-view-versus-a-copy\n",
      "  df_without_outliers['chapter_word_count'] = df_without_outliers['chapter'].apply(lambda x: len(x.split()))\n",
      "/tmp/ipykernel_237385/2713342462.py:2: SettingWithCopyWarning: \n",
      "A value is trying to be set on a copy of a slice from a DataFrame.\n",
      "Try using .loc[row_indexer,col_indexer] = value instead\n",
      "\n",
      "See the caveats in the documentation: https://pandas.pydata.org/pandas-docs/stable/user_guide/indexing.html#returning-a-view-versus-a-copy\n",
      "  df_without_outliers['summary_text_word_count'] = df_without_outliers['generated_summary'].apply(lambda x: len(x.split()))\n"
     ]
    }
   ],
   "source": [
    "\n",
    "df_without_outliers['chapter_word_count'] = df_without_outliers['chapter'].apply(lambda x: len(x.split()))\n",
    "df_without_outliers['summary_text_word_count'] = df_without_outliers['generated_summary'].apply(lambda x: len(x.split()))\n",
    "\n",
    "average_chapter_words = df_without_outliers['chapter_word_count'].mean()\n",
    "max_chapter_words = df_without_outliers['chapter_word_count'].max()\n",
    "median_chapter_words = df_without_outliers['chapter_word_count'].median()\n",
    "\n",
    "average_summary_text_words = df_without_outliers['summary_text_word_count'].mean()\n",
    "max_summary_text_words = df_without_outliers['summary_text_word_count'].max()\n",
    "median_summary_text_words = df_without_outliers['summary_text_word_count'].median()\n",
    "\n",
    "print(\"After removing outliers \\n\")\n",
    "print(\"average_summary_text_words = \", average_summary_text_words ) \n",
    "print(\" max_summary_text_words = \" , max_summary_text_words)\n",
    "print(\"median_summary_text_words = \" , median_summary_text_words)\n",
    "print(\"average_chapter_words = \" , average_chapter_words)\n",
    "print(\"max_chapter_words = \" ,max_chapter_words )\n",
    "print(\" median_chapter_words = \" ,median_chapter_words )\n",
    "\n"
   ]
  },
  {
   "cell_type": "code",
   "execution_count": null,
   "id": "08f449ad-cbb2-4c92-b74e-7a4d1527d845",
   "metadata": {},
   "outputs": [],
   "source": []
  }
 ],
 "metadata": {
  "kernelspec": {
   "display_name": "Python 3 (ipykernel)",
   "language": "python",
   "name": "python3"
  },
  "language_info": {
   "codemirror_mode": {
    "name": "ipython",
    "version": 3
   },
   "file_extension": ".py",
   "mimetype": "text/x-python",
   "name": "python",
   "nbconvert_exporter": "python",
   "pygments_lexer": "ipython3",
   "version": "3.8.13"
  }
 },
 "nbformat": 4,
 "nbformat_minor": 5
}
