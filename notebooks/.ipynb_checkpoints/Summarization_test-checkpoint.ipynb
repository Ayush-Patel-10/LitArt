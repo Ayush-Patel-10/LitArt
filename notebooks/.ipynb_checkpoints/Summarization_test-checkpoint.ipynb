{
 "cells": [
  {
   "cell_type": "code",
   "execution_count": null,
   "id": "7ec9a153-f399-4f4c-9878-f95ad0019765",
   "metadata": {
    "id": "7ec9a153-f399-4f4c-9878-f95ad0019765",
    "outputId": "51f4ef6d-3aec-499d-d2e6-a0a22fd22460",
    "pycharm": {
     "name": "#%%\n"
    }
   },
   "outputs": [
    {
     "name": "stdout",
     "output_type": "stream",
     "text": [
      "/work/LitArt/nair/conda_env\n"
     ]
    }
   ],
   "source": [
    "import os\n",
    "print (os.environ['CONDA_DEFAULT_ENV'])\n",
    "\n"
   ]
  },
  {
   "cell_type": "code",
   "execution_count": null,
   "id": "c8698046-e663-447a-86f3-852b9bbef827",
   "metadata": {
    "id": "c8698046-e663-447a-86f3-852b9bbef827",
    "outputId": "87edbc67-eb8b-46f5-e304-22ad55e3b41e",
    "pycharm": {
     "name": "#%%\n"
    }
   },
   "outputs": [
    {
     "name": "stderr",
     "output_type": "stream",
     "text": [
      "2024-02-12 15:03:16.886806: I tensorflow/core/util/port.cc:110] oneDNN custom operations are on. You may see slightly different numerical results due to floating-point round-off errors from different computation orders. To turn them off, set the environment variable `TF_ENABLE_ONEDNN_OPTS=0`.\n",
      "2024-02-12 15:03:16.947494: I tensorflow/core/platform/cpu_feature_guard.cc:182] This TensorFlow binary is optimized to use available CPU instructions in performance-critical operations.\n",
      "To enable the following instructions: AVX2 AVX512F AVX512_VNNI FMA, in other operations, rebuild TensorFlow with the appropriate compiler flags.\n",
      "2024-02-12 15:03:20.015100: W tensorflow/compiler/tf2tensorrt/utils/py_utils.cc:38] TF-TRT Warning: Could not find TensorRT\n",
      "[nltk_data] Downloading package punkt to /home/nair.ro/nltk_data...\n",
      "[nltk_data]   Package punkt is already up-to-date!\n"
     ]
    }
   ],
   "source": [
    "import transformers\n",
    "from transformers import AutoTokenizer, AutoModelForSeq2SeqLM, Seq2SeqTrainingArguments, Seq2SeqTrainer\n",
    "from datasets import load_dataset, load_from_disk\n",
    "import numpy as np\n",
    "import nltk\n",
    "nltk.download('punkt')\n",
    "import pandas as pd\n",
    "from datasets import Dataset, DatasetDict\n",
    "import pandas as pd\n",
    "import re\n",
    "from sklearn.model_selection import train_test_split\n",
    "from transformers import pipeline\n"
   ]
  },
  {
   "cell_type": "markdown",
   "source": [
    "#Load the dataset"
   ],
   "metadata": {
    "id": "abgwmBsx8QSf",
    "pycharm": {
     "name": "#%% md\n"
    }
   },
   "id": "abgwmBsx8QSf"
  },
  {
   "cell_type": "code",
   "execution_count": null,
   "id": "47a30f74-0b98-4b3f-a32f-c609c08b776f",
   "metadata": {
    "id": "47a30f74-0b98-4b3f-a32f-c609c08b776f",
    "pycharm": {
     "name": "#%%\n"
    }
   },
   "outputs": [],
   "source": [
    "data = load_dataset(\"kmfoda/booksum\")"
   ]
  },
  {
   "cell_type": "code",
   "execution_count": null,
   "id": "6aa38e9e-b30f-477d-ab1f-dcdcd4127a37",
   "metadata": {
    "id": "6aa38e9e-b30f-477d-ab1f-dcdcd4127a37",
    "pycharm": {
     "name": "#%%\n"
    }
   },
   "outputs": [],
   "source": [
    "train_df = data['train'].to_pandas()\n",
    "validation_df = data['validation'].to_pandas()\n",
    "test_df = data['test'].to_pandas()\n",
    "combined_df = pd.concat([train_df, validation_df, test_df], ignore_index=True)"
   ]
  },
  {
   "cell_type": "markdown",
   "source": [
    "#Text Preprocessing on Summaries and chapters"
   ],
   "metadata": {
    "id": "IfTPk7Ik8UKo",
    "pycharm": {
     "name": "#%% md\n"
    }
   },
   "id": "IfTPk7Ik8UKo"
  },
  {
   "cell_type": "code",
   "execution_count": null,
   "id": "1ac5c9be-cf7e-4403-bf02-78fca6adbe0a",
   "metadata": {
    "id": "1ac5c9be-cf7e-4403-bf02-78fca6adbe0a",
    "pycharm": {
     "name": "#%%\n"
    }
   },
   "outputs": [],
   "source": [
    "def pre_processing(sentence):\n",
    "    #lower text\n",
    "    sentence = sentence.lower()\n",
    "\n",
    "    pattern = r\"\\s*\\([a-zA-Z]\\s_\\)\"\n",
    "    sentence = re.sub(pattern, \"\", sentence)\n",
    "\n",
    "    sentence = sentence.replace(\"\\n\",\" \")\n",
    "\n",
    "    # replacing everything with space\n",
    "    sentence = re.sub(r\"[=.!,¿?.!+,;¿/:|%()<>।॰{}#_'\\\"@$^&*']\", \" \", sentence)\n",
    "    sentence = re.sub(r\"…\", \" \", sentence)\n",
    "\n",
    "    #remove double quotes\n",
    "    sentence = re.sub(r'\"', \" \", sentence)\n",
    "\n",
    "    #remove numbers\n",
    "    sentence = re.sub(r'[0-9]', \"\", sentence)\n",
    "    #sentence = re.sub(r'#([^s]+)', r'1', sentence)\n",
    "\n",
    "    #remove website links\n",
    "    sentence = re.sub('((www.[^s]+)|(https?://[^s]+))','',sentence)\n",
    "\n",
    "    #remove @anythin here\n",
    "    #sentence = re.sub('@[^s]+','',sentence)\n",
    "\n",
    "    #remove multiple spaces\n",
    "    sentence = re.sub(r'[\" \"]+', \" \", sentence)\n",
    "\n",
    "    # remove extra space\n",
    "    sentence = sentence.strip()\n",
    "\n",
    "    return sentence"
   ]
  },
  {
   "cell_type": "markdown",
   "source": [
    "#Selecting only the required columns"
   ],
   "metadata": {
    "id": "lSim1S2U8cYs",
    "pycharm": {
     "name": "#%% md\n"
    }
   },
   "id": "lSim1S2U8cYs"
  },
  {
   "cell_type": "code",
   "execution_count": null,
   "id": "e836bee3-72d2-4762-9290-3ac0663cca49",
   "metadata": {
    "id": "e836bee3-72d2-4762-9290-3ac0663cca49",
    "outputId": "1714bab0-da98-4ce7-f19e-383ded7459cd",
    "pycharm": {
     "name": "#%%\n"
    }
   },
   "outputs": [
    {
     "data": {
      "text/html": [
       "<div>\n",
       "<style scoped>\n",
       "    .dataframe tbody tr th:only-of-type {\n",
       "        vertical-align: middle;\n",
       "    }\n",
       "\n",
       "    .dataframe tbody tr th {\n",
       "        vertical-align: top;\n",
       "    }\n",
       "\n",
       "    .dataframe thead th {\n",
       "        text-align: right;\n",
       "    }\n",
       "</style>\n",
       "<table border=\"1\" class=\"dataframe\">\n",
       "  <thead>\n",
       "    <tr style=\"text-align: right;\">\n",
       "      <th></th>\n",
       "      <th>bid</th>\n",
       "      <th>chapter_path</th>\n",
       "      <th>summary_path</th>\n",
       "      <th>book_id</th>\n",
       "      <th>summary_id</th>\n",
       "      <th>chapter</th>\n",
       "      <th>summary_text</th>\n",
       "      <th>chapter_length</th>\n",
       "      <th>summary_name</th>\n",
       "      <th>summary_length</th>\n",
       "    </tr>\n",
       "  </thead>\n",
       "  <tbody>\n",
       "    <tr>\n",
       "      <th>0</th>\n",
       "      <td>27681</td>\n",
       "      <td>all_chapterized_books/27681-chapters/chapters_...</td>\n",
       "      <td>finished_summaries/cliffnotes/The Last of the ...</td>\n",
       "      <td>The Last of the Mohicans.chapters 1-2</td>\n",
       "      <td>chapters 1-2</td>\n",
       "      <td>\\n  \"Mine ear is open, and my heart prepared:\\...</td>\n",
       "      <td>Before any characters appear, the time and geo...</td>\n",
       "      <td>6471.0</td>\n",
       "      <td>Chapters 1-2</td>\n",
       "      <td>388.0</td>\n",
       "    </tr>\n",
       "    <tr>\n",
       "      <th>1</th>\n",
       "      <td>27681</td>\n",
       "      <td>all_chapterized_books/27681-chapters/03.txt</td>\n",
       "      <td>finished_summaries/cliffnotes/The Last of the ...</td>\n",
       "      <td>The Last of the Mohicans.chapter 3</td>\n",
       "      <td>chapter 3</td>\n",
       "      <td>\\n  \"Before these fields were shorn and tilled...</td>\n",
       "      <td>In another part of the forest by the river a f...</td>\n",
       "      <td>3132.0</td>\n",
       "      <td>Chapter 3</td>\n",
       "      <td>198.0</td>\n",
       "    </tr>\n",
       "    <tr>\n",
       "      <th>2</th>\n",
       "      <td>27681</td>\n",
       "      <td>all_chapterized_books/27681-chapters/04.txt</td>\n",
       "      <td>finished_summaries/cliffnotes/The Last of the ...</td>\n",
       "      <td>The Last of the Mohicans.chapter 4</td>\n",
       "      <td>chapter 4</td>\n",
       "      <td>\\n  \"Well, go thy way: thou shalt not from thi...</td>\n",
       "      <td>When the mounted party from Fort Howard approa...</td>\n",
       "      <td>3075.0</td>\n",
       "      <td>Chapter 4</td>\n",
       "      <td>319.0</td>\n",
       "    </tr>\n",
       "    <tr>\n",
       "      <th>3</th>\n",
       "      <td>27681</td>\n",
       "      <td>all_chapterized_books/27681-chapters/05.txt</td>\n",
       "      <td>finished_summaries/cliffnotes/The Last of the ...</td>\n",
       "      <td>The Last of the Mohicans.chapter 5</td>\n",
       "      <td>chapter 5</td>\n",
       "      <td>\\n                      \"In such a night\\n  Di...</td>\n",
       "      <td>The pursuit of Magua is unsuccessful, but Hawk...</td>\n",
       "      <td>3268.0</td>\n",
       "      <td>Chapter 5</td>\n",
       "      <td>329.0</td>\n",
       "    </tr>\n",
       "    <tr>\n",
       "      <th>4</th>\n",
       "      <td>27681</td>\n",
       "      <td>all_chapterized_books/27681-chapters/06.txt</td>\n",
       "      <td>finished_summaries/cliffnotes/The Last of the ...</td>\n",
       "      <td>The Last of the Mohicans.chapter 6</td>\n",
       "      <td>chapter 6</td>\n",
       "      <td>\\n  \"Those strains that once did sweet in Zion...</td>\n",
       "      <td>Heyward and the girls are uneasy and Gamut is ...</td>\n",
       "      <td>3873.0</td>\n",
       "      <td>Chapter 6</td>\n",
       "      <td>321.0</td>\n",
       "    </tr>\n",
       "  </tbody>\n",
       "</table>\n",
       "</div>"
      ],
      "text/plain": [
       "     bid                                       chapter_path  \\\n",
       "0  27681  all_chapterized_books/27681-chapters/chapters_...   \n",
       "1  27681        all_chapterized_books/27681-chapters/03.txt   \n",
       "2  27681        all_chapterized_books/27681-chapters/04.txt   \n",
       "3  27681        all_chapterized_books/27681-chapters/05.txt   \n",
       "4  27681        all_chapterized_books/27681-chapters/06.txt   \n",
       "\n",
       "                                        summary_path  \\\n",
       "0  finished_summaries/cliffnotes/The Last of the ...   \n",
       "1  finished_summaries/cliffnotes/The Last of the ...   \n",
       "2  finished_summaries/cliffnotes/The Last of the ...   \n",
       "3  finished_summaries/cliffnotes/The Last of the ...   \n",
       "4  finished_summaries/cliffnotes/The Last of the ...   \n",
       "\n",
       "                                 book_id    summary_id  \\\n",
       "0  The Last of the Mohicans.chapters 1-2  chapters 1-2   \n",
       "1     The Last of the Mohicans.chapter 3     chapter 3   \n",
       "2     The Last of the Mohicans.chapter 4     chapter 4   \n",
       "3     The Last of the Mohicans.chapter 5     chapter 5   \n",
       "4     The Last of the Mohicans.chapter 6     chapter 6   \n",
       "\n",
       "                                             chapter  \\\n",
       "0  \\n  \"Mine ear is open, and my heart prepared:\\...   \n",
       "1  \\n  \"Before these fields were shorn and tilled...   \n",
       "2  \\n  \"Well, go thy way: thou shalt not from thi...   \n",
       "3  \\n                      \"In such a night\\n  Di...   \n",
       "4  \\n  \"Those strains that once did sweet in Zion...   \n",
       "\n",
       "                                        summary_text  chapter_length  \\\n",
       "0  Before any characters appear, the time and geo...          6471.0   \n",
       "1  In another part of the forest by the river a f...          3132.0   \n",
       "2  When the mounted party from Fort Howard approa...          3075.0   \n",
       "3  The pursuit of Magua is unsuccessful, but Hawk...          3268.0   \n",
       "4  Heyward and the girls are uneasy and Gamut is ...          3873.0   \n",
       "\n",
       "   summary_name  summary_length  \n",
       "0  Chapters 1-2           388.0  \n",
       "1     Chapter 3           198.0  \n",
       "2     Chapter 4           319.0  \n",
       "3     Chapter 5           329.0  \n",
       "4     Chapter 6           321.0  "
      ]
     },
     "execution_count": 6,
     "metadata": {},
     "output_type": "execute_result"
    }
   ],
   "source": [
    "required_columns = ['bid', 'chapter_path', 'summary_path', 'book_id', 'summary_id',\n",
    "                    'chapter', 'summary_text', 'chapter_length', 'summary_name', 'summary_length']\n",
    "\n",
    "df_new = combined_df[required_columns]\n",
    "\n",
    "df_new.head()"
   ]
  },
  {
   "cell_type": "code",
   "execution_count": null,
   "id": "acca309b-9dd4-45e3-a540-5dcc613e2164",
   "metadata": {
    "id": "acca309b-9dd4-45e3-a540-5dcc613e2164",
    "outputId": "358b8cc9-6689-4d93-a25c-6c7549d503d8",
    "pycharm": {
     "name": "#%%\n"
    }
   },
   "outputs": [
    {
     "name": "stderr",
     "output_type": "stream",
     "text": [
      "/tmp/ipykernel_86601/1527653068.py:1: SettingWithCopyWarning: \n",
      "A value is trying to be set on a copy of a slice from a DataFrame.\n",
      "Try using .loc[row_indexer,col_indexer] = value instead\n",
      "\n",
      "See the caveats in the documentation: https://pandas.pydata.org/pandas-docs/stable/user_guide/indexing.html#returning-a-view-versus-a-copy\n",
      "  df_new['summary_text'] = df_new['summary_text'].apply(lambda x: pre_processing(x))\n"
     ]
    }
   ],
   "source": [
    "df_new['summary_text'] = df_new['summary_text'].apply(lambda x: pre_processing(x))\n"
   ]
  },
  {
   "cell_type": "code",
   "execution_count": null,
   "id": "1367a330-165b-4e12-86fd-8105e2cda7f9",
   "metadata": {
    "id": "1367a330-165b-4e12-86fd-8105e2cda7f9",
    "outputId": "5c87853c-cdbf-48dc-ea74-90be69e287ea",
    "pycharm": {
     "name": "#%%\n"
    }
   },
   "outputs": [
    {
     "name": "stderr",
     "output_type": "stream",
     "text": [
      "/tmp/ipykernel_86601/3268118729.py:1: SettingWithCopyWarning: \n",
      "A value is trying to be set on a copy of a slice from a DataFrame.\n",
      "Try using .loc[row_indexer,col_indexer] = value instead\n",
      "\n",
      "See the caveats in the documentation: https://pandas.pydata.org/pandas-docs/stable/user_guide/indexing.html#returning-a-view-versus-a-copy\n",
      "  df_new['chapter'] = df_new['chapter'].apply(lambda x: pre_processing(x))\n"
     ]
    }
   ],
   "source": [
    "df_new['chapter'] = df_new['chapter'].apply(lambda x: pre_processing(x))\n"
   ]
  },
  {
   "cell_type": "code",
   "execution_count": null,
   "id": "68b53e4d-1e66-47cc-a7e5-2c340b1dce56",
   "metadata": {
    "id": "68b53e4d-1e66-47cc-a7e5-2c340b1dce56",
    "pycharm": {
     "name": "#%%\n"
    }
   },
   "outputs": [],
   "source": [
    "unrequired_columns = ['bid', 'chapter_path', 'summary_path', 'book_id', 'summary_id',\n",
    "                     'chapter_length', 'summary_name', 'summary_length']\n",
    "\n",
    "\n",
    "df = df_new.drop(columns=unrequired_columns)\n"
   ]
  },
  {
   "cell_type": "code",
   "execution_count": null,
   "id": "a143bba4-5c85-40ab-9bf2-cee03d172c0b",
   "metadata": {
    "id": "a143bba4-5c85-40ab-9bf2-cee03d172c0b",
    "pycharm": {
     "name": "#%%\n"
    }
   },
   "outputs": [],
   "source": [
    "\n",
    "train, test_val = train_test_split(df, test_size=0.2, random_state=42)\n",
    "\n",
    "test, val = train_test_split(test_val, test_size=0.5, random_state=42)\n"
   ]
  },
  {
   "cell_type": "code",
   "execution_count": null,
   "id": "d2b7a9cf-92c7-492b-91fc-70749c36ea9e",
   "metadata": {
    "id": "d2b7a9cf-92c7-492b-91fc-70749c36ea9e",
    "pycharm": {
     "name": "#%%\n"
    }
   },
   "outputs": [],
   "source": [
    "\n",
    "train_dataset = Dataset.from_pandas(train)\n",
    "test_dataset = Dataset.from_pandas(test)\n",
    "val_dataset = Dataset.from_pandas(val)\n",
    "\n",
    "Dataset_dic = DatasetDict({\n",
    "    \"train\": train_dataset,\n",
    "    \"validation\": val_dataset,\n",
    "    \"test\": test_dataset\n",
    "})\n",
    "\n"
   ]
  },
  {
   "cell_type": "code",
   "execution_count": null,
   "id": "c595b18b-edde-4dba-b2e3-666ef020ca0b",
   "metadata": {
    "id": "c595b18b-edde-4dba-b2e3-666ef020ca0b",
    "outputId": "8128bbc3-f342-4c1e-858c-ad97ab6c5a6a",
    "pycharm": {
     "name": "#%%\n"
    }
   },
   "outputs": [
    {
     "data": {
      "text/plain": [
       "DatasetDict({\n",
       "    train: Dataset({\n",
       "        features: ['chapter', 'summary_text', '__index_level_0__'],\n",
       "        num_rows: 10012\n",
       "    })\n",
       "    validation: Dataset({\n",
       "        features: ['chapter', 'summary_text', '__index_level_0__'],\n",
       "        num_rows: 1252\n",
       "    })\n",
       "    test: Dataset({\n",
       "        features: ['chapter', 'summary_text', '__index_level_0__'],\n",
       "        num_rows: 1251\n",
       "    })\n",
       "})"
      ]
     },
     "execution_count": 12,
     "metadata": {},
     "output_type": "execute_result"
    }
   ],
   "source": [
    "Dataset_dic"
   ]
  },
  {
   "cell_type": "markdown",
   "source": [
    "#Chapter and Summary samples"
   ],
   "metadata": {
    "id": "ggv5rA5e8lwk",
    "pycharm": {
     "name": "#%% md\n"
    }
   },
   "id": "ggv5rA5e8lwk"
  },
  {
   "cell_type": "code",
   "execution_count": null,
   "id": "4489ecb5-6962-42cb-abad-8d2f75d8f52f",
   "metadata": {
    "id": "4489ecb5-6962-42cb-abad-8d2f75d8f52f",
    "outputId": "2c8542be-c399-4018-8930-e53f5769eb98",
    "pycharm": {
     "name": "#%%\n"
    }
   },
   "outputs": [
    {
     "name": "stdout",
     "output_type": "stream",
     "text": [
      "\n",
      "'>> chapter: the international investigation department this is a curious and interesting branch of the work of the salvation army about two thousand times a year it receives letters or personal applications asking it to find some missing relative or friend of the writer or applicant in reply a form is posted or given which must be filled up with the necessary particulars then if it be a london case the officer in charge sends out a skilled man to work up clues if on the other hand it be a country case the o'\n",
      "'>> summary_text: sarah and the other munitions girls share a cup of tea sarah is upset that billy prior did not show up for their date on sunday unaware that he was not allowed to leave craiglockhart because he had violated curfew sarah s friends tease her for a few moments before discussing the dreaded return of lizzie s husband who physically abused her before the war as lizzie explains peace broke out for her the day the war began a new patient willard lies immobilized on a table pieces of tombstone are embed'\n",
      "\n",
      "'>> chapter: scene iii the same a street [thunder and lightning enter from opposite sides casca with his sword drawn and cicero ] cicero good even casca brought you caesar home why are you breathless and why stare you so casca are not you moved when all the sway of earth shakes like a thing unfirm o cicero i have seen tempests when the scolding winds have rived the knotty oaks and i have seen th ambitious ocean swell and rage and foam to be exalted with the threatening clouds but never till tonight never til'\n",
      "'>> summary_text: that evening cicero and casca meet on a street in rome there has been a terrible storm and casca describes to cicero the unnatural phenomena that have occurred an owl hooted in the marketplace at noon the sheeted dead rose out of their graves and so on cicero then departs and cassius enters he interprets the supernatural happenings as divine warnings that caesar threatens to destroy the republic he urges casca to work with him in opposing caesar when cinna another conspirator joins them cassius '\n",
      "\n",
      "'>> chapter: scena secunda storme still enter lear and foole lear blow windes crack your cheeks rage blow you cataracts and hyrricano s spout till you haue drench d our steeples drown the cockes you sulph rous and thought-executing fires vaunt-curriors of oake-cleauing thunder-bolts sindge my white head and thou all-shaking thunder strike flat the thicke rotundity o th world cracke natures moulds all germaines spill at once that makes ingratefull man foole o nunkle court holy-water in a dry house is better t'\n",
      "'>> summary_text: lear and the fool are caught out in the storm the fool begs him to go back to his daughters to seek shelter but he refuses kent finds them and tells them that he has found a hovel in which they can take shelter he leads them there to stay throughout the storm'\n"
     ]
    }
   ],
   "source": [
    "def show_samples(dataset, num_samples=3, seed=42):\n",
    "    sample = dataset[\"train\"].shuffle(seed=seed).select(range(num_samples))\n",
    "    for example in sample:\n",
    "        print(f\"\\n'>> chapter: {example['chapter'][:500]}'\")\n",
    "        print(f\"'>> summary_text: {example['summary_text'][:500]}'\")\n",
    "\n",
    "\n",
    "show_samples(Dataset_dic)"
   ]
  },
  {
   "cell_type": "code",
   "execution_count": null,
   "id": "2a17e2d3-214f-4e38-9e7c-a7b5e1cfe185",
   "metadata": {
    "id": "2a17e2d3-214f-4e38-9e7c-a7b5e1cfe185",
    "outputId": "c5021516-42de-4c67-f546-ab6f098dffea",
    "pycharm": {
     "name": "#%%\n"
    }
   },
   "outputs": [
    {
     "name": "stdout",
     "output_type": "stream",
     "text": [
      "Using device: cuda\n"
     ]
    }
   ],
   "source": [
    "device = \"cuda\" if torch.cuda.is_available() else \"cpu\"\n",
    "print(f\"Using device: {device}\")"
   ]
  },
  {
   "cell_type": "markdown",
   "source": [
    "#Load pretrained model  - pegasus-cnn_dailymail\n"
   ],
   "metadata": {
    "id": "5PaNU1Z285UK",
    "pycharm": {
     "name": "#%% md\n"
    }
   },
   "id": "5PaNU1Z285UK"
  },
  {
   "cell_type": "code",
   "execution_count": null,
   "id": "ba55286d-49e6-475a-984f-8dd6dd1e54da",
   "metadata": {
    "id": "ba55286d-49e6-475a-984f-8dd6dd1e54da",
    "outputId": "36323328-62c3-4a76-c21e-136d09c082fc",
    "pycharm": {
     "name": "#%%\n"
    }
   },
   "outputs": [
    {
     "name": "stderr",
     "output_type": "stream",
     "text": [
      "Some weights of PegasusForConditionalGeneration were not initialized from the model checkpoint at google/pegasus-cnn_dailymail and are newly initialized: ['model.decoder.embed_positions.weight', 'model.encoder.embed_positions.weight']\n",
      "You should probably TRAIN this model on a down-stream task to be able to use it for predictions and inference.\n"
     ]
    }
   ],
   "source": [
    "from transformers import AutoModelForSeq2SeqLM, AutoTokenizer\n",
    "\n",
    "device = \"cuda\" if torch.cuda.is_available() else \"cpu\"\n",
    "\n",
    "model_ckpt = \"google/pegasus-cnn_dailymail\"\n",
    "\n",
    "tokenizer = AutoTokenizer.from_pretrained(model_ckpt)\n",
    "\n",
    "model_pegasus = AutoModelForSeq2SeqLM.from_pretrained(model_ckpt).to(device)"
   ]
  },
  {
   "cell_type": "code",
   "execution_count": null,
   "id": "23c7bfca-7c49-4615-992e-eb29e8140cdd",
   "metadata": {
    "id": "23c7bfca-7c49-4615-992e-eb29e8140cdd",
    "pycharm": {
     "name": "#%%\n"
    }
   },
   "outputs": [],
   "source": [
    "def generate_batch_sized_chunks(list_of_elements, batch_size):\n",
    "    for i in range(0, len(list_of_elements), batch_size):\n",
    "        yield list_of_elements[i : i + batch_size]"
   ]
  },
  {
   "cell_type": "markdown",
   "source": [
    "#Check performance of pretrained model"
   ],
   "metadata": {
    "id": "2rtKToP1-AX0",
    "pycharm": {
     "name": "#%% md\n"
    }
   },
   "id": "2rtKToP1-AX0"
  },
  {
   "cell_type": "code",
   "execution_count": null,
   "id": "a7d79151-2bad-476d-bfe7-50cb19fd8d70",
   "metadata": {
    "id": "a7d79151-2bad-476d-bfe7-50cb19fd8d70",
    "pycharm": {
     "name": "#%%\n"
    }
   },
   "outputs": [],
   "source": [
    "def calculate_metric_on_test_ds(dataset, metric, model, tokenizer,\n",
    "                               batch_size=16, device=device,\n",
    "                               column_text=\"article\",\n",
    "                               column_summary=\"highlights\"):\n",
    "    article_batches = list(generate_batch_sized_chunks(dataset[column_text], batch_size))\n",
    "    target_batches = list(generate_batch_sized_chunks(dataset[column_summary], batch_size))\n",
    "\n",
    "    for article_batch, target_batch in tqdm(\n",
    "        zip(article_batches, target_batches), total=len(article_batches)):\n",
    "\n",
    "        inputs = tokenizer(article_batch, max_length=1024,  truncation=True,\n",
    "                        padding=\"max_length\", return_tensors=\"pt\")\n",
    "\n",
    "        summaries = model.generate(input_ids=inputs[\"input_ids\"].to(device),\n",
    "                         attention_mask=inputs[\"attention_mask\"].to(device),\n",
    "                         length_penalty=0.8, num_beams=8, max_length=128)\n",
    "\n",
    "        decoded_summaries = [tokenizer.decode(s, skip_special_tokens=True,\n",
    "                                clean_up_tokenization_spaces=True)\n",
    "               for s in summaries]\n",
    "\n",
    "        decoded_summaries = [d.replace(\"\", \" \") for d in decoded_summaries]\n",
    "\n",
    "\n",
    "        metric.add_batch(predictions=decoded_summaries, references=target_batch)\n",
    "\n",
    "    #  compute and return the ROUGE scores.\n",
    "    score = metric.compute()\n",
    "    return score"
   ]
  },
  {
   "cell_type": "code",
   "execution_count": null,
   "id": "e1fe6b36-5e81-405d-b51b-4de27220a258",
   "metadata": {
    "id": "e1fe6b36-5e81-405d-b51b-4de27220a258",
    "outputId": "0f59ee47-1aaf-4bb9-890e-3364256c600a",
    "pycharm": {
     "name": "#%%\n"
    }
   },
   "outputs": [
    {
     "name": "stdout",
     "output_type": "stream",
     "text": [
      "important era in my brother s life harriet expresses how much she missed her brother william who had gone north with mr sands the latter wrote that william was an excellent servant and even though he met abolitionists they were not able to decoy him away it was soon reported that mr sands had taken a bride and was to return to the south the family expected william would come along but he did not arrive a boy was sent by mr sands to tell them that william had been seduced away by the abolitionists harriet s grandmother was disconsolate and harriet herself knew that she was being selfish but thought more of what i had lost than of what my brother had gained the step her brother took made her sad and anxious when another slave aggie asked harriet s grandmother why she was so upset and was told the answer she rebuked her and said that she should be glad william was safe and free hearing this from her place of hiding harriet also changed her attitude when mr sands arrived he told phillip that william was young and inconsiderate but he would not pursue him thinking he would return in time hearing the account from william himself harriet heard something very different william was not decoyed by the abolitionists he merely felt his time had come and although mr sands was kind there was no guarantee that he would ever be freed\n"
     ]
    }
   ],
   "source": [
    "print(Dataset_dic[\"test\"][1][\"summary_text\"])"
   ]
  },
  {
   "cell_type": "code",
   "execution_count": null,
   "id": "7dcbf9ad-119c-421b-a0f2-37a808875c6b",
   "metadata": {
    "tags": [],
    "id": "7dcbf9ad-119c-421b-a0f2-37a808875c6b",
    "outputId": "8ba501a9-e73f-4257-8426-cb8debded8ff",
    "pycharm": {
     "name": "#%%\n"
    }
   },
   "outputs": [
    {
     "data": {
      "text/plain": [
       "'a variation of protestantism unknown to bossuet journeying down the rhone on a summer s day you have perhaps felt the sunshine made dreary by those ruined villages which stud the banks in certain parts of its course telling how the swift river once rose like an angry destroying god sweeping down the feeble generations whose breath is in their nostrils and making their dwellings a desolation strange contrast you may have thought between the effect produced on us by these dismal remnants of commonplace houses which in their best days were but the sign of a sordid life belonging in all its details to our own vulgar era and the effect produced by those ruins on the castled rhine which have crumbled and mellowed into such harmony with the green and rocky steeps that they seem to have a natural fitness like the mountain-pine nay even in the day when they were built they must have had this fitness as if they had been raised by an earth-born race who had inherited from their mighty parent a sublime instinct of form and that was a day of romance if those robber-barons were somewhat grim and drunken ogres they had a certain grandeur of the wild beast in them --they were forest boars with tusks tearing and rending not the ordinary domestic grunter they represented the demon forces forever in collision with beauty virtue and the gentle uses of life they made a fine contrast in the picture with the wandering minstrel the soft-lipped princess the pious recluse and the timid israelite that was a time of color when the sunlight fell on glancing steel and floating banners a time of adventure and fierce struggle --nay of living religious art and religious enthusiasm for were not cathedrals built in those days and did not great emperors leave their western palaces to die before the infidel strongholds in the sacred east therefore it is that these rhine castles thrill me with a sense of poetry they belong to the grand historic life of humanity and raise up for me the vision of an echo but these dead-tinted hollow-eyed angular skeletons of villages on the rhone oppress me with the feeling that human life--very much of it--is a narrow ugly grovelling existence which even calamity does not elevate but rather tends to exhibit in all its bare vulgarity of conception and i have a cruel conviction that the lives these ruins are the traces of were part of a gross sum of obscure vitality that will be swept into the same oblivion with the generations of ants and beavers perhaps something akin to this oppressive feeling may have weighed upon you in watching this old-fashioned family life on the banks of the floss which even sorrow hardly suffices to lift above the level of the tragi-comic it is a sordid life you say this of the tullivers and dodsons irradiated by no sublime principles no romantic visions no active self-renouncing faith moved by none of those wild uncontrollable passions which create the dark shadows of misery and crime without that primitive rough simplicity of wants that hard submissive ill-paid toil that childlike spelling-out of what nature has written which gives its poetry to peasant life here one has conventional worldly notions and habits without instruction and without polish surely the most prosaic form of human life proud respectability in a gig of unfashionable build worldliness without side-dishes observing these people narrowly even when the iron hand of misfortune has shaken them from their unquestioning hold on the world one sees little trace of religion still less of a distinctively christian creed their belief in the unseen so far as it manifests itself at all seems to be rather a pagan kind their moral notions though held with strong tenacity seem to have no standard beyond hereditary custom you could not live among such people you are stifled for want of an outlet toward something beautiful great or noble you are irritated with these dull men and women as a kind of population out of keeping with the earth on which they live --with this rich plain where the great river flows forever onward and links the small pulse of the old english town with the beatings of the world s mighty heart a vigorous superstition that lashes its gods or lashes its own back seems to be more congruous with the mystery of the human lot than the mental condition of these emmet-like dodsons and tullivers i share with you this sense of oppressive narrowness but it is necessary that we should feel it if we care to understand how it acted on the lives of tom and maggie --how it has acted on young natures in many generations that in the onward tendency of human things have risen above the mental level of the generation before them to which they have been nevertheless tied by the strongest fibres of their hearts the suffering whether of martyr or victim which belongs to every historical advance of mankind is represented in this way in every town and by hundreds of obscure hearths and we need not shrink from this comparison of small things with great for does not science tell us that its highest striving is after the ascertainment of a unity which shall bind the smallest things with the greatest in natural science i have understood there is nothing petty to the mind that has a large vision of relations and to which every single object suggests a vast sum of conditions it is surely the same with the observation of human life certainly the religious and moral ideas of the dodsons and tullivers were of too specific a kind to be arrived at deductively from the statement that they were part of the protestant population of great britain their theory of life had its core of soundness as all theories must have on which decent and prosperous families have been reared and have flourished but it had the very slightest tincture of theology if in the maiden days of the dodson sisters their bibles opened more easily at some parts than others it was because of dried tulip-petals which had been distributed quite impartially without preference for the historical devotional or doctrinal their religion was of a simple semi-pagan kind but there was no heresy in it --if heresy properly means choice --for they didn t know there was any other religion except that of chapel-goers which appeared to run in families like asthma how should they know the vicar of their pleasant rural parish was not a controversialist but a good hand at whist and one who had a joke always ready for a blooming female parishioner the religion of the dodsons consisted in revering whatever was customary and respectable it was necessary to be baptized else one could not be buried in the church-yard and to take the sacrament before death as a security against more dimly understood perils but it was of equal necessity to have the proper pall-bearers and well-cured hams at one s funeral and to leave an unimpeachable will a dodson would not be taxed with the omission of anything that was becoming or that belonged to that eternal fitness of things which was plainly indicated in the practice of the most substantial parishioners and in the family traditions --such as obedience to parents faithfulness to kindred industry rigid honesty thrift the thorough scouring of wooden and copper utensils the hoarding of coins likely to disappear from the currency the production of first-rate commodities for the market and the general preference of whatever was home-made the dodsons were a very proud race and their pride lay in the utter frustration of all desire to tax them with a breach of traditional duty or propriety a wholesome pride in many respects since it identified honor with perfect integrity thoroughness of work and faithfulness to admitted rules and society owes some worthy qualities in many of her members to mothers of the dodson class who made their butter and their fromenty well and would have felt disgraced to make it otherwise to be honest and poor was never a dodson motto still less to seem rich though being poor rather the family badge was to be honest and rich and not only rich but richer than was supposed to live respected and have the proper bearers at your funeral was an achievement of the ends of existence that would be entirely nullified if on the reading of your will you sank in the opinion of your fellow-men either by turning out to be poorer than they expected or by leaving your money in a capricious manner without strict regard to degrees of kin the right thing must always be done toward kindred the right thing was to correct them severely if they were other than a credit to the family but still not to alienate from them the smallest rightful share in the family shoebuckles and other property a conspicuous quality in the dodson character was its genuineness its vices and virtues alike were phases of a proud honest egoism which had a hearty dislike to whatever made against its own credit and interest and would be frankly hard of speech to inconvenient kin but would never forsake or ignore them --would not let them want bread but only require them to eat it with bitter herbs the same sort of traditional belief ran in the tulliver veins but it was carried in richer blood having elements of generous imprudence warm affection and hot-tempered rashness mr tulliver s grandfather had been heard to say that he was descended from one ralph tulliver a wonderfully clever fellow who had ruined himself it is likely enough that the clever ralph was a high liver rode spirited horses and was very decidedly of his own opinion on the other hand nobody had ever heard of a dodson who had ruined himself it was not the way of that family if such were the views of life on which the dodsons and tullivers had been reared in the praiseworthy past of pitt and high prices you will infer from what you already know concerning the state of society in st ogg s that there had been no highly modifying influence to act on them in their maturer life it was still possible even in that later time of anti-catholic preaching for people to hold many pagan ideas and believe themselves good church-people notwithstanding so we need hardly feel any surprise at the fact that mr tulliver though a regular church-goer recorded his vindictiveness on the fly-leaf of his bible it was not that any harm could be said concerning the vicar of that charming rural parish to which dorlcote mill belonged he was a man of excellent family an irreproachable bachelor of elegant pursuits --had taken honors and held a fellowship mr tulliver regarded him with dutiful respect as he did everything else belonging to the church-service but he considered that church was one thing and common-sense another and he wanted nobody to tell him what commonsense was certain seeds which are required to find a nidus for themselves under unfavorable circumstances have been supplied by nature with an apparatus of hooks so that they will get a hold on very unreceptive surfaces the spiritual seed which had been scattered over mr tulliver had apparently been destitute of any corresponding provision and had slipped off to the winds again from a total absence of hooks'"
      ]
     },
     "execution_count": 21,
     "metadata": {},
     "output_type": "execute_result"
    }
   ],
   "source": [
    "Dataset_dic['test'][0]['chapter']"
   ]
  },
  {
   "cell_type": "code",
   "execution_count": null,
   "id": "a8159539-4bf9-469e-ad4c-657f1491ddde",
   "metadata": {
    "id": "a8159539-4bf9-469e-ad4c-657f1491ddde",
    "outputId": "9b363e3b-c723-467f-b3c8-40ea3d365617",
    "pycharm": {
     "name": "#%%\n"
    }
   },
   "outputs": [
    {
     "name": "stderr",
     "output_type": "stream",
     "text": [
      "Some weights of PegasusForConditionalGeneration were not initialized from the model checkpoint at google/pegasus-cnn_dailymail and are newly initialized: ['model.decoder.embed_positions.weight', 'model.encoder.embed_positions.weight']\n",
      "You should probably TRAIN this model on a down-stream task to be able to use it for predictions and inference.\n"
     ]
    },
    {
     "name": "stdout",
     "output_type": "stream",
     "text": [
      "[{'summary_text': 'The ruins on the castled rhine have crumbled and mellowed into such harmony with the green and rocky steeps that they seem to have a natural fitness like the mountain-pine nay even in the day when they were built they must have had this fitness as if they had been raised by an earth-born race who had inherited from their mighty parent a sublime instinct of form and that was a day of romance if those robber-barons were somewhat grim and drunken ogres they represented the demon forces forever in collision with beauty virtue and the gentle uses of life they made a fine contrast in the picture with the wandering minstrel the soft'}]\n"
     ]
    }
   ],
   "source": [
    "pipe = pipeline('summarization', model = model_ckpt )\n",
    "\n",
    "pipe_out = pipe(Dataset_dic['test'][0]['chapter'][:1024] )\n",
    "\n",
    "print(pipe_out)"
   ]
  },
  {
   "cell_type": "code",
   "execution_count": null,
   "id": "d3116bff-83d3-4379-a591-46510a33ea72",
   "metadata": {
    "id": "d3116bff-83d3-4379-a591-46510a33ea72",
    "outputId": "fd76fcc4-aaf3-4154-e3b1-d1434e6d46d8",
    "pycharm": {
     "name": "#%%\n"
    }
   },
   "outputs": [
    {
     "name": "stdout",
     "output_type": "stream",
     "text": [
      "The ruins on the castled rhine have crumbled and mellowed into such harmony with the green and rocky steeps that they seem to have a natural fitness like the mountain-pine nay even in the day when they were built they must have had this fitness as if they had been raised by an earth-born race who had inherited from their mighty parent a sublime instinct of form and that was a day of romance if those robber-barons were somewhat grim and drunken ogres they represented the demon forces forever in collision with beauty virtue and the gentle uses of life they made a fine contrast in the picture with the wandering minstrel the soft\n"
     ]
    }
   ],
   "source": [
    "print(pipe_out[0]['summary_text'].replace(\" .<n>\", \".\\n\"))"
   ]
  },
  {
   "cell_type": "code",
   "execution_count": null,
   "id": "2cd8a329-0178-4f52-b759-26408fc9c3e5",
   "metadata": {
    "id": "2cd8a329-0178-4f52-b759-26408fc9c3e5",
    "outputId": "da3a4513-0f5d-4a71-d4d6-3a9a2aef546a",
    "pycharm": {
     "name": "#%%\n"
    }
   },
   "outputs": [
    {
     "name": "stderr",
     "output_type": "stream",
     "text": [
      "/tmp/ipykernel_86601/771428293.py:1: FutureWarning: load_metric is deprecated and will be removed in the next major version of datasets. Use 'evaluate.load' instead, from the new library 🤗 Evaluate: https://huggingface.co/docs/evaluate\n",
      "  rouge_metric = load_metric('rouge')\n",
      "/home/nair.ro/.local/lib/python3.8/site-packages/datasets/load.py:753: FutureWarning: The repository for rouge contains custom code which must be executed to correctly load the metric. You can inspect the repository content at https://raw.githubusercontent.com/huggingface/datasets/2.17.0/metrics/rouge/rouge.py\n",
      "You can avoid this message in future by passing the argument `trust_remote_code=True`.\n",
      "Passing `trust_remote_code=True` will be mandatory to load this metric from the next major release of `datasets`.\n",
      "  warnings.warn(\n",
      " 11%|█▏        | 18/157 [03:24<26:29, 11.43s/it]"
     ]
    }
   ],
   "source": [
    "rouge_metric = load_metric('rouge')\n",
    "\n",
    "score = calculate_metric_on_test_ds(Dataset_dic['test'], rouge_metric, model_pegasus, tokenizer, column_text = 'chapter', column_summary='summary_text', batch_size=8)\n",
    "\n"
   ]
  },
  {
   "cell_type": "code",
   "execution_count": null,
   "id": "8848d157-ac2e-48b9-81f5-a0034bbeb101",
   "metadata": {
    "id": "8848d157-ac2e-48b9-81f5-a0034bbeb101",
    "pycharm": {
     "name": "#%%\n"
    }
   },
   "outputs": [],
   "source": [
    "rouge_names = [\"rouge1\", \"rouge2\", \"rougeL\", \"rougeLsum\"]\n",
    "rouge_dict = dict((rn, score[rn].mid.fmeasure ) for rn in rouge_names )\n",
    "\n",
    "pd.DataFrame(rouge_dict, index = ['pegasus'])"
   ]
  },
  {
   "cell_type": "markdown",
   "source": [
    "# Fine Tuning the Model\n"
   ],
   "metadata": {
    "id": "280GLYLW99os",
    "pycharm": {
     "name": "#%% md\n"
    }
   },
   "id": "280GLYLW99os"
  },
  {
   "cell_type": "code",
   "execution_count": null,
   "id": "cc37f58b-6f8f-4ecc-bd9e-8a7ff927b5aa",
   "metadata": {
    "id": "cc37f58b-6f8f-4ecc-bd9e-8a7ff927b5aa",
    "pycharm": {
     "name": "#%%\n"
    }
   },
   "outputs": [],
   "source": [
    "def convert_examples_to_features(example_batch):\n",
    "    input_encodings = tokenizer(example_batch['chapter'] , max_length = 1024, truncation = True )\n",
    "\n",
    "    with tokenizer.as_target_tokenizer():\n",
    "        target_encodings = tokenizer(example_batch['summary_text'], max_length = 64, truncation = True )\n",
    "\n",
    "    return {\n",
    "        'input_ids' : input_encodings['input_ids'],\n",
    "        'attention_mask': input_encodings['attention_mask'],\n",
    "        'labels': target_encodings['input_ids']\n",
    "    }\n",
    "\n",
    "dataset_booksum_pt = Dataset_dic.map(convert_examples_to_features, batched = True)"
   ]
  },
  {
   "cell_type": "code",
   "execution_count": null,
   "id": "340a2546-3b51-4d79-8d27-968d6a62a034",
   "metadata": {
    "id": "340a2546-3b51-4d79-8d27-968d6a62a034",
    "pycharm": {
     "name": "#%%\n"
    }
   },
   "outputs": [],
   "source": [
    "from transformers import DataCollatorForSeq2Seq\n",
    "\n",
    "seq2seq_data_collator = DataCollatorForSeq2Seq(tokenizer, model=model_pegasus)"
   ]
  },
  {
   "cell_type": "code",
   "execution_count": null,
   "id": "7f6fcb9a-fe6a-41fa-b042-47b276032ef0",
   "metadata": {
    "id": "7f6fcb9a-fe6a-41fa-b042-47b276032ef0",
    "pycharm": {
     "name": "#%%\n"
    }
   },
   "outputs": [],
   "source": [
    "from transformers import TrainingArguments, Trainer\n",
    "\n",
    "trainer_args = TrainingArguments(\n",
    "    output_dir='pegasus-booksum',\n",
    "    num_train_epochs=1,\n",
    "    warmup_steps=500,\n",
    "    per_device_train_batch_size=1,\n",
    "    per_device_eval_batch_size=1,\n",
    "    weight_decay=0.01,\n",
    "    logging_steps=10,\n",
    "    evaluation_strategy='steps',\n",
    "    eval_steps=500,\n",
    "    save_steps=1e6,\n",
    "    gradient_accumulation_steps=16\n",
    ")"
   ]
  },
  {
   "cell_type": "code",
   "execution_count": null,
   "id": "e2e0481c-e781-4c42-aa24-9da4d5858b4f",
   "metadata": {
    "id": "e2e0481c-e781-4c42-aa24-9da4d5858b4f",
    "pycharm": {
     "name": "#%%\n"
    }
   },
   "outputs": [],
   "source": [
    "trainer = Trainer(\n",
    "    model=model_pegasus,\n",
    "    args=trainer_args,\n",
    "    tokenizer=tokenizer,\n",
    "    data_collator=seq2seq_data_collator,\n",
    "    train_dataset=dataset_booksum_pt[\"train\"],\n",
    "    eval_dataset=dataset_booksum_pt[\"validation\"]\n",
    ")\n",
    "\n"
   ]
  },
  {
   "cell_type": "code",
   "source": [
    "trainer.train()"
   ],
   "metadata": {
    "id": "iTRZ0zNY-YEg",
    "pycharm": {
     "name": "#%%\n"
    }
   },
   "id": "iTRZ0zNY-YEg",
   "execution_count": null,
   "outputs": []
  },
  {
   "cell_type": "code",
   "execution_count": null,
   "id": "37a92b40-8c02-4a60-8cd7-47f327878057",
   "metadata": {
    "id": "37a92b40-8c02-4a60-8cd7-47f327878057",
    "pycharm": {
     "name": "#%%\n"
    }
   },
   "outputs": [],
   "source": [
    "score = calculate_metric_on_test_ds(\n",
    "    Dataset_dic['test'], rouge_metric, trainer.model, tokenizer, batch_size = 2, column_text = 'chapter', column_summary= 'summary'\n",
    ")\n",
    "\n",
    "rouge_dict = dict((rn, score[rn].mid.fmeasure ) for rn in rouge_names )\n",
    "\n",
    "pd.DataFrame(rouge_dict, index = [f'pegasus'] )"
   ]
  },
  {
   "cell_type": "code",
   "execution_count": null,
   "id": "3cb6dc38-cb53-437e-b382-4cd9618cdbd0",
   "metadata": {
    "id": "3cb6dc38-cb53-437e-b382-4cd9618cdbd0",
    "pycharm": {
     "name": "#%%\n"
    }
   },
   "outputs": [],
   "source": [
    "model_pegasus.save_pretrained(\"pegasus-booksum-model\")"
   ]
  },
  {
   "cell_type": "code",
   "execution_count": null,
   "id": "72c39737-f483-44b2-8e9b-0da2a6e40a2e",
   "metadata": {
    "id": "72c39737-f483-44b2-8e9b-0da2a6e40a2e",
    "pycharm": {
     "name": "#%%\n"
    }
   },
   "outputs": [],
   "source": [
    "tokenizer.save_pretrained(\"tokenizer\")"
   ]
  },
  {
   "cell_type": "code",
   "execution_count": null,
   "id": "b298c60e-0997-45ba-91b7-6736a72a1b14",
   "metadata": {
    "id": "b298c60e-0997-45ba-91b7-6736a72a1b14",
    "pycharm": {
     "name": "#%%\n"
    }
   },
   "outputs": [],
   "source": [
    "Dataset_dic = load_dataset(\"booksum\")"
   ]
  },
  {
   "cell_type": "code",
   "execution_count": null,
   "id": "db6730ca-97dd-4411-8865-18850c6096fa",
   "metadata": {
    "id": "db6730ca-97dd-4411-8865-18850c6096fa",
    "pycharm": {
     "name": "#%%\n"
    }
   },
   "outputs": [],
   "source": [
    "tokenizer = AutoTokenizer.from_pretrained(\"tokenizer\")"
   ]
  },
  {
   "cell_type": "code",
   "execution_count": null,
   "id": "e032065f-98ed-4e27-a180-b688e1fd516b",
   "metadata": {
    "id": "e032065f-98ed-4e27-a180-b688e1fd516b",
    "pycharm": {
     "name": "#%%\n"
    }
   },
   "outputs": [],
   "source": [
    "sample_text = Dataset_dic[\"test\"][0][\"chapter\"]\n",
    "\n",
    "reference = Dataset_dic[\"test\"][0][\"summary_text\"]"
   ]
  },
  {
   "cell_type": "code",
   "execution_count": null,
   "id": "e0c29db2-5047-42b5-a0af-5029b3a1e4d5",
   "metadata": {
    "id": "e0c29db2-5047-42b5-a0af-5029b3a1e4d5",
    "pycharm": {
     "name": "#%%\n"
    }
   },
   "outputs": [],
   "source": [
    "gen_kwargs = {\"length_penalty\": 0.8, \"num_beams\":8, \"max_length\": 128}\n",
    "\n",
    "pipe = pipeline(\"summarization\", model=\"pegasus-booksum-model\",tokenizer=tokenizer)"
   ]
  },
  {
   "cell_type": "code",
   "execution_count": null,
   "id": "0c723a7a-c253-4ec2-9b83-ec118eae698d",
   "metadata": {
    "id": "0c723a7a-c253-4ec2-9b83-ec118eae698d",
    "pycharm": {
     "name": "#%%\n"
    }
   },
   "outputs": [],
   "source": [
    "print(\"chapter:\")\n",
    "print(sample_text)\n",
    "\n",
    "\n",
    "print(\"\\nReference Summary:\")\n",
    "print(reference)\n",
    "\n",
    "\n",
    "print(\"\\nModel Summary:\")\n",
    "print(pipe(sample_text, **gen_kwargs)[0][\"summary_text\"])"
   ]
  },
  {
   "cell_type": "code",
   "execution_count": null,
   "id": "0e45f120-e4ae-4391-8be4-16a54ccdff1e",
   "metadata": {
    "id": "0e45f120-e4ae-4391-8be4-16a54ccdff1e",
    "pycharm": {
     "name": "#%%\n"
    }
   },
   "outputs": [],
   "source": []
  },
  {
   "cell_type": "code",
   "execution_count": null,
   "id": "29375582-fa40-4294-901b-519a2cbf2bcb",
   "metadata": {
    "id": "29375582-fa40-4294-901b-519a2cbf2bcb",
    "pycharm": {
     "name": "#%%\n"
    }
   },
   "outputs": [],
   "source": []
  },
  {
   "cell_type": "code",
   "execution_count": null,
   "id": "3a57cd1b-1575-483a-8bcc-55cc35c40edd",
   "metadata": {
    "id": "3a57cd1b-1575-483a-8bcc-55cc35c40edd",
    "pycharm": {
     "name": "#%%\n"
    }
   },
   "outputs": [],
   "source": []
  },
  {
   "cell_type": "code",
   "execution_count": null,
   "id": "9f7d9421-f980-4ffc-bec8-740f27772548",
   "metadata": {
    "id": "9f7d9421-f980-4ffc-bec8-740f27772548",
    "pycharm": {
     "name": "#%%\n"
    }
   },
   "outputs": [],
   "source": []
  }
 ],
 "metadata": {
  "kernelspec": {
   "display_name": "Python 3 (ipykernel)",
   "language": "python",
   "name": "python3"
  },
  "language_info": {
   "codemirror_mode": {
    "name": "ipython",
    "version": 3
   },
   "file_extension": ".py",
   "mimetype": "text/x-python",
   "name": "python",
   "nbconvert_exporter": "python",
   "pygments_lexer": "ipython3",
   "version": "3.8.13"
  },
  "colab": {
   "provenance": []
  }
 },
 "nbformat": 4,
 "nbformat_minor": 5
}