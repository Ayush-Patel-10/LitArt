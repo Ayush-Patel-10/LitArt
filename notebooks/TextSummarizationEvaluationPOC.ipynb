{
 "cells": [
  {
   "cell_type": "code",
   "execution_count": 1,
   "metadata": {},
   "outputs": [],
   "source": [
    "import sys\n",
    "import json\n",
    "import glob\n",
    "import tqdm\n",
    "import pandas as pd\n",
    "import torch\n",
    "import evaluate\n",
    "from transformers import pipeline\n",
    "from transformers import AutoModelForSeq2SeqLM\n",
    "from transformers import AutoTokenizer\n",
    "tqdm.tqdm.pandas()\n",
    "sys.path.append('/home/verma.shi/LLM/LitArt/models')\n",
    "from summarizer import TextSummaryModel\n",
    "cache_dir=\"/work/LitArt/cache\""
   ]
  },
  {
   "cell_type": "code",
   "execution_count": 2,
   "metadata": {},
   "outputs": [],
   "source": [
    "def load_model_details(path):\n",
    "\n",
    "    with open(path+\"run_config.json\") as json_file:\n",
    "        run_details = json.load(json_file)\n",
    "    \n",
    "    base_model_name = run_details[\"base_model_name\"]\n",
    "    tokenizer_name = run_details[\"tokenizer_name\"]\n",
    "    cache_dir = run_details[\"cache_dir\"]\n",
    "\n",
    "    device = \"cuda\" if torch.cuda.is_available() else \"cpu\"\n",
    "    \n",
    "    base_model = AutoModelForSeq2SeqLM.from_pretrained(base_model_name,cache_dir=cache_dir).to(device)\n",
    "    tokenizer = AutoTokenizer.from_pretrained(tokenizer_name,cache_dir=cache_dir)\n",
    "\n",
    "    checkpoint_location = path+\"my_model/version_0/checkpoints/*.ckpt\"\n",
    "    best_checkpoint_location = glob.glob(checkpoint_location)[0]\n",
    "\n",
    "    model = torch.load(f=best_checkpoint_location,map_location=device)\n",
    "    keys_to_modify = list(model[\"state_dict\"].keys())  # Create a copy of the keys\n",
    "    for key in keys_to_modify:\n",
    "        new_key = key[6:]\n",
    "        model[\"state_dict\"][new_key] = model[\"state_dict\"][key]\n",
    "        del model[\"state_dict\"][key]\n",
    "\n",
    "    summary_model = AutoModelForSeq2SeqLM.from_pretrained(pretrained_model_name_or_path=base_model_name,state_dict=model[\"state_dict\"])\n",
    "\n",
    "    run_details[\"best_model_path\"] = best_checkpoint_location\n",
    "    \n",
    "    return summary_model,base_model,tokenizer,run_details\n",
    "    "
   ]
  },
  {
   "cell_type": "code",
   "execution_count": 3,
   "metadata": {},
   "outputs": [
    {
     "name": "stderr",
     "output_type": "stream",
     "text": [
      "Some weights of PegasusForConditionalGeneration were not initialized from the model checkpoint at google/pegasus-xsum and are newly initialized: ['model.decoder.embed_positions.weight', 'model.encoder.embed_positions.weight']\n",
      "You should probably TRAIN this model on a down-stream task to be able to use it for predictions and inference.\n"
     ]
    }
   ],
   "source": [
    "checkpoints_path = \"/work/LitArt/verma/google-pegasus-xsum-2024-03-15-19:32:22/\"\n",
    "summary_model,base_model,tokenizer,run_details = load_model_details(checkpoints_path)\n",
    "device = \"cuda\" if torch.cuda.is_available() else \"cpu\""
   ]
  },
  {
   "cell_type": "code",
   "execution_count": 4,
   "metadata": {},
   "outputs": [
    {
     "data": {
      "text/plain": [
       "{'train_path': '/work/LitArt/data/chunked_dataset/train_dataset_with_summaries.csv',\n",
       " 'test_path': '/work/LitArt/data/chunked_dataset/test_dataset_with_summaries.csv',\n",
       " 'val_path': '/work/LitArt/data/chunked_dataset/validation_dataset_with_summaries.csv',\n",
       " 'base_model_name': 'google/pegasus-xsum',\n",
       " 'tokenizer_name': 'google/pegasus-xsum',\n",
       " 'cache_dir': '/work/LitArt/cache',\n",
       " 'batch_size': 32,\n",
       " 'tokenizer_chapter_max_length': 512,\n",
       " 'tokenizer_summary_max_length': 64,\n",
       " 'epochs': 10,\n",
       " 'log_path': '/work/LitArt/verma/',\n",
       " 'best_model_path': '/work/LitArt/verma/google-pegasus-xsum-2024-03-15-19:32:22/my_model/version_0/checkpoints/epoch=9-val_loss=1.37.ckpt'}"
      ]
     },
     "execution_count": 4,
     "metadata": {},
     "output_type": "execute_result"
    }
   ],
   "source": [
    "run_details"
   ]
  },
  {
   "cell_type": "code",
   "execution_count": 5,
   "metadata": {},
   "outputs": [],
   "source": [
    "def summarize(text,model,tokenizer,chapter_length,summary_length,temperature=1,repetition_penalty=1,device='cpu'):\n",
    "    model = model.to(device)\n",
    "    text = \"Summarize the following : \\n\" + text\n",
    "    inputs = tokenizer(text, \n",
    "                       max_length=chapter_length,\n",
    "                       truncation=True,\n",
    "                       padding=\"max_length\",\n",
    "                       add_special_tokens=True, \n",
    "                       return_tensors=\"pt\").to(device)\n",
    "    summarized_ids = model.generate(\n",
    "            input_ids=inputs[\"input_ids\"],\n",
    "            attention_mask=inputs[\"attention_mask\"], \n",
    "            max_length= summary_length,\n",
    "            temperature = temperature,\n",
    "            do_sample = True,\n",
    "            repetition_penalty = repetition_penalty).to(device)\n",
    "\n",
    "    return \" \".join([tokenizer.decode(token_ids, skip_special_tokens=True)\n",
    "                    for token_ids in summarized_ids])"
   ]
  },
  {
   "cell_type": "code",
   "execution_count": 6,
   "metadata": {},
   "outputs": [],
   "source": [
    "test_df = pd.read_csv(run_details[\"test_path\"])\n",
    "test_df = test_df.sample(n=100,random_state=42) "
   ]
  },
  {
   "cell_type": "code",
   "execution_count": 12,
   "metadata": {},
   "outputs": [
    {
     "data": {
      "text/html": [
       "<div>\n",
       "<style scoped>\n",
       "    .dataframe tbody tr th:only-of-type {\n",
       "        vertical-align: middle;\n",
       "    }\n",
       "\n",
       "    .dataframe tbody tr th {\n",
       "        vertical-align: top;\n",
       "    }\n",
       "\n",
       "    .dataframe thead th {\n",
       "        text-align: right;\n",
       "    }\n",
       "</style>\n",
       "<table border=\"1\" class=\"dataframe\">\n",
       "  <thead>\n",
       "    <tr style=\"text-align: right;\">\n",
       "      <th></th>\n",
       "      <th>chapter</th>\n",
       "      <th>human_summary</th>\n",
       "      <th>__index_level_0__</th>\n",
       "      <th>summary_text</th>\n",
       "      <th>model_summary</th>\n",
       "      <th>base_model_summary</th>\n",
       "    </tr>\n",
       "  </thead>\n",
       "  <tbody>\n",
       "    <tr>\n",
       "      <th>135</th>\n",
       "      <td>says my idealistic friend what vulgar details ...</td>\n",
       "      <td>book second chapter in which the story pauses ...</td>\n",
       "      <td>613</td>\n",
       "      <td>The passage emphasizes the importance of human...</td>\n",
       "      <td>a friend reflects on the human condition highl...</td>\n",
       "      <td>This is an extract from a poem by the poet Sir...</td>\n",
       "    </tr>\n",
       "    <tr>\n",
       "      <th>1281</th>\n",
       "      <td>home with my faith shaken and i have been gett...</td>\n",
       "      <td>the karamazovs go to the meeting with father z...</td>\n",
       "      <td>11763</td>\n",
       "      <td>Faith is shaken due to Pyotr Alexandrovitch's ...</td>\n",
       "      <td>fyodor pavlovitch angrily confronts miuesov ac...</td>\n",
       "      <td>The following is an extract from the book of G...</td>\n",
       "    </tr>\n",
       "    <tr>\n",
       "      <th>1117</th>\n",
       "      <td>chapter x crown and tiara aramis was the first...</td>\n",
       "      <td>aramis is filled with suspense as he watches t...</td>\n",
       "      <td>8678</td>\n",
       "      <td>Aramis helps a prisoner, Philippe, experience ...</td>\n",
       "      <td>aramis walks with the young man in a carriage ...</td>\n",
       "      <td>This is the story of how aramis the prisoner c...</td>\n",
       "    </tr>\n",
       "    <tr>\n",
       "      <th>998</th>\n",
       "      <td>their very name is a frightful one for the wor...</td>\n",
       "      <td>not many days after the ship has landed at nuk...</td>\n",
       "      <td>6179</td>\n",
       "      <td>Typees in Marquesan dialect means cannibals, f...</td>\n",
       "      <td>the typees of nukuheva are known as cannibals ...</td>\n",
       "      <td>My dear readers i am writing to you from our s...</td>\n",
       "    </tr>\n",
       "    <tr>\n",
       "      <th>808</th>\n",
       "      <td>is a danger of that chum frink chanted oh say ...</td>\n",
       "      <td>business is brisk that spring so babbitt and m...</td>\n",
       "      <td>1732</td>\n",
       "      <td>Men discuss beer recipes, prohibition, and sma...</td>\n",
       "      <td>men discuss home-made beer cider and prohibiti...</td>\n",
       "      <td>A few days ago a group of men and women gather...</td>\n",
       "    </tr>\n",
       "    <tr>\n",
       "      <th>...</th>\n",
       "      <td>...</td>\n",
       "      <td>...</td>\n",
       "      <td>...</td>\n",
       "      <td>...</td>\n",
       "      <td>...</td>\n",
       "      <td>...</td>\n",
       "    </tr>\n",
       "    <tr>\n",
       "      <th>940</th>\n",
       "      <td>re profitable for there s more workmanship nor...</td>\n",
       "      <td>adam returns from work stops in to see his mot...</td>\n",
       "      <td>468</td>\n",
       "      <td>Mr. Poyser and Adam plan to start a business. ...</td>\n",
       "      <td>adam and mrs poyser discuss making a movable k...</td>\n",
       "      <td>mrs poyser sat down beside adam at the dining ...</td>\n",
       "    </tr>\n",
       "    <tr>\n",
       "      <th>422</th>\n",
       "      <td>all been of new indulgence more exactly to her...</td>\n",
       "      <td>rosamond has a miscarriage because she goes ou...</td>\n",
       "      <td>3532</td>\n",
       "      <td>Lydgate tries to spare Rosamond's feelings, bu...</td>\n",
       "      <td>rosamond and lydgate discuss their financial s...</td>\n",
       "      <td>There was a moment when it seemed as if lydgat...</td>\n",
       "    </tr>\n",
       "    <tr>\n",
       "      <th>1221</th>\n",
       "      <td>too readily imagine outcast as i am and reject...</td>\n",
       "      <td>evelina continues to write to mr villars of he...</td>\n",
       "      <td>9180</td>\n",
       "      <td>Evelina seeks protection and comfort from Mr. ...</td>\n",
       "      <td>the narrator pleads for continued protection f...</td>\n",
       "      <td>The following is the full text of a letter whi...</td>\n",
       "    </tr>\n",
       "    <tr>\n",
       "      <th>247</th>\n",
       "      <td>nigh an hour after i couldn t help laying down...</td>\n",
       "      <td>the first thing adam notices on entering the c...</td>\n",
       "      <td>532</td>\n",
       "      <td>Witness found a baby's hand under a bush, assu...</td>\n",
       "      <td>a witness found a baby s hand under a nut-bush...</td>\n",
       "      <td>The following is the testimony of one of the w...</td>\n",
       "    </tr>\n",
       "    <tr>\n",
       "      <th>1033</th>\n",
       "      <td>so that none know save we alone but why do it ...</td>\n",
       "      <td>from dr seward s diary the september nd entry ...</td>\n",
       "      <td>70</td>\n",
       "      <td>Van Helsing justifies post-mortem to Jonathan ...</td>\n",
       "      <td>a man expresses sadness over the mutilation of...</td>\n",
       "      <td>The following is the letter written by lucy's ...</td>\n",
       "    </tr>\n",
       "  </tbody>\n",
       "</table>\n",
       "<p>100 rows × 6 columns</p>\n",
       "</div>"
      ],
      "text/plain": [
       "                                                chapter  \\\n",
       "135   says my idealistic friend what vulgar details ...   \n",
       "1281  home with my faith shaken and i have been gett...   \n",
       "1117  chapter x crown and tiara aramis was the first...   \n",
       "998   their very name is a frightful one for the wor...   \n",
       "808   is a danger of that chum frink chanted oh say ...   \n",
       "...                                                 ...   \n",
       "940   re profitable for there s more workmanship nor...   \n",
       "422   all been of new indulgence more exactly to her...   \n",
       "1221  too readily imagine outcast as i am and reject...   \n",
       "247   nigh an hour after i couldn t help laying down...   \n",
       "1033  so that none know save we alone but why do it ...   \n",
       "\n",
       "                                          human_summary  __index_level_0__  \\\n",
       "135   book second chapter in which the story pauses ...                613   \n",
       "1281  the karamazovs go to the meeting with father z...              11763   \n",
       "1117  aramis is filled with suspense as he watches t...               8678   \n",
       "998   not many days after the ship has landed at nuk...               6179   \n",
       "808   business is brisk that spring so babbitt and m...               1732   \n",
       "...                                                 ...                ...   \n",
       "940   adam returns from work stops in to see his mot...                468   \n",
       "422   rosamond has a miscarriage because she goes ou...               3532   \n",
       "1221  evelina continues to write to mr villars of he...               9180   \n",
       "247   the first thing adam notices on entering the c...                532   \n",
       "1033  from dr seward s diary the september nd entry ...                 70   \n",
       "\n",
       "                                           summary_text  \\\n",
       "135   The passage emphasizes the importance of human...   \n",
       "1281  Faith is shaken due to Pyotr Alexandrovitch's ...   \n",
       "1117  Aramis helps a prisoner, Philippe, experience ...   \n",
       "998   Typees in Marquesan dialect means cannibals, f...   \n",
       "808   Men discuss beer recipes, prohibition, and sma...   \n",
       "...                                                 ...   \n",
       "940   Mr. Poyser and Adam plan to start a business. ...   \n",
       "422   Lydgate tries to spare Rosamond's feelings, bu...   \n",
       "1221  Evelina seeks protection and comfort from Mr. ...   \n",
       "247   Witness found a baby's hand under a bush, assu...   \n",
       "1033  Van Helsing justifies post-mortem to Jonathan ...   \n",
       "\n",
       "                                          model_summary  \\\n",
       "135   a friend reflects on the human condition highl...   \n",
       "1281  fyodor pavlovitch angrily confronts miuesov ac...   \n",
       "1117  aramis walks with the young man in a carriage ...   \n",
       "998   the typees of nukuheva are known as cannibals ...   \n",
       "808   men discuss home-made beer cider and prohibiti...   \n",
       "...                                                 ...   \n",
       "940   adam and mrs poyser discuss making a movable k...   \n",
       "422   rosamond and lydgate discuss their financial s...   \n",
       "1221  the narrator pleads for continued protection f...   \n",
       "247   a witness found a baby s hand under a nut-bush...   \n",
       "1033  a man expresses sadness over the mutilation of...   \n",
       "\n",
       "                                     base_model_summary  \n",
       "135   This is an extract from a poem by the poet Sir...  \n",
       "1281  The following is an extract from the book of G...  \n",
       "1117  This is the story of how aramis the prisoner c...  \n",
       "998   My dear readers i am writing to you from our s...  \n",
       "808   A few days ago a group of men and women gather...  \n",
       "...                                                 ...  \n",
       "940   mrs poyser sat down beside adam at the dining ...  \n",
       "422   There was a moment when it seemed as if lydgat...  \n",
       "1221  The following is the full text of a letter whi...  \n",
       "247   The following is the testimony of one of the w...  \n",
       "1033  The following is the letter written by lucy's ...  \n",
       "\n",
       "[100 rows x 6 columns]"
      ]
     },
     "execution_count": 12,
     "metadata": {},
     "output_type": "execute_result"
    }
   ],
   "source": [
    "test_df"
   ]
  },
  {
   "cell_type": "code",
   "execution_count": 7,
   "metadata": {},
   "outputs": [],
   "source": [
    "rouge = evaluate.load('rouge')"
   ]
  },
  {
   "cell_type": "code",
   "execution_count": 8,
   "metadata": {},
   "outputs": [
    {
     "name": "stderr",
     "output_type": "stream",
     "text": [
      "100%|██████████| 100/100 [00:50<00:00,  1.97it/s]\n"
     ]
    }
   ],
   "source": [
    "test_df[\"model_summary\"] = test_df[\"chapter\"].progress_apply( lambda text: summarize(text,summary_model,tokenizer,chapter_length=run_details[\"tokenizer_chapter_max_length\"],summary_length=run_details[\"tokenizer_summary_max_length\"],temperature=1.5,repetition_penalty=1.5,device=device))"
   ]
  },
  {
   "cell_type": "code",
   "execution_count": 9,
   "metadata": {},
   "outputs": [
    {
     "name": "stderr",
     "output_type": "stream",
     "text": [
      "100%|██████████| 100/100 [01:07<00:00,  1.48it/s]\n"
     ]
    }
   ],
   "source": [
    "test_df[\"base_model_summary\"] = test_df[\"chapter\"].progress_apply( lambda text: summarize(text,base_model,tokenizer,chapter_length=run_details[\"tokenizer_chapter_max_length\"],summary_length=run_details[\"tokenizer_summary_max_length\"],temperature=1.5,repetition_penalty=1.5,device=device))"
   ]
  },
  {
   "cell_type": "code",
   "execution_count": 10,
   "metadata": {},
   "outputs": [
    {
     "data": {
      "text/plain": [
       "{'rouge1': 0.283749797758862,\n",
       " 'rouge2': 0.07062861192743758,\n",
       " 'rougeL': 0.23015921978427872,\n",
       " 'rougeLsum': 0.22985554099902414}"
      ]
     },
     "execution_count": 10,
     "metadata": {},
     "output_type": "execute_result"
    }
   ],
   "source": [
    "predictions = test_df[\"model_summary\"].to_list()\n",
    "references = test_df[\"summary_text\"].to_list()\n",
    "results_model = rouge.compute(predictions=predictions, references=references)\n",
    "results_model"
   ]
  },
  {
   "cell_type": "code",
   "execution_count": 13,
   "metadata": {},
   "outputs": [
    {
     "data": {
      "text/plain": [
       "{'rouge1': 0.15576442037471938,\n",
       " 'rouge2': 0.01963816736803319,\n",
       " 'rougeL': 0.12315978608369169,\n",
       " 'rougeLsum': 0.12333303678751445}"
      ]
     },
     "execution_count": 13,
     "metadata": {},
     "output_type": "execute_result"
    }
   ],
   "source": [
    "predictions = test_df[\"base_model_summary\"].to_list()\n",
    "references = test_df[\"summary_text\"].to_list()\n",
    "results_base = rouge.compute(predictions=predictions, references=references)\n",
    "results_base"
   ]
  },
  {
   "cell_type": "code",
   "execution_count": 15,
   "metadata": {},
   "outputs": [],
   "source": [
    "def calculate_percentage_difference(dict1, dict2):\n",
    "    percentage_difference = {}\n",
    "\n",
    "    for metric in dict1.keys():\n",
    "        difference = dict2[metric] - dict1[metric]\n",
    "        percentage_diff = (difference / dict1[metric]) * 100\n",
    "        percentage_difference[metric] = percentage_diff\n",
    "\n",
    "    for metric, percentage_diff in percentage_difference.items():\n",
    "        print(f\"{metric}: {percentage_diff:.2f}%\")\n",
    "\n",
    "    return percentage_difference"
   ]
  },
  {
   "cell_type": "code",
   "execution_count": 17,
   "metadata": {},
   "outputs": [
    {
     "name": "stdout",
     "output_type": "stream",
     "text": [
      "rouge1: 82.17%\n",
      "rouge2: 259.65%\n",
      "rougeL: 86.88%\n",
      "rougeLsum: 86.37%\n"
     ]
    },
    {
     "data": {
      "text/plain": [
       "{'rouge1': 82.16598956054966,\n",
       " 'rouge2': 259.64970968933756,\n",
       " 'rougeL': 86.87854786291763,\n",
       " 'rougeLsum': 86.36980567910044}"
      ]
     },
     "execution_count": 17,
     "metadata": {},
     "output_type": "execute_result"
    }
   ],
   "source": [
    "calculate_percentage_difference(results_base, results_model)"
   ]
  },
  {
   "cell_type": "code",
   "execution_count": null,
   "metadata": {},
   "outputs": [],
   "source": [
    "from pprint import pprint"
   ]
  },
  {
   "cell_type": "code",
   "execution_count": null,
   "metadata": {},
   "outputs": [],
   "source": [
    "index = 3\n",
    "chapter = test_df.iloc[index][\"chapter\"]\n",
    "summary = test_df.iloc[index][\"summary_text\"]"
   ]
  },
  {
   "cell_type": "code",
   "execution_count": null,
   "metadata": {},
   "outputs": [],
   "source": [
    "chapter = '''In a quaint village nestled between rolling hills and dense forests, where the cobblestone streets whispered tales of old, lived a young girl named Elara. Her hair was as silver as the moonlight that bathed the village in a gentle glow, and her eyes sparkled with the curiosity of a thousand stars. Elara was no ordinary child; she possessed an innate ability to communicate with the natural world around her, a secret she held close to her heart.\n",
    "\n",
    "Elara's best friend was an ancient oak tree, standing tall and proud at the edge of the forest, its leaves whispering secrets only she could understand. The villagers spoke of the tree in hushed tones, calling it the Guardian of the Glen, a protector of the village's hidden treasures and mysteries.\n",
    "\n",
    "One crisp autumn evening, as Elara sat beneath the boughs of the Guardian, conversing in the silent language of rustling leaves, a sudden gust of wind carried a plea for help. The forest was in danger; a darkness had begun to creep through the woods, wilting flowers and withering trees with its malevolent touch.\n",
    "\n",
    "Determined to save her beloved forest, Elara embarked on a journey guided by the whispers of the wind and the guidance of the Guardian. She ventured deeper into the forest than she had ever dared, her path lit by the luminescence of fireflies, dancing around her like a shimmering cloak.\n",
    "\n",
    "As she delved into the heart of the darkness, Elara discovered its source: a sorcerer, twisted by his own power, seeking to bend the forest's magic to his will. Realizing the peril, Elara drew upon her connection with the natural world, calling forth an assembly of creatures great and small. Owls took flight, their wings casting shadows like silent warriors; foxes darted through the underbrush, their eyes gleaming with determination; even the trees bent their branches, ready to protect their home.\n",
    "\n",
    "With the forest at her back, Elara confronted the sorcerer, her resolve as strong as the ancient oak itself. The battle was fierce, with the sorcerer's dark magic clashing against the pure, untamed power of nature. In the end, it was the unity of the forest and the purity of Elara's heart that prevailed, cleansing the woods of the darkness that had sought to consume it.\n",
    "\n",
    "As dawn broke, painting the sky in hues of pink and gold, the forest thrived once more, its magic restored. The villagers, awestruck by the transformation, celebrated Elara as a hero, though she knew the true victory belonged to the forest itself.\n",
    "\n",
    "Elara's bond with the natural world had saved the village, and in return, she was gifted with a deeper connection to the magic that flowed through the land. She became the Guardian's apprentice, vowing to protect the balance between the village and the forest, a guardian of secrets, a whisperer to the wind.\n",
    "\n",
    "And so, the legend of Elara, the girl who spoke to the forest, became a tale passed down through generations, a reminder of the harmony that exists when we listen to the whispers of the natural world.'''"
   ]
  },
  {
   "cell_type": "code",
   "execution_count": null,
   "metadata": {},
   "outputs": [],
   "source": [
    "summary = \"Elara is a young girl who can communicate with nature. She is a protector of the forest and the Guardian of the Glen.\""
   ]
  },
  {
   "cell_type": "code",
   "execution_count": null,
   "metadata": {},
   "outputs": [],
   "source": [
    "base_model_summary = summarize(chapter,\n",
    "                               base_model,\n",
    "                               tokenizer,\n",
    "                               chapter_length=run_details[\"tokenizer_chapter_max_length\"],\n",
    "                               summary_length=run_details[\"tokenizer_summary_max_length\"],\n",
    "                               temperature=1.5,\n",
    "                               repetition_penalty=1.5,\n",
    "                               device=device)\n",
    "model_summary = summarize(chapter,\n",
    "                               summary_model,\n",
    "                               tokenizer,\n",
    "                               chapter_length=run_details[\"tokenizer_chapter_max_length\"],\n",
    "                               summary_length=run_details[\"tokenizer_summary_max_length\"],\n",
    "                               temperature=1.5,\n",
    "                               repetition_penalty=1.5,\n",
    "                               device=device)"
   ]
  },
  {
   "cell_type": "code",
   "execution_count": null,
   "metadata": {},
   "outputs": [
    {
     "data": {
      "text/plain": [
       "\"In a quaint village nestled between rolling hills and dense forests, where the cobblestone streets whispered tales of old, lived a young girl named Elara. Her hair was as silver as the moonlight that bathed the village in a gentle glow, and her eyes sparkled with the curiosity of a thousand stars. Elara was no ordinary child; she possessed an innate ability to communicate with the natural world around her, a secret she held close to her heart.\\n\\nElara's best friend was an ancient oak tree, standing tall and proud at the edge of the forest, its leaves whispering secrets only she could understand. The villagers spoke of the tree in hushed tones, calling it the Guardian of the Glen, a protector of the village's hidden treasures and mysteries.\\n\\nOne crisp autumn evening, as Elara sat beneath the boughs of the Guardian, conversing in the silent language of rustling leaves, a sudden gust of wind carried a plea for help. The forest was in danger; a darkness had begun to creep through the woods, wilting flowers and withering trees with its malevolent touch.\\n\\nDetermined to save her beloved forest, Elara embarked on a journey guided by the whispers of the wind and the guidance of the Guardian. She ventured deeper into the forest than she had ever dared, her path lit by the luminescence of fireflies, dancing around her like a shimmering cloak.\\n\\nAs she delved into the heart of the darkness, Elara discovered its source: a sorcerer, twisted by his own power, seeking to bend the forest's magic to his will. Realizing the peril, Elara drew upon her connection with the natural world, calling forth an assembly of creatures great and small. Owls took flight, their wings casting shadows like silent warriors; foxes darted through the underbrush, their eyes gleaming with determination; even the trees bent their branches, ready to protect their home.\\n\\nWith the forest at her back, Elara confronted the sorcerer, her resolve as strong as the ancient oak itself. The battle was fierce, with the sorcerer's dark magic clashing against the pure, untamed power of nature. In the end, it was the unity of the forest and the purity of Elara's heart that prevailed, cleansing the woods of the darkness that had sought to consume it.\\n\\nAs dawn broke, painting the sky in hues of pink and gold, the forest thrived once more, its magic restored. The villagers, awestruck by the transformation, celebrated Elara as a hero, though she knew the true victory belonged to the forest itself.\\n\\nElara's bond with the natural world had saved the village, and in return, she was gifted with a deeper connection to the magic that flowed through the land. She became the Guardian's apprentice, vowing to protect the balance between the village and the forest, a guardian of secrets, a whisperer to the wind.\\n\\nAnd so, the legend of Elara, the girl who spoke to the forest, became a tale passed down through generations, a reminder of the harmony that exists when we listen to the whispers of the natural world.\""
      ]
     },
     "execution_count": 21,
     "metadata": {},
     "output_type": "execute_result"
    }
   ],
   "source": [
    "chapter"
   ]
  },
  {
   "cell_type": "code",
   "execution_count": null,
   "metadata": {},
   "outputs": [
    {
     "name": "stdout",
     "output_type": "stream",
     "text": [
      "Base Model Summary : \n",
      " This is the story of Elara, a young girl who embarks on a magical journey to save her beloved forest.\n",
      "Fine Tuned Model Summary : \n",
      " Elara a young girl in a quaint village communicates with nature, saving her village forest from sorcerer\n",
      "GPT Summary : \n",
      " Elara is a young girl who can communicate with nature. She is a protector of the forest and the Guardian of the Glen.\n"
     ]
    }
   ],
   "source": [
    "print(f\"Base Model Summary : \\n {base_model_summary}\")\n",
    "print(f\"Fine Tuned Model Summary : \\n {model_summary}\")\n",
    "print(f\"GPT Summary : \\n {summary}\")\n"
   ]
  }
 ],
 "metadata": {
  "kernelspec": {
   "display_name": "Python 3",
   "language": "python",
   "name": "python3"
  },
  "language_info": {
   "codemirror_mode": {
    "name": "ipython",
    "version": 3
   },
   "file_extension": ".py",
   "mimetype": "text/x-python",
   "name": "python",
   "nbconvert_exporter": "python",
   "pygments_lexer": "ipython3",
   "version": "3.11.7"
  }
 },
 "nbformat": 4,
 "nbformat_minor": 2
}
