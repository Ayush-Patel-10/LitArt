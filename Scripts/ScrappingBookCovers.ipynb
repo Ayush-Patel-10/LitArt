{
 "cells": [
  {
   "cell_type": "code",
   "execution_count": 62,
   "id": "2fc58fd8-b2ad-4662-88c1-3b6b8ca163c0",
   "metadata": {},
   "outputs": [],
   "source": [
    "import pandas as pd\n",
    "import numpy as np\n",
    "import requests\n",
    "from bs4 import BeautifulSoup\n",
    "from os.path  import basename\n",
    "import tqdm\n",
    "import urllib.request \n",
    "from PIL import Image \n",
    "import os"
   ]
  },
  {
   "cell_type": "code",
   "execution_count": 63,
   "id": "43ce8d3d-5be4-477c-b7ba-50dda4192e21",
   "metadata": {},
   "outputs": [],
   "source": [
    "goodreadsDF = pd.read_csv(\"../Datasets/Image-Generation Data/goodreads_data.csv\")"
   ]
  },
  {
   "cell_type": "code",
   "execution_count": 64,
   "id": "3ba96bfe-2f3e-4ddc-bc43-c53581b86e48",
   "metadata": {},
   "outputs": [
    {
     "data": {
      "text/html": [
       "<div>\n",
       "<style scoped>\n",
       "    .dataframe tbody tr th:only-of-type {\n",
       "        vertical-align: middle;\n",
       "    }\n",
       "\n",
       "    .dataframe tbody tr th {\n",
       "        vertical-align: top;\n",
       "    }\n",
       "\n",
       "    .dataframe thead th {\n",
       "        text-align: right;\n",
       "    }\n",
       "</style>\n",
       "<table border=\"1\" class=\"dataframe\">\n",
       "  <thead>\n",
       "    <tr style=\"text-align: right;\">\n",
       "      <th></th>\n",
       "      <th>Unnamed: 0</th>\n",
       "      <th>Book</th>\n",
       "      <th>Author</th>\n",
       "      <th>Description</th>\n",
       "      <th>Genres</th>\n",
       "      <th>Avg_Rating</th>\n",
       "      <th>Num_Ratings</th>\n",
       "      <th>URL</th>\n",
       "    </tr>\n",
       "  </thead>\n",
       "  <tbody>\n",
       "    <tr>\n",
       "      <th>0</th>\n",
       "      <td>0</td>\n",
       "      <td>To Kill a Mockingbird</td>\n",
       "      <td>Harper Lee</td>\n",
       "      <td>The unforgettable novel of a childhood in a sl...</td>\n",
       "      <td>['Classics', 'Fiction', 'Historical Fiction', ...</td>\n",
       "      <td>4.27</td>\n",
       "      <td>5,691,311</td>\n",
       "      <td>https://www.goodreads.com/book/show/2657.To_Ki...</td>\n",
       "    </tr>\n",
       "    <tr>\n",
       "      <th>1</th>\n",
       "      <td>1</td>\n",
       "      <td>Harry Potter and the Philosopher’s Stone (Harr...</td>\n",
       "      <td>J.K. Rowling</td>\n",
       "      <td>Harry Potter thinks he is an ordinary boy - un...</td>\n",
       "      <td>['Fantasy', 'Fiction', 'Young Adult', 'Magic',...</td>\n",
       "      <td>4.47</td>\n",
       "      <td>9,278,135</td>\n",
       "      <td>https://www.goodreads.com/book/show/72193.Harr...</td>\n",
       "    </tr>\n",
       "    <tr>\n",
       "      <th>2</th>\n",
       "      <td>2</td>\n",
       "      <td>Pride and Prejudice</td>\n",
       "      <td>Jane Austen</td>\n",
       "      <td>Since its immediate success in 1813, Pride and...</td>\n",
       "      <td>['Classics', 'Fiction', 'Romance', 'Historical...</td>\n",
       "      <td>4.28</td>\n",
       "      <td>3,944,155</td>\n",
       "      <td>https://www.goodreads.com/book/show/1885.Pride...</td>\n",
       "    </tr>\n",
       "    <tr>\n",
       "      <th>3</th>\n",
       "      <td>3</td>\n",
       "      <td>The Diary of a Young Girl</td>\n",
       "      <td>Anne Frank</td>\n",
       "      <td>Discovered in the attic in which she spent the...</td>\n",
       "      <td>['Classics', 'Nonfiction', 'History', 'Biograp...</td>\n",
       "      <td>4.18</td>\n",
       "      <td>3,488,438</td>\n",
       "      <td>https://www.goodreads.com/book/show/48855.The_...</td>\n",
       "    </tr>\n",
       "    <tr>\n",
       "      <th>4</th>\n",
       "      <td>4</td>\n",
       "      <td>Animal Farm</td>\n",
       "      <td>George Orwell</td>\n",
       "      <td>Librarian's note: There is an Alternate Cover ...</td>\n",
       "      <td>['Classics', 'Fiction', 'Dystopia', 'Fantasy',...</td>\n",
       "      <td>3.98</td>\n",
       "      <td>3,575,172</td>\n",
       "      <td>https://www.goodreads.com/book/show/170448.Ani...</td>\n",
       "    </tr>\n",
       "    <tr>\n",
       "      <th>...</th>\n",
       "      <td>...</td>\n",
       "      <td>...</td>\n",
       "      <td>...</td>\n",
       "      <td>...</td>\n",
       "      <td>...</td>\n",
       "      <td>...</td>\n",
       "      <td>...</td>\n",
       "      <td>...</td>\n",
       "    </tr>\n",
       "    <tr>\n",
       "      <th>9995</th>\n",
       "      <td>9995</td>\n",
       "      <td>Breeders (Breeders Trilogy, #1)</td>\n",
       "      <td>Ashley Quigley</td>\n",
       "      <td>How far would you go? If human society was gen...</td>\n",
       "      <td>['Dystopia', 'Science Fiction', 'Post Apocalyp...</td>\n",
       "      <td>3.44</td>\n",
       "      <td>276</td>\n",
       "      <td>https://www.goodreads.com/book/show/22085400-b...</td>\n",
       "    </tr>\n",
       "    <tr>\n",
       "      <th>9996</th>\n",
       "      <td>9996</td>\n",
       "      <td>Dynamo</td>\n",
       "      <td>Eleanor Gustafson</td>\n",
       "      <td>Jeth Cavanaugh is searching for a new life alo...</td>\n",
       "      <td>[]</td>\n",
       "      <td>4.23</td>\n",
       "      <td>60</td>\n",
       "      <td>https://www.goodreads.com/book/show/20862902-d...</td>\n",
       "    </tr>\n",
       "    <tr>\n",
       "      <th>9997</th>\n",
       "      <td>9997</td>\n",
       "      <td>The Republic of Trees</td>\n",
       "      <td>Sam Taylor</td>\n",
       "      <td>This dark fable tells the story of four Englis...</td>\n",
       "      <td>['Fiction', 'Horror', 'Dystopia', 'Coming Of A...</td>\n",
       "      <td>3.29</td>\n",
       "      <td>383</td>\n",
       "      <td>https://www.goodreads.com/book/show/891262.The...</td>\n",
       "    </tr>\n",
       "    <tr>\n",
       "      <th>9998</th>\n",
       "      <td>9998</td>\n",
       "      <td>Waking Up (Healing Hearts, #1)</td>\n",
       "      <td>Renee Dyer</td>\n",
       "      <td>For Adriana Monroe life couldn’t get any bette...</td>\n",
       "      <td>['New Adult', 'Romance', 'Contemporary Romance...</td>\n",
       "      <td>4.13</td>\n",
       "      <td>263</td>\n",
       "      <td>https://www.goodreads.com/book/show/19347252-w...</td>\n",
       "    </tr>\n",
       "    <tr>\n",
       "      <th>9999</th>\n",
       "      <td>9999</td>\n",
       "      <td>Bits and Pieces: Tales and Sonnets</td>\n",
       "      <td>Jas T. Ward</td>\n",
       "      <td>After demands of thousands of fans in various ...</td>\n",
       "      <td>[]</td>\n",
       "      <td>5.00</td>\n",
       "      <td>36</td>\n",
       "      <td>https://www.goodreads.com/book/show/21302552-b...</td>\n",
       "    </tr>\n",
       "  </tbody>\n",
       "</table>\n",
       "<p>10000 rows × 8 columns</p>\n",
       "</div>"
      ],
      "text/plain": [
       "      Unnamed: 0                                               Book  \\\n",
       "0              0                              To Kill a Mockingbird   \n",
       "1              1  Harry Potter and the Philosopher’s Stone (Harr...   \n",
       "2              2                                Pride and Prejudice   \n",
       "3              3                          The Diary of a Young Girl   \n",
       "4              4                                        Animal Farm   \n",
       "...          ...                                                ...   \n",
       "9995        9995                    Breeders (Breeders Trilogy, #1)   \n",
       "9996        9996                                             Dynamo   \n",
       "9997        9997                              The Republic of Trees   \n",
       "9998        9998                     Waking Up (Healing Hearts, #1)   \n",
       "9999        9999                 Bits and Pieces: Tales and Sonnets   \n",
       "\n",
       "                 Author                                        Description  \\\n",
       "0            Harper Lee  The unforgettable novel of a childhood in a sl...   \n",
       "1          J.K. Rowling  Harry Potter thinks he is an ordinary boy - un...   \n",
       "2           Jane Austen  Since its immediate success in 1813, Pride and...   \n",
       "3            Anne Frank  Discovered in the attic in which she spent the...   \n",
       "4         George Orwell  Librarian's note: There is an Alternate Cover ...   \n",
       "...                 ...                                                ...   \n",
       "9995     Ashley Quigley  How far would you go? If human society was gen...   \n",
       "9996  Eleanor Gustafson  Jeth Cavanaugh is searching for a new life alo...   \n",
       "9997         Sam Taylor  This dark fable tells the story of four Englis...   \n",
       "9998         Renee Dyer  For Adriana Monroe life couldn’t get any bette...   \n",
       "9999        Jas T. Ward  After demands of thousands of fans in various ...   \n",
       "\n",
       "                                                 Genres  Avg_Rating  \\\n",
       "0     ['Classics', 'Fiction', 'Historical Fiction', ...        4.27   \n",
       "1     ['Fantasy', 'Fiction', 'Young Adult', 'Magic',...        4.47   \n",
       "2     ['Classics', 'Fiction', 'Romance', 'Historical...        4.28   \n",
       "3     ['Classics', 'Nonfiction', 'History', 'Biograp...        4.18   \n",
       "4     ['Classics', 'Fiction', 'Dystopia', 'Fantasy',...        3.98   \n",
       "...                                                 ...         ...   \n",
       "9995  ['Dystopia', 'Science Fiction', 'Post Apocalyp...        3.44   \n",
       "9996                                                 []        4.23   \n",
       "9997  ['Fiction', 'Horror', 'Dystopia', 'Coming Of A...        3.29   \n",
       "9998  ['New Adult', 'Romance', 'Contemporary Romance...        4.13   \n",
       "9999                                                 []        5.00   \n",
       "\n",
       "     Num_Ratings                                                URL  \n",
       "0      5,691,311  https://www.goodreads.com/book/show/2657.To_Ki...  \n",
       "1      9,278,135  https://www.goodreads.com/book/show/72193.Harr...  \n",
       "2      3,944,155  https://www.goodreads.com/book/show/1885.Pride...  \n",
       "3      3,488,438  https://www.goodreads.com/book/show/48855.The_...  \n",
       "4      3,575,172  https://www.goodreads.com/book/show/170448.Ani...  \n",
       "...          ...                                                ...  \n",
       "9995         276  https://www.goodreads.com/book/show/22085400-b...  \n",
       "9996          60  https://www.goodreads.com/book/show/20862902-d...  \n",
       "9997         383  https://www.goodreads.com/book/show/891262.The...  \n",
       "9998         263  https://www.goodreads.com/book/show/19347252-w...  \n",
       "9999          36  https://www.goodreads.com/book/show/21302552-b...  \n",
       "\n",
       "[10000 rows x 8 columns]"
      ]
     },
     "execution_count": 64,
     "metadata": {},
     "output_type": "execute_result"
    }
   ],
   "source": [
    "goodreadsDF"
   ]
  },
  {
   "cell_type": "code",
   "execution_count": 42,
   "id": "1e502cba-bc7c-4527-bcde-1b0cd5d91fef",
   "metadata": {},
   "outputs": [],
   "source": [
    "images = \"../Datasets/Image-Generation Data/bookcovers/\"\n",
    "os.makedirs(images,exist_ok=True)"
   ]
  },
  {
   "cell_type": "code",
   "execution_count": 77,
   "id": "2d53491f-a3cf-4f6f-bfe0-67fc285651bb",
   "metadata": {
    "scrolled": true
   },
   "outputs": [
    {
     "name": "stderr",
     "output_type": "stream",
     "text": [
      "  2%|███▌                                                                                                                                                                  | 216/10000 [00:00<00:14, 689.17it/s]"
     ]
    },
    {
     "name": "stdout",
     "output_type": "stream",
     "text": [
      "Book - The Constitution of the United States of America\n",
      "Author - Founding Fathers\n",
      "URL - https://www.goodreads.com/book/show/89959.The_Constitution_of_the_United_States_of_America\n",
      "Image Link - None\n",
      "Exception occured for The Constitution of the United States of America : AttributeError(\"'NoneType' object has no attribute 'select'\")\n"
     ]
    },
    {
     "name": "stderr",
     "output_type": "stream",
     "text": [
      "  6%|█████████▍                                                                                                                                                            | 566/10000 [00:02<00:43, 218.17it/s]"
     ]
    },
    {
     "name": "stdout",
     "output_type": "stream",
     "text": [
      "Book - The Celestine Prophecy (Celestine Prophecy, #1)\n",
      "Author - James Redfield\n",
      "URL - https://www.goodreads.com/book/show/13103.The_Celestine_Prophecy\n",
      "Image Link - https://images-na.ssl-images-amazon.com/images/S/compressed.photo.goodreads.com/books/1166542346i/13103.jpg\n",
      "Exception occured for The Celestine Prophecy (Celestine Prophecy, #1) : <HTTPError 403: 'Forbidden'>\n"
     ]
    },
    {
     "name": "stderr",
     "output_type": "stream",
     "text": [
      " 11%|██████████████████▉                                                                                                                                                  | 1146/10000 [00:03<00:22, 389.33it/s]"
     ]
    },
    {
     "name": "stdout",
     "output_type": "stream",
     "text": [
      "Book - Limitless: Upgrade Your Brain, Learn Anything Faster, and Unlock Your Exceptional Life\n",
      "Author - Jim Kwik\n",
      "URL - https://www.goodreads.com/book/show/49994260-limitless\n",
      "Image Link - None\n",
      "Exception occured for Limitless: Upgrade Your Brain, Learn Anything Faster, and Unlock Your Exceptional Life : AttributeError(\"'NoneType' object has no attribute 'select'\")\n"
     ]
    },
    {
     "name": "stderr",
     "output_type": "stream",
     "text": [
      " 12%|███████████████████▊                                                                                                                                                 | 1201/10000 [00:03<00:24, 353.90it/s]"
     ]
    },
    {
     "name": "stdout",
     "output_type": "stream",
     "text": [
      "Book - The Adventures of Pinocchio\n",
      "Author - Carlo Collodi\n",
      "URL - https://www.goodreads.com/book/show/6059070-the-adventures-of-pinocchio\n",
      "Image Link - None\n",
      "Exception occured for The Adventures of Pinocchio : AttributeError(\"'NoneType' object has no attribute 'select'\")\n"
     ]
    },
    {
     "name": "stderr",
     "output_type": "stream",
     "text": [
      " 15%|█████████████████████████▎                                                                                                                                           | 1534/10000 [00:03<00:17, 481.97it/s]"
     ]
    },
    {
     "name": "stdout",
     "output_type": "stream",
     "text": [
      "Book - Secret Slave: Kidnapped and abused for 13 years. This is my story of survival.\n",
      "Author - Anna Ruston\n",
      "URL - https://www.goodreads.com/book/show/32951022-secret-slave\n",
      "Image Link - None\n",
      "Exception occured for Secret Slave: Kidnapped and abused for 13 years. This is my story of survival. : AttributeError(\"'NoneType' object has no attribute 'select'\")\n"
     ]
    },
    {
     "name": "stderr",
     "output_type": "stream",
     "text": [
      " 16%|██████████████████████████▎                                                                                                                                          | 1598/10000 [00:04<00:22, 366.89it/s]"
     ]
    },
    {
     "name": "stdout",
     "output_type": "stream",
     "text": [
      "Book - Tears of the Silenced\n",
      "Author - Misty Griffin\n",
      "URL - https://www.goodreads.com/book/show/40974159-tears-of-the-silenced\n",
      "Image Link - None\n",
      "Exception occured for Tears of the Silenced : AttributeError(\"'NoneType' object has no attribute 'select'\")\n"
     ]
    },
    {
     "name": "stderr",
     "output_type": "stream",
     "text": [
      " 40%|████████████████████████████████████████████████████████████████▊                                                                                                   | 3953/10000 [00:04<00:03, 1686.48it/s]"
     ]
    },
    {
     "name": "stdout",
     "output_type": "stream",
     "text": [
      "Book - Roses Are Red (Alex Cross, #6)\n",
      "Author - James Patterson\n",
      "URL - https://www.goodreads.com/book/show/79378.Roses_Are_Red\n",
      "Image Link - None\n",
      "Exception occured for Roses Are Red (Alex Cross, #6) : AttributeError(\"'NoneType' object has no attribute 'select'\")\n"
     ]
    },
    {
     "name": "stderr",
     "output_type": "stream",
     "text": [
      " 42%|████████████████████████████████████████████████████████████████████▏                                                                                               | 4161/10000 [00:05<00:03, 1489.81it/s]"
     ]
    },
    {
     "name": "stdout",
     "output_type": "stream",
     "text": [
      "Book - Archer's Voice\n",
      "Author - Mia Sheridan\n",
      "URL - https://www.goodreads.com/book/show/20639274-archer-s-voice\n",
      "Image Link - None\n",
      "Exception occured for Archer's Voice : AttributeError(\"'NoneType' object has no attribute 'select'\")\n"
     ]
    },
    {
     "name": "stderr",
     "output_type": "stream",
     "text": [
      " 51%|████████████████████████████████████████████████████████████████████████████████████▏                                                                               | 5137/10000 [00:06<00:04, 1086.55it/s]"
     ]
    },
    {
     "name": "stdout",
     "output_type": "stream",
     "text": [
      "Book - Meeting Mr. Mogul: A CEO Billionaire Contemporary Romance (Mogul, #1)\n",
      "Author - Mel Ryle\n",
      "URL - https://www.goodreads.com/book/show/26068357-meeting-mr-mogul\n",
      "Image Link - None\n",
      "Exception occured for Meeting Mr. Mogul: A CEO Billionaire Contemporary Romance (Mogul, #1) : AttributeError(\"'NoneType' object has no attribute 'select'\")\n"
     ]
    },
    {
     "name": "stderr",
     "output_type": "stream",
     "text": [
      " 56%|████████████████████████████████████████████████████████████████████████████████████████████                                                                        | 5615/10000 [00:06<00:03, 1178.12it/s]"
     ]
    },
    {
     "name": "stdout",
     "output_type": "stream",
     "text": [
      "Book - Beauty and the Beast\n",
      "Author - Jeanne-Marie Leprince de Beaumont\n",
      "URL - https://www.goodreads.com/book/show/5784403-beauty-and-the-beast\n",
      "Image Link - None\n",
      "Exception occured for Beauty and the Beast : AttributeError(\"'NoneType' object has no attribute 'select'\")\n"
     ]
    },
    {
     "name": "stderr",
     "output_type": "stream",
     "text": [
      " 63%|██████████████████████████████████████████████████████████████████████████████████████████████████████▋                                                             | 6264/10000 [00:07<00:02, 1249.64it/s]"
     ]
    },
    {
     "name": "stdout",
     "output_type": "stream",
     "text": [
      "Book - Billy The Kid, An Autobiography\n",
      "Author - Daniel A. Edwards\n",
      "URL - https://www.goodreads.com/book/show/24590589-billy-the-kid-an-autobiography\n",
      "Image Link - None\n",
      "Exception occured for Billy The Kid, An Autobiography : AttributeError(\"'NoneType' object has no attribute 'select'\")\n"
     ]
    },
    {
     "name": "stderr",
     "output_type": "stream",
     "text": [
      " 64%|█████████████████████████████████████████████████████████████████████████████████████████████████████████▊                                                           | 6411/10000 [00:07<00:04, 864.51it/s]"
     ]
    },
    {
     "name": "stdout",
     "output_type": "stream",
     "text": [
      "Book - Ramayana\n",
      "Author - Vālmīki\n",
      "URL - https://www.goodreads.com/book/show/6470578-ramayana\n",
      "Image Link - None\n",
      "Exception occured for Ramayana : AttributeError(\"'NoneType' object has no attribute 'select'\")\n"
     ]
    },
    {
     "name": "stderr",
     "output_type": "stream",
     "text": [
      " 68%|███████████████████████████████████████████████████████████████████████████████████████████████████████████████▉                                                     | 6787/10000 [00:08<00:03, 881.44it/s]"
     ]
    },
    {
     "name": "stdout",
     "output_type": "stream",
     "text": [
      "Book - House\n",
      "Author - Frank E. Peretti\n",
      "URL - https://www.goodreads.com/book/show/19747756-house\n",
      "Image Link - None\n",
      "Exception occured for House : AttributeError(\"'NoneType' object has no attribute 'select'\")\n"
     ]
    },
    {
     "name": "stderr",
     "output_type": "stream",
     "text": [
      " 74%|█████████████████████████████████████████████████████████████████████████████████████████████████████████████████████████                                           | 7384/10000 [00:08<00:02, 1084.34it/s]"
     ]
    },
    {
     "name": "stdout",
     "output_type": "stream",
     "text": [
      "Book - Find You in the Dark (Find You in the Dark, #1)\n",
      "Author - A. Meredith Walters\n",
      "URL - https://www.goodreads.com/book/show/16081754-find-you-in-the-dark\n",
      "Image Link - None\n",
      "Exception occured for Find You in the Dark (Find You in the Dark, #1) : AttributeError(\"'NoneType' object has no attribute 'select'\")\n"
     ]
    },
    {
     "name": "stderr",
     "output_type": "stream",
     "text": [
      " 82%|███████████████████████████████████████████████████████████████████████████████████████████████████████████████████████████████████████                              | 8182/10000 [00:10<00:02, 756.58it/s]"
     ]
    },
    {
     "name": "stdout",
     "output_type": "stream",
     "text": [
      "Book - James Agee and Walker Evans Let Us Now Praise Famous Men (Penguin Modern Classics) anglais\n",
      "Author - AGEE JAMES/ WALKER E\n",
      "URL - https://www.goodreads.com/book/show/243360.James_Agee_and_Walker_Evans_Let_Us_Now_Praise_Famous_Men_Penguin_Modern_Classics_anglais\n",
      "Image Link - https://images-na.ssl-images-amazon.com/images/S/compressed.photo.goodreads.com/books/1507135568i/243360.jpg\n",
      "Exception occured for James Agee and Walker Evans Let Us Now Praise Famous Men (Penguin Modern Classics) anglais : FileNotFoundError(2, 'No such file or directory')\n"
     ]
    },
    {
     "name": "stderr",
     "output_type": "stream",
     "text": [
      " 83%|████████████████████████████████████████████████████████████████████████████████████████████████████████████████████████████████████████▊                            | 8288/10000 [00:10<00:02, 714.64it/s]"
     ]
    },
    {
     "name": "stdout",
     "output_type": "stream",
     "text": [
      "Book - Nation\n",
      "Author - Terry Pratchett\n",
      "URL - https://www.goodreads.com/book/show/2855034-nation\n",
      "Image Link - None\n",
      "Exception occured for Nation : AttributeError(\"'NoneType' object has no attribute 'select'\")\n"
     ]
    },
    {
     "name": "stderr",
     "output_type": "stream",
     "text": [
      " 86%|█████████████████████████████████████████████████████████████████████████████████████████████████████████████████████████████████████████████▋                       | 8585/10000 [00:10<00:01, 747.70it/s]"
     ]
    },
    {
     "name": "stdout",
     "output_type": "stream",
     "text": [
      "Book - Charleston Receipts\n",
      "Author - The Junior League of Charleston\n",
      "URL - https://www.goodreads.com/book/show/1691091.Charleston_Receipts\n",
      "Image Link - None\n",
      "Exception occured for Charleston Receipts : AttributeError(\"'NoneType' object has no attribute 'select'\")\n"
     ]
    },
    {
     "name": "stderr",
     "output_type": "stream",
     "text": [
      " 87%|███████████████████████████████████████████████████████████████████████████████████████████████████████████████████████████████████████████████▌                     | 8697/10000 [00:11<00:02, 626.85it/s]"
     ]
    },
    {
     "name": "stdout",
     "output_type": "stream",
     "text": [
      "Book - Pat the Bunny\n",
      "Author - Dorothy Kunhardt\n",
      "URL - https://www.goodreads.com/book/show/57605.Pat_the_Bunny\n",
      "Image Link - None\n",
      "Exception occured for Pat the Bunny : AttributeError(\"'NoneType' object has no attribute 'select'\")\n"
     ]
    },
    {
     "name": "stderr",
     "output_type": "stream",
     "text": [
      " 89%|███████████████████████████████████████████████████████████████████████████████████████████████████████████████████████████████████████████████████▎                 | 8930/10000 [00:11<00:02, 487.69it/s]"
     ]
    },
    {
     "name": "stdout",
     "output_type": "stream",
     "text": [
      "Book - Share The Well\n",
      "Author - Rob Wegner / Michelle Wegner\n",
      "URL - https://www.goodreads.com/book/show/10355139-share-the-well\n",
      "Image Link - https://images-na.ssl-images-amazon.com/images/S/compressed.photo.goodreads.com/books/1345556944i/10355139.jpg\n",
      "Exception occured for Share The Well : FileNotFoundError(2, 'No such file or directory')\n"
     ]
    },
    {
     "name": "stderr",
     "output_type": "stream",
     "text": [
      " 91%|██████████████████████████████████████████████████████████████████████████████████████████████████████████████████████████████████████████████████████▊              | 9141/10000 [00:12<00:02, 400.77it/s]"
     ]
    },
    {
     "name": "stdout",
     "output_type": "stream",
     "text": [
      "Book - Those enchanted four and half years\n",
      "Author - Ketaki Patwardhan Nirkhi\n",
      "URL - https://www.goodreads.com/book/show/14898774-those-enchanted-four-and-half-years\n",
      "Image Link - None\n",
      "Exception occured for Those enchanted four and half years : AttributeError(\"'NoneType' object has no attribute 'select'\")\n"
     ]
    },
    {
     "name": "stderr",
     "output_type": "stream",
     "text": [
      " 92%|███████████████████████████████████████████████████████████████████████████████████████████████████████████████████████████████████████████████████████▌             | 9189/10000 [00:13<00:02, 364.51it/s]"
     ]
    },
    {
     "name": "stdout",
     "output_type": "stream",
     "text": [
      "Book - Prophecy of the Heir\n",
      "Author - J.C. Lamont\n",
      "URL - https://www.goodreads.com/book/show/15716457-prophecy-of-the-heir\n",
      "Image Link - None\n",
      "Exception occured for Prophecy of the Heir : AttributeError(\"'NoneType' object has no attribute 'select'\")\n"
     ]
    },
    {
     "name": "stderr",
     "output_type": "stream",
     "text": [
      " 97%|███████████████████████████████████████████████████████████████████████████████████████████████████████████████████████████████████████████████████████████████▉     | 9690/10000 [00:13<00:00, 610.80it/s]"
     ]
    },
    {
     "name": "stdout",
     "output_type": "stream",
     "text": [
      "Book - The key to successful, healthy weight loss\n",
      "Author - DietKart\n",
      "URL - https://www.goodreads.com/book/show/18481121-the-key-to-successful-healthy-weight-loss\n",
      "Image Link - None\n",
      "Exception occured for The key to successful, healthy weight loss : AttributeError(\"'NoneType' object has no attribute 'select'\")\n"
     ]
    },
    {
     "name": "stderr",
     "output_type": "stream",
     "text": [
      " 98%|█████████████████████████████████████████████████████████████████████████████████████████████████████████████████████████████████████████████████████████████████▏   | 9767/10000 [00:13<00:00, 515.83it/s]"
     ]
    },
    {
     "name": "stdout",
     "output_type": "stream",
     "text": [
      "Book - Lucy's Big Mess\n",
      "Author - Kim Yannayon\n",
      "URL - https://www.goodreads.com/book/show/18811555-lucy-s-big-mess\n",
      "Image Link - None\n",
      "Exception occured for Lucy's Big Mess : AttributeError(\"'NoneType' object has no attribute 'select'\")\n"
     ]
    },
    {
     "name": "stderr",
     "output_type": "stream",
     "text": [
      "100%|████████████████████████████████████████████████████████████████████████████████████████████████████████████████████████████████████████████████████████████████████| 10000/10000 [00:13<00:00, 716.16it/s]"
     ]
    },
    {
     "name": "stdout",
     "output_type": "stream",
     "text": [
      "Book - Morning Glory\n",
      "Author - LaVyrle Spencer\n",
      "URL - https://www.goodreads.com/book/show/6510802-morning-glory\n",
      "Image Link - None\n",
      "Exception occured for Morning Glory : AttributeError(\"'NoneType' object has no attribute 'select'\")\n"
     ]
    },
    {
     "name": "stderr",
     "output_type": "stream",
     "text": [
      "\n"
     ]
    }
   ],
   "source": [
    "goodreadsDF[\"isImageAvailable\"] = False\n",
    "goodreadsDF[\"imageLocation\"] = \"\"\n",
    "\n",
    "for index,rows in tqdm.tqdm(goodreadsDF.iterrows(),total=len(goodreadsDF)):\n",
    "\n",
    "    book = rows[\"Book\"].replace(\"/\",\"\")\n",
    "    author = rows[\"Author\"]\n",
    "    link = rows[\"URL\"]\n",
    "\n",
    "\n",
    "\n",
    "    if os.path.isfile(f\"{images}{book}-{author}.jpg\"):\n",
    "        goodreadsDF.at[index,\"isImageAvailable\"] = True\n",
    "        goodreadsDF.at[index,\"imageLocation\"] = f\"{images}{book}-{author}.jpg\"\n",
    "        continue\n",
    "\n",
    "\n",
    "\n",
    "    response = requests.get(link)\n",
    "    soup = BeautifulSoup(response.content)\n",
    "    \n",
    "    imageLink = soup.find(\"div\", { \"class\" : \"BookCover__image\" })\n",
    "    \n",
    "    try:\n",
    "        imageLink = imageLink.select(\"img[src^=http]\")[0][\"src\"]\n",
    "        urllib.request.urlretrieve(imageLink, f\"{images}{book}-{author}.jpg\")\n",
    "\n",
    "        goodreadsDF.at[index,\"isImageAvailable\"] = True\n",
    "        goodreadsDF.at[index,\"imageLocation\"] = f\"{images}{book}-{author}.jpg\"\n",
    "        \n",
    "    except Exception as e:\n",
    "        print(f\"Book - {book}\")\n",
    "        print(f\"Author - {author}\")\n",
    "        print(f\"URL - {link}\")\n",
    "        print(f\"Image Link - {imageLink}\")\n",
    "\n",
    "        goodreadsDF.at[index,\"isImageAvailable\"] = False\n",
    "        goodreadsDF.at[index,\"imageLocation\"] = None\n",
    "\n",
    "        print(\"Exception occured for {} : {}\".format(book, repr(e)))"
   ]
  },
  {
   "cell_type": "code",
   "execution_count": 76,
   "id": "b1c0e1d0-7165-42ad-99c1-5b5278de235b",
   "metadata": {},
   "outputs": [],
   "source": [
    "goodreadsDF.to_csv(\"../Datasets/Image-Generation Data/goodreads_data_with_images.csv\",index=False)"
   ]
  }
 ],
 "metadata": {
  "kernelspec": {
   "display_name": "Python 3 (ipykernel)",
   "language": "python",
   "name": "python3"
  },
  "language_info": {
   "codemirror_mode": {
    "name": "ipython",
    "version": 3
   },
   "file_extension": ".py",
   "mimetype": "text/x-python",
   "name": "python",
   "nbconvert_exporter": "python",
   "pygments_lexer": "ipython3",
   "version": "3.9.18"
  }
 },
 "nbformat": 4,
 "nbformat_minor": 5
}
